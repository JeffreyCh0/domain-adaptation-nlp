{
 "cells": [
  {
   "cell_type": "code",
   "execution_count": 34,
   "metadata": {},
   "outputs": [],
   "source": [
    "import numpy as np\n",
    "import pandas as pd\n",
    "import torch\n",
    "import zipfile\n",
    "import bz2\n",
    "from transformers import DistilBertTokenizer, DistilBertModel\n",
    "from sklearn.model_selection import train_test_split"
   ]
  },
  {
   "cell_type": "markdown",
   "metadata": {},
   "source": [
    "# Data"
   ]
  },
  {
   "cell_type": "markdown",
   "metadata": {},
   "source": [
    "## 1. Twitter"
   ]
  },
  {
   "cell_type": "code",
   "execution_count": 4,
   "metadata": {},
   "outputs": [],
   "source": [
    "data_path = \"../data/\""
   ]
  },
  {
   "cell_type": "code",
   "execution_count": 105,
   "metadata": {},
   "outputs": [
    {
     "data": {
      "text/html": [
       "<div>\n",
       "<style scoped>\n",
       "    .dataframe tbody tr th:only-of-type {\n",
       "        vertical-align: middle;\n",
       "    }\n",
       "\n",
       "    .dataframe tbody tr th {\n",
       "        vertical-align: top;\n",
       "    }\n",
       "\n",
       "    .dataframe thead th {\n",
       "        text-align: right;\n",
       "    }\n",
       "</style>\n",
       "<table border=\"1\" class=\"dataframe\">\n",
       "  <thead>\n",
       "    <tr style=\"text-align: right;\">\n",
       "      <th></th>\n",
       "      <th>0</th>\n",
       "      <th>1</th>\n",
       "      <th>2</th>\n",
       "      <th>3</th>\n",
       "      <th>4</th>\n",
       "      <th>5</th>\n",
       "    </tr>\n",
       "  </thead>\n",
       "  <tbody>\n",
       "    <tr>\n",
       "      <th>0</th>\n",
       "      <td>0</td>\n",
       "      <td>1467810369</td>\n",
       "      <td>Mon Apr 06 22:19:45 PDT 2009</td>\n",
       "      <td>NO_QUERY</td>\n",
       "      <td>_TheSpecialOne_</td>\n",
       "      <td>@switchfoot http://twitpic.com/2y1zl - Awww, t...</td>\n",
       "    </tr>\n",
       "    <tr>\n",
       "      <th>1</th>\n",
       "      <td>0</td>\n",
       "      <td>1467810672</td>\n",
       "      <td>Mon Apr 06 22:19:49 PDT 2009</td>\n",
       "      <td>NO_QUERY</td>\n",
       "      <td>scotthamilton</td>\n",
       "      <td>is upset that he can't update his Facebook by ...</td>\n",
       "    </tr>\n",
       "    <tr>\n",
       "      <th>2</th>\n",
       "      <td>0</td>\n",
       "      <td>1467810917</td>\n",
       "      <td>Mon Apr 06 22:19:53 PDT 2009</td>\n",
       "      <td>NO_QUERY</td>\n",
       "      <td>mattycus</td>\n",
       "      <td>@Kenichan I dived many times for the ball. Man...</td>\n",
       "    </tr>\n",
       "    <tr>\n",
       "      <th>3</th>\n",
       "      <td>0</td>\n",
       "      <td>1467811184</td>\n",
       "      <td>Mon Apr 06 22:19:57 PDT 2009</td>\n",
       "      <td>NO_QUERY</td>\n",
       "      <td>ElleCTF</td>\n",
       "      <td>my whole body feels itchy and like its on fire</td>\n",
       "    </tr>\n",
       "    <tr>\n",
       "      <th>4</th>\n",
       "      <td>0</td>\n",
       "      <td>1467811193</td>\n",
       "      <td>Mon Apr 06 22:19:57 PDT 2009</td>\n",
       "      <td>NO_QUERY</td>\n",
       "      <td>Karoli</td>\n",
       "      <td>@nationwideclass no, it's not behaving at all....</td>\n",
       "    </tr>\n",
       "  </tbody>\n",
       "</table>\n",
       "</div>"
      ],
      "text/plain": [
       "   0           1                             2         3                4  \\\n",
       "0  0  1467810369  Mon Apr 06 22:19:45 PDT 2009  NO_QUERY  _TheSpecialOne_   \n",
       "1  0  1467810672  Mon Apr 06 22:19:49 PDT 2009  NO_QUERY    scotthamilton   \n",
       "2  0  1467810917  Mon Apr 06 22:19:53 PDT 2009  NO_QUERY         mattycus   \n",
       "3  0  1467811184  Mon Apr 06 22:19:57 PDT 2009  NO_QUERY          ElleCTF   \n",
       "4  0  1467811193  Mon Apr 06 22:19:57 PDT 2009  NO_QUERY           Karoli   \n",
       "\n",
       "                                                   5  \n",
       "0  @switchfoot http://twitpic.com/2y1zl - Awww, t...  \n",
       "1  is upset that he can't update his Facebook by ...  \n",
       "2  @Kenichan I dived many times for the ball. Man...  \n",
       "3    my whole body feels itchy and like its on fire   \n",
       "4  @nationwideclass no, it's not behaving at all....  "
      ]
     },
     "execution_count": 105,
     "metadata": {},
     "output_type": "execute_result"
    }
   ],
   "source": [
    "twitter_zip = zipfile.ZipFile(data_path + \"twitter/twitter.zip\")\n",
    "twitter = pd.read_csv(twitter_zip.open('training.1600000.processed.noemoticon.csv'),encoding='ISO-8859-1', header=None)\n",
    "twitter.head()"
   ]
  },
  {
   "cell_type": "code",
   "execution_count": 82,
   "metadata": {},
   "outputs": [],
   "source": [
    "y_tw = twitter[0].values\n",
    "y_tw[y_tw==4]=1\n",
    "X_tw = twitter[5].values\n",
    "\n",
    "X_train_val_tw, X_test_tw, y_train_val_tw, y_test_tw = train_test_split(X_tw, y_tw, test_size=0.33, random_state=7)\n",
    "X_train_tw, X_dev_tw, y_train_tw, y_dev_tw = train_test_split(X_train_val_tw, y_train_val_tw, test_size=0.33, random_state=7)"
   ]
  },
  {
   "cell_type": "markdown",
   "metadata": {},
   "source": [
    "## 2. Amazon"
   ]
  },
  {
   "cell_type": "code",
   "execution_count": 150,
   "metadata": {},
   "outputs": [],
   "source": [
    "amazon_train_file = bz2.BZ2File(data_path + 'amazon/train.ft.txt.bz2').readlines()\n",
    "amazon_test_file = bz2.BZ2File(data_path + 'amazon/test.ft.txt.bz2').readlines()"
   ]
  },
  {
   "cell_type": "code",
   "execution_count": 480,
   "metadata": {},
   "outputs": [],
   "source": [
    "amazon_train_file = [x.decode('utf-8') for x in amazon_train_file]\n",
    "amazon_test_file = [x.decode('utf-8') for x in amazon_test_file]"
   ]
  },
  {
   "cell_type": "code",
   "execution_count": 481,
   "metadata": {},
   "outputs": [],
   "source": [
    "amazon_train_file[0].find(\" \")\n",
    "def get_label_feature_amazon(file):\n",
    "    labels = []\n",
    "    reviews = []\n",
    "    for i, e in enumerate(file):\n",
    "        sep_pos = e.find(\" \")\n",
    "        label = 1 if e[:sep_pos]==\"__label__2\" else 0\n",
    "        review = e[(sep_pos+1):]\n",
    "        labels.append(label)\n",
    "        reviews.append(review)\n",
    "    return np.array(reviews), np.array(labels)"
   ]
  },
  {
   "cell_type": "code",
   "execution_count": 482,
   "metadata": {},
   "outputs": [],
   "source": [
    "X_train_val_az, y_train_val_az = get_label_feature_amazon(amazon_train_file)\n",
    "X_test_az, y_test_az = get_label_feature_amazon(amazon_train_file)\n",
    "X_train_az, X_dev_az, y_train_az, y_dev_az = train_test_split(X_train_val_az, y_train_val_az, test_size=0.33, random_state=7)"
   ]
  },
  {
   "cell_type": "code",
   "execution_count": 486,
   "metadata": {},
   "outputs": [
    {
     "data": {
      "text/plain": [
       "0.5095"
      ]
     },
     "execution_count": 486,
     "metadata": {},
     "output_type": "execute_result"
    }
   ],
   "source": [
    "sum(y_train_az[:2000])/len(y_train_az[:2000])"
   ]
  },
  {
   "cell_type": "code",
   "execution_count": 484,
   "metadata": {},
   "outputs": [
    {
     "data": {
      "text/plain": [
       "(2412000,)"
      ]
     },
     "execution_count": 484,
     "metadata": {},
     "output_type": "execute_result"
    }
   ],
   "source": [
    "y_train_az.shape"
   ]
  },
  {
   "cell_type": "markdown",
   "metadata": {},
   "source": [
    "## 3. Movie"
   ]
  },
  {
   "cell_type": "code",
   "execution_count": 121,
   "metadata": {},
   "outputs": [],
   "source": [
    "movie_zip = zipfile.ZipFile(data_path + \"movies/movie.zip\")"
   ]
  },
  {
   "cell_type": "code",
   "execution_count": 127,
   "metadata": {},
   "outputs": [],
   "source": [
    "movie_train = pd.read_csv(movie_zip.open('Train.csv'))\n",
    "movie_dev = pd.read_csv(movie_zip.open('Valid.csv'))\n",
    "movie_test = pd.read_csv(movie_zip.open('Test.csv'))"
   ]
  },
  {
   "cell_type": "code",
   "execution_count": 132,
   "metadata": {},
   "outputs": [],
   "source": [
    "X_train_mv = movie_train['text'].values\n",
    "X_dev_mv = movie_dev['text'].values\n",
    "X_test_mv = movie_test['text'].values\n",
    "\n",
    "y_train_mv = movie_train['label'].values\n",
    "y_dev_mv = movie_dev['label'].values\n",
    "y_test_mv = movie_test['label'].values"
   ]
  },
  {
   "cell_type": "code",
   "execution_count": 133,
   "metadata": {},
   "outputs": [
    {
     "data": {
      "text/plain": [
       "('I grew up (b. 1965) watching and loving the Thunderbirds. All my mates at school watched. We played \"Thunderbirds\" before school, during lunch and after school. We all wanted to be Virgil or Scott. No one wanted to be Alan. Counting down from 5 became an art form. I took my children to see the movie hoping they would get a glimpse of what I loved as a child. How bitterly disappointing. The only high point was the snappy theme tune. Not that it could compare with the original score of the Thunderbirds. Thankfully early Saturday mornings one television channel still plays reruns of the series Gerry Anderson and his wife created. Jonatha Frakes should hand in his directors chair, his version was completely hopeless. A waste of film. Utter rubbish. A CGI remake may be acceptable but replacing marionettes with Homo sapiens subsp. sapiens was a huge error of judgment.',\n",
       " 0)"
      ]
     },
     "execution_count": 133,
     "metadata": {},
     "output_type": "execute_result"
    }
   ],
   "source": [
    "X_train_mv[0], y_train_mv[0]"
   ]
  },
  {
   "cell_type": "markdown",
   "metadata": {},
   "source": [
    "## 4. Finance"
   ]
  },
  {
   "cell_type": "code",
   "execution_count": 157,
   "metadata": {},
   "outputs": [],
   "source": [
    "finance_file = pd.read_csv(data_path + \"/finance/archive/all-data.csv\", encoding='ISO-8859-1', header = None)"
   ]
  },
  {
   "cell_type": "code",
   "execution_count": 160,
   "metadata": {},
   "outputs": [],
   "source": [
    "finance =  finance_file[finance_file[0]!=\"neutral\"]"
   ]
  },
  {
   "cell_type": "code",
   "execution_count": 458,
   "metadata": {},
   "outputs": [],
   "source": [
    "y_fi = finance[0].values\n",
    "y_fi[y_fi==\"negative\"] = 0\n",
    "y_fi[y_fi==\"positive\"] = 1\n",
    "y_fi = y_fi.astype(\"int64\")\n",
    "X_fi = finance[1].values\n",
    "\n",
    "X_train_val_fi, X_test_fi, y_train_val_fi, y_test_fi = train_test_split(X_fi, y_fi, test_size=0.33, random_state=7)\n",
    "X_train_fi, X_dev_fi, y_train_fi, y_dev_fi = train_test_split(X_train_val_fi, y_train_val_fi, test_size=0.1, random_state=7)"
   ]
  },
  {
   "cell_type": "code",
   "execution_count": 459,
   "metadata": {},
   "outputs": [
    {
     "data": {
      "text/plain": [
       "((1185,), (1967,))"
      ]
     },
     "execution_count": 459,
     "metadata": {},
     "output_type": "execute_result"
    }
   ],
   "source": [
    "y_train_fi.shape, y_fi.shape # not enough data"
   ]
  },
  {
   "cell_type": "markdown",
   "metadata": {},
   "source": [
    "# Encode"
   ]
  },
  {
   "cell_type": "code",
   "execution_count": 7,
   "metadata": {},
   "outputs": [],
   "source": [
    "tokenizer_d = DistilBertTokenizer.from_pretrained('distilbert-base-uncased')\n",
    "model_d = DistilBertModel.from_pretrained('distilbert-base-uncased')"
   ]
  },
  {
   "cell_type": "code",
   "execution_count": 9,
   "metadata": {},
   "outputs": [
    {
     "data": {
      "text/plain": [
       "['@Jayme1988 well when you are younger Id agree but as we get older..marrying for money is the way to go ',\n",
       " '@Jackalltimelow Awee poor Jack, all alllone! ',\n",
       " 'my tummy hurts. ',\n",
       " 'mmmmm pa says my room has to be blue once again  ',\n",
       " '@xsameehx wish you were here my love. Our superhero trio is not the same as a duo only ',\n",
       " 'Watched War of the Worlds. Not bad. Kept seeing Kathy Bates tits flash in my head. ',\n",
       " 'Just had a really lovely conversation on omegle  I think i made a new friend',\n",
       " \"@tommcfly tom, isn't your fault, you're still the best \",\n",
       " '@catnip070 Caught a cold  cough cough.',\n",
       " \"@blacksocialite I think we staying at slice... I showed 255 my real I'd \"]"
      ]
     },
     "execution_count": 9,
     "metadata": {},
     "output_type": "execute_result"
    }
   ],
   "source": [
    "list(X_train)[:10]"
   ]
  },
  {
   "cell_type": "code",
   "execution_count": 460,
   "metadata": {},
   "outputs": [],
   "source": [
    "def tokenize_encode_sentences(tokenizer, model, input_sentences, output_path):\n",
    "    output = np.zeros([len(input_sentences), 768])\n",
    "    for i, x in enumerate(input_sentences): \n",
    "        output[i] = tokenize_encode_sentences_sample(tokenizer, model, [x])\n",
    "    np.save(output_path, output)\n",
    "    return output\n",
    "\n",
    "def tokenize_encode_sentences_sample(tokenizer, model, input_sentences):\n",
    "    encoded_input = tokenizer(input_sentences, return_tensors = 'pt', truncation = True, padding = True)\n",
    "    output = model(**encoded_input)[0][:,0,:].detach().numpy()\n",
    "    return output"
   ]
  },
  {
   "cell_type": "code",
   "execution_count": 167,
   "metadata": {},
   "outputs": [],
   "source": [
    "output_train_tw = tokenize_encode_sentences(tokenizer_d, model_d, list(X_train_tw[:2000]), \"../outputs/\" + \"encoded_twitter_train_2000\")\n",
    "output_dev_tw = tokenize_encode_sentences(tokenizer_d, model_d, list(X_dev_tw[:2000]), \"../outputs/\" + \"encoded_twitter_dev_2000\")"
   ]
  },
  {
   "cell_type": "code",
   "execution_count": 168,
   "metadata": {},
   "outputs": [],
   "source": [
    "output_train_az = tokenize_encode_sentences(tokenizer_d, model_d, list(X_train_az[:2000]), \"../outputs/\" + \"encoded_amazon_train_2000\")\n",
    "output_dev_az = tokenize_encode_sentences(tokenizer_d, model_d, list(X_dev_az[:2000]), \"../outputs/\" + \"encoded_amazon_dev_2000\")"
   ]
  },
  {
   "cell_type": "code",
   "execution_count": 169,
   "metadata": {},
   "outputs": [],
   "source": [
    "output_train_mv = tokenize_encode_sentences(tokenizer_d, model_d, list(X_train_mv[:2000]), \"../outputs/\" + \"encoded_movie_train_2000\")\n",
    "output_dev_mv = tokenize_encode_sentences(tokenizer_d, model_d, list(X_dev_mv[:2000]), \"../outputs/\" + \"encoded_movie_dev_2000\")"
   ]
  },
  {
   "cell_type": "code",
   "execution_count": 461,
   "metadata": {},
   "outputs": [],
   "source": [
    "output_train_fi = tokenize_encode_sentences(tokenizer_d, model_d, list(X_train_fi[:2000]), \"../outputs/\" + \"encoded_finance_train_2000\")\n",
    "output_dev_fi = tokenize_encode_sentences(tokenizer_d, model_d, list(X_dev_fi[:2000]), \"../outputs/\" + \"encoded_finance_dev_2000\")"
   ]
  },
  {
   "cell_type": "markdown",
   "metadata": {},
   "source": [
    "# Models"
   ]
  },
  {
   "cell_type": "code",
   "execution_count": 207,
   "metadata": {},
   "outputs": [],
   "source": [
    "from sklearn.linear_model import LogisticRegression\n",
    "from sklearn.svm import SVC\n",
    "\n",
    "lr = LogisticRegression(C=0.1, max_iter = 200000)\n",
    "\n",
    "datasets = [\"tw\", \"az\", \"mv\", \"fi\"]\n",
    "\n",
    "def results(model, datasets):\n",
    "    for s in datasets:\n",
    "        print(s)\n",
    "        model.fit(eval(\"output_train_\" + s), eval(\"y_train_\" + s)[:2000])\n",
    "        s_train = model.score(eval(\"output_train_\" + s), eval(\"y_train_\" + s)[:2000])\n",
    "        s_val = model.score(eval(\"output_dev_\" + s), eval(\"y_dev_\" + s)[:2000])\n",
    "        print(\"source train:\", s_train)\n",
    "        print(\"source val:\", s_val)\n",
    "        datasets_ts = datasets.copy()\n",
    "        datasets_ts.remove(s)\n",
    "        \n",
    "        for t in datasets_ts:\n",
    "            t_val = model.score(eval(\"output_train_\" + t), eval(\"y_train_\" + t)[:2000])\n",
    "            print(\"target \" + t + \":\", t_val)\n",
    "        print()"
   ]
  },
  {
   "cell_type": "code",
   "execution_count": 208,
   "metadata": {},
   "outputs": [
    {
     "name": "stdout",
     "output_type": "stream",
     "text": [
      "tw\n",
      "source train: 0.8\n",
      "source val: 0.751\n",
      "target az: 0.8065\n",
      "target mv: 0.758\n",
      "target fi: 0.7721088435374149\n",
      "\n",
      "az\n",
      "source train: 0.9015\n",
      "source val: 0.884\n",
      "target tw: 0.721\n",
      "target mv: 0.8185\n",
      "target fi: 0.8015873015873016\n",
      "\n",
      "mv\n",
      "source train: 0.87\n",
      "source val: 0.8575\n",
      "target tw: 0.7005\n",
      "target az: 0.8535\n",
      "target fi: 0.8344671201814059\n",
      "\n",
      "fi\n",
      "source train: 0.8820861678004536\n",
      "source val: 0.8344827586206897\n",
      "target tw: 0.711\n",
      "target az: 0.7675\n",
      "target mv: 0.7535\n",
      "\n"
     ]
    }
   ],
   "source": [
    "results(lr, datasets)"
   ]
  },
  {
   "cell_type": "markdown",
   "metadata": {},
   "source": [
    "# Conclusion:\n",
    "We can use: \n",
    "* tw --> fi\n",
    "* az --> mv\n",
    "* az --> fi\n",
    "* mv --> az\n",
    "* fi --> az (low priority, bc rarely finance is the source in real world)\n",
    "* fi --> mv (low priority, bc rarely finance is the source in real world)"
   ]
  },
  {
   "cell_type": "markdown",
   "metadata": {},
   "source": [
    "# Source to target groups"
   ]
  },
  {
   "cell_type": "code",
   "execution_count": 491,
   "metadata": {},
   "outputs": [],
   "source": [
    "for data_type in [\"az\", \"tw\", \"fi\", \"mv\"]:\n",
    "    exec(data_type + '3000 = np.load(\"../data/all_bert/encoded_' + data_type + '_train_3000.npy\")')"
   ]
  },
  {
   "cell_type": "code",
   "execution_count": 243,
   "metadata": {},
   "outputs": [],
   "source": [
    "from sklearn.metrics.pairwise import cosine_similarity\n",
    "import matplotlib.pyplot as plt"
   ]
  },
  {
   "cell_type": "code",
   "execution_count": 595,
   "metadata": {},
   "outputs": [],
   "source": [
    "def psuedo_labeling(X_source, y_source, X_ti, y_ti, model, conf = 0): \n",
    "    model = model\n",
    "    model.fit(X_source, y_source)\n",
    "    y_prob = model.predict_proba(X_ti)[:,0]\n",
    "    X_ti_keep = X_ti[(y_prob >= 0.5 + conf) | (y_prob < 0.5 - conf)]\n",
    "    y_pred = model.predict(X_ti_keep)\n",
    "    X_source_updated = np.concatenate((X_source, X_ti_keep), 0)\n",
    "    y_source_updated = np.concatenate((y_source, y_pred), 0)\n",
    "    return X_source_updated, y_source_updated\n",
    "\n",
    "def gradual_train(X_source, y_source, X_target, y_target, base_model, data_size=2000, group_size=5, plot_hist=True, conf = 0):\n",
    "    \n",
    "    # initial model:\n",
    "    model = base_model\n",
    "    model.fit(X_source, y_source)\n",
    "    original = model.score(X_target, y_target)\n",
    "    \n",
    "    # calculate distances\n",
    "    source_center = np.mean(X_source, 0)\n",
    "    dists = [1 - cosine_similarity(source_center.reshape(1,-1), x.reshape(1, -1))[0][0] for x in X_target]\n",
    "    if plot_hist:\n",
    "        plt.hist(dists, bins = 100)\n",
    "        plt.show()\n",
    "    \n",
    "    # create groups within targets and gradually train\n",
    "    dists = np.array(dists)\n",
    "    dists_order = np.argsort(dists)\n",
    "    dists_rank = np.argsort(dists_order)\n",
    "    \n",
    "    step = data_size/group_size\n",
    "    X_target_groups = []\n",
    "    y_target_groups = []\n",
    "    gradual_scores = []\n",
    "    X_source_updated = X_source\n",
    "    y_source_updated = y_source\n",
    "    for i in range(group_size):\n",
    "        subset_tf = (step * i <= dists_rank) & (dists_rank < step * (i+1))\n",
    "        X_ti = X_target[:data_size][subset_tf]\n",
    "        y_ti = y_target[:data_size][subset_tf]\n",
    "        X_target_groups.append(X_ti)\n",
    "        y_target_groups.append(y_ti)\n",
    "        X_source_updated, y_source_updated = psuedo_labeling(X_source_updated, y_source_updated, X_ti, y_ti, model, conf)\n",
    "        gradual_score = model.fit(X_source_updated, y_source_updated).score(X_target, y_target)\n",
    "        gradual_scores.append(gradual_score)\n",
    "    \n",
    "    model.fit(X_source_updated, y_source_updated)\n",
    "    gradual = model.score(X_target, y_target)\n",
    "    \n",
    "    print('{:.2f}'.format(original*100), ['{:.2f}'.format(elem*100) for elem in gradual_scores])\n",
    "    \n",
    "    return original, gradual"
   ]
  },
  {
   "cell_type": "code",
   "execution_count": 596,
   "metadata": {},
   "outputs": [],
   "source": [
    "def gradual_train_groups(X_source, y_source, X_target, y_target, base_model, data_size, group_range, conf=0):\n",
    "    accuracies = []\n",
    "    for i in range(group_range[0]+1, group_range[1]+1):\n",
    "        print(\"\\ngroup = \", i)\n",
    "        plot_hist = False\n",
    "        if i==1:\n",
    "            plot_hist = True\n",
    "        data_size = data_size\n",
    "        base_model = base_model\n",
    "        original, gradual = gradual_train(X_source, y_source, X_target, y_target, \n",
    "                                          base_model, data_size=data_size, group_size=i, plot_hist=plot_hist, conf=conf)\n",
    "        if i==1:\n",
    "            accuracies.append(original)\n",
    "        else:\n",
    "            accuracies.append(gradual)\n",
    "\n",
    "    plt.plot(accuracies)\n",
    "    plt.show()"
   ]
  },
  {
   "cell_type": "code",
   "execution_count": 598,
   "metadata": {},
   "outputs": [
    {
     "name": "stdout",
     "output_type": "stream",
     "text": [
      "\n",
      "group =  1\n"
     ]
    },
    {
     "data": {
      "image/png": "[encoded data removed]",
      "text/plain": [
       "<Figure size 432x288 with 1 Axes>"
      ]
     },
     "metadata": {
      "needs_background": "light"
     },
     "output_type": "display_data"
    },
    {
     "name": "stdout",
     "output_type": "stream",
     "text": [
      "81.75 ['81.55']\n",
      "\n",
      "group =  2\n",
      "81.75 ['81.95', '81.50']\n",
      "\n",
      "group =  3\n",
      "81.75 ['82.00', '81.70', '81.00']\n",
      "\n",
      "group =  4\n",
      "81.75 ['82.15', '81.50', '81.25', '80.90']\n",
      "\n",
      "group =  5\n",
      "81.75 ['82.15', '81.30', '80.95', '80.80', '80.55']\n",
      "\n",
      "group =  6\n",
      "81.75 ['82.05', '81.45', '80.95', '80.50', '80.30', '80.00']\n",
      "\n",
      "group =  7\n",
      "81.75 ['81.75', '81.60', '80.85', '80.50', '80.35', '80.20', '79.75']\n",
      "\n",
      "group =  8\n",
      "81.75 ['81.70', '81.60', '80.85', '80.20', '80.15', '79.75', '79.55', '79.65']\n",
      "\n",
      "group =  9\n",
      "81.75 ['81.90', '81.65', '80.85', '80.40', '80.35', '79.85', '79.40', '79.50', '79.45']\n",
      "\n",
      "group =  10\n",
      "81.75 ['81.95', '81.65', '81.50', '80.85', '80.15', '80.45', '80.20', '80.10', '80.05', '79.80']\n"
     ]
    },
    {
     "data": {
      "image/png": "[encoded data removed]",
      "text/plain": [
       "<Figure size 432x288 with 1 Axes>"
      ]
     },
     "metadata": {
      "needs_background": "light"
     },
     "output_type": "display_data"
    }
   ],
   "source": [
    "data_size = 2000\n",
    "base_model = LogisticRegression(max_iter = 200000)\n",
    "gradual_train_groups(output_train_az[:data_size], y_train_az[:data_size], output_train_mv[:data_size], y_train_mv[:data_size], \n",
    "                                      base_model, data_size=data_size, group_range=[0, 10], conf = 0.1)"
   ]
  },
  {
   "cell_type": "code",
   "execution_count": 599,
   "metadata": {},
   "outputs": [
    {
     "name": "stdout",
     "output_type": "stream",
     "text": [
      "\n",
      "group =  1\n"
     ]
    },
    {
     "data": {
      "image/png": "[encoded data removed]",
      "text/plain": [
       "<Figure size 432x288 with 1 Axes>"
      ]
     },
     "metadata": {
      "needs_background": "light"
     },
     "output_type": "display_data"
    },
    {
     "name": "stdout",
     "output_type": "stream",
     "text": [
      "81.75 ['81.50']\n",
      "\n",
      "group =  2\n",
      "81.75 ['82.00', '81.95']\n",
      "\n",
      "group =  3\n",
      "81.75 ['81.85', '81.25', '81.10']\n",
      "\n",
      "group =  4\n",
      "81.75 ['82.55', '81.75', '81.40', '81.20']\n",
      "\n",
      "group =  5\n",
      "81.75 ['82.15', '81.60', '81.45', '81.50', '81.35']\n",
      "\n",
      "group =  6\n",
      "81.75 ['82.05', '81.50', '81.05', '81.05', '81.10', '81.10']\n",
      "\n",
      "group =  7\n",
      "81.75 ['82.35', '81.75', '81.85', '81.65', '81.70', '81.70', '81.55']\n",
      "\n",
      "group =  8\n",
      "81.75 ['82.05', '81.10', '81.10', '80.75', '80.60', '80.75', '81.00', '80.90']\n",
      "\n",
      "group =  9\n",
      "81.75 ['82.10', '81.85', '81.65', '81.65', '81.45', '81.15', '81.35', '81.40', '81.40']\n",
      "\n",
      "group =  10\n",
      "81.75 ['81.85', '81.60', '81.40', '81.70', '81.60', '81.65', '81.20', '81.30', '81.25', '81.25']\n"
     ]
    },
    {
     "data": {
      "image/png": "[encoded data removed]",
      "text/plain": [
       "<Figure size 432x288 with 1 Axes>"
      ]
     },
     "metadata": {
      "needs_background": "light"
     },
     "output_type": "display_data"
    }
   ],
   "source": [
    "data_size = 2000\n",
    "base_model = LogisticRegression(max_iter = 200000)\n",
    "gradual_train_groups(output_train_az[:data_size], y_train_az[:data_size], output_train_mv[:data_size], y_train_mv[:data_size], \n",
    "                                      base_model, data_size=data_size, group_range=[0, 10], conf = 0)"
   ]
  },
  {
   "cell_type": "code",
   "execution_count": 602,
   "metadata": {},
   "outputs": [
    {
     "name": "stdout",
     "output_type": "stream",
     "text": [
      "\n",
      "group =  1\n"
     ]
    },
    {
     "data": {
      "image/png": "[encoded data removed]",
      "text/plain": [
       "<Figure size 432x288 with 1 Axes>"
      ]
     },
     "metadata": {
      "needs_background": "light"
     },
     "output_type": "display_data"
    },
    {
     "name": "stdout",
     "output_type": "stream",
     "text": [
      "81.30 ['81.40']\n",
      "\n",
      "group =  2\n",
      "81.30 ['81.50', '80.87']\n",
      "\n",
      "group =  3\n",
      "81.30 ['81.70', '81.53', '81.00']\n",
      "\n",
      "group =  4\n",
      "81.30 ['81.87', '81.50', '81.27', '80.97']\n",
      "\n",
      "group =  5\n",
      "81.30 ['82.17', '81.40', '80.83', '80.73', '80.47']\n",
      "\n",
      "group =  6\n",
      "81.30 ['82.00', '81.93', '80.93', '80.87', '80.93', '80.63']\n",
      "\n",
      "group =  7\n",
      "81.30 ['81.93', '81.73', '80.90', '80.47', '80.53', '80.30', '80.40']\n",
      "\n",
      "group =  8\n",
      "81.30 ['81.83', '81.27', '80.70', '80.17', '80.33', '80.10', '79.57', '79.40']\n",
      "\n",
      "group =  9\n",
      "81.30 ['81.93', '81.63', '81.27', '80.53', '80.47', '80.13', '79.97', '79.73', '79.63']\n",
      "\n",
      "group =  10\n",
      "81.30 ['82.10', '81.50', '81.40', '80.63', '80.20', '80.40', '80.20', '79.80', '79.57', '79.37']\n"
     ]
    },
    {
     "data": {
      "image/png": "[encoded data removed]",
      "text/plain": [
       "<Figure size 432x288 with 1 Axes>"
      ]
     },
     "metadata": {
      "needs_background": "light"
     },
     "output_type": "display_data"
    }
   ],
   "source": [
    "data_size = 3000\n",
    "base_model = LogisticRegression(max_iter = 200000)\n",
    "gradual_train_groups(az3000[:data_size], y_train_az[:data_size], mv3000[:data_size], y_train_mv[:data_size], \n",
    "                     base_model, data_size=data_size, group_range=[0, 10], conf = 0.1)"
   ]
  },
  {
   "cell_type": "code",
   "execution_count": 600,
   "metadata": {},
   "outputs": [
    {
     "name": "stdout",
     "output_type": "stream",
     "text": [
      "\n",
      "group =  1\n"
     ]
    },
    {
     "data": {
      "image/png": "[encoded data removed]",
      "text/plain": [
       "<Figure size 432x288 with 1 Axes>"
      ]
     },
     "metadata": {
      "needs_background": "light"
     },
     "output_type": "display_data"
    },
    {
     "name": "stdout",
     "output_type": "stream",
     "text": [
      "81.30 ['81.67']\n",
      "\n",
      "group =  2\n",
      "81.30 ['81.20', '80.97']\n",
      "\n",
      "group =  3\n",
      "81.30 ['81.60', '81.17', '81.03']\n",
      "\n",
      "group =  4\n",
      "81.30 ['81.80', '81.43', '81.43', '81.33']\n",
      "\n",
      "group =  5\n",
      "81.30 ['81.73', '81.57', '81.03', '80.93', '80.93']\n",
      "\n",
      "group =  6\n",
      "81.30 ['81.93', '82.23', '81.27', '81.40', '80.87', '80.77']\n",
      "\n",
      "group =  7\n",
      "81.30 ['81.63', '81.67', '81.07', '80.90', '80.77', '80.70', '80.57']\n",
      "\n",
      "group =  8\n",
      "81.30 ['81.70', '81.50', '81.03', '80.47', '80.83', '80.50', '80.47', '80.43']\n",
      "\n",
      "group =  9\n",
      "81.30 ['81.97', '82.00', '81.70', '81.00', '81.40', '81.07', '80.83', '80.67', '80.80']\n",
      "\n",
      "group =  10\n",
      "81.30 ['82.13', '82.13', '82.20', '81.80', '81.37', '81.37', '81.20', '80.63', '80.47', '80.57']\n"
     ]
    },
    {
     "data": {
      "image/png": "[encoded data removed]",
      "text/plain": [
       "<Figure size 432x288 with 1 Axes>"
      ]
     },
     "metadata": {
      "needs_background": "light"
     },
     "output_type": "display_data"
    }
   ],
   "source": [
    "data_size = 3000\n",
    "base_model = LogisticRegression(max_iter = 200000)\n",
    "gradual_train_groups(az3000[:data_size], y_train_az[:data_size], mv3000[:data_size], y_train_mv[:data_size], \n",
    "                     base_model, data_size=data_size, group_range=[0, 10], conf = 0)"
   ]
  },
  {
   "cell_type": "code",
   "execution_count": 603,
   "metadata": {},
   "outputs": [
    {
     "name": "stdout",
     "output_type": "stream",
     "text": [
      "\n",
      "group =  1\n"
     ]
    },
    {
     "data": {
      "image/png": "[encoded data removed]",
      "text/plain": [
       "<Figure size 432x288 with 1 Axes>"
      ]
     },
     "metadata": {
      "needs_background": "light"
     },
     "output_type": "display_data"
    },
    {
     "name": "stdout",
     "output_type": "stream",
     "text": [
      "80.84 ['81.27']\n",
      "\n",
      "group =  2\n",
      "80.84 ['81.27', '80.93']\n",
      "\n",
      "group =  3\n",
      "80.84 ['81.60', '81.86', '81.27']\n",
      "\n",
      "group =  4\n",
      "80.84 ['81.43', '81.10', '81.77', '81.01']\n",
      "\n",
      "group =  5\n",
      "80.84 ['81.69', '81.35', '81.43', '81.35', '81.27']\n",
      "\n",
      "group =  6\n",
      "80.84 ['81.69', '81.43', '81.10', '81.35', '81.27', '81.18']\n",
      "\n",
      "group =  7\n",
      "80.84 ['81.77', '80.68', '81.52', '81.01', '80.93', '80.76', '80.42']\n",
      "\n",
      "group =  8\n",
      "80.84 ['81.69', '81.10', '81.69', '81.69', '81.94', '82.19', '81.69', '81.43']\n",
      "\n",
      "group =  9\n",
      "80.84 ['81.43', '82.03', '82.03', '82.19', '82.62', '82.45', '82.70', '82.19', '82.28']\n",
      "\n",
      "group =  10\n",
      "80.84 ['81.18', '82.28', '81.60', '81.52', '81.43', '81.60', '81.94', '81.94', '82.11', '81.86']\n"
     ]
    },
    {
     "data": {
      "image/png": "[encoded data removed]",
      "text/plain": [
       "<Figure size 432x288 with 1 Axes>"
      ]
     },
     "metadata": {
      "needs_background": "light"
     },
     "output_type": "display_data"
    }
   ],
   "source": [
    "data_size = 1185\n",
    "base_model = LogisticRegression(max_iter = 200000)\n",
    "gradual_train_groups(output_train_az[:data_size], y_train_az[:data_size], output_train_fi[:data_size], y_train_fi[:data_size], \n",
    "                     base_model, data_size=data_size, group_range=[0, 10], conf = 0.1)"
   ]
  },
  {
   "cell_type": "code",
   "execution_count": 604,
   "metadata": {},
   "outputs": [
    {
     "name": "stdout",
     "output_type": "stream",
     "text": [
      "\n",
      "group =  1\n"
     ]
    },
    {
     "data": {
      "image/png": "[encoded data removed]",
      "text/plain": [
       "<Figure size 432x288 with 1 Axes>"
      ]
     },
     "metadata": {
      "needs_background": "light"
     },
     "output_type": "display_data"
    },
    {
     "name": "stdout",
     "output_type": "stream",
     "text": [
      "80.84 ['81.01']\n",
      "\n",
      "group =  2\n",
      "80.84 ['81.10', '81.01']\n",
      "\n",
      "group =  3\n",
      "80.84 ['81.43', '81.52', '81.43']\n",
      "\n",
      "group =  4\n",
      "80.84 ['80.59', '80.34', '80.25', '80.34']\n",
      "\n",
      "group =  5\n",
      "80.84 ['80.93', '80.34', '80.59', '80.51', '80.51']\n",
      "\n",
      "group =  6\n",
      "80.84 ['81.10', '80.68', '80.42', '80.34', '80.25', '80.25']\n",
      "\n",
      "group =  7\n",
      "80.84 ['80.84', '81.27', '81.43', '81.10', '81.18', '81.18', '81.27']\n",
      "\n",
      "group =  8\n",
      "80.84 ['81.01', '80.59', '81.27', '80.68', '81.01', '81.35', '81.27', '81.35']\n",
      "\n",
      "group =  9\n",
      "80.84 ['81.10', '81.01', '81.35', '81.01', '81.10', '81.01', '80.93', '80.76', '80.76']\n",
      "\n",
      "group =  10\n",
      "80.84 ['80.42', '80.93', '80.93', '80.76', '80.93', '81.27', '81.35', '81.27', '81.27', '81.27']\n"
     ]
    },
    {
     "data": {
      "image/png": "[encoded data removed]",
      "text/plain": [
       "<Figure size 432x288 with 1 Axes>"
      ]
     },
     "metadata": {
      "needs_background": "light"
     },
     "output_type": "display_data"
    }
   ],
   "source": [
    "data_size = 1185\n",
    "base_model = LogisticRegression(max_iter = 200000)\n",
    "gradual_train_groups(output_train_az[:data_size], y_train_az[:data_size], output_train_fi[:data_size], y_train_fi[:data_size], \n",
    "                     base_model, data_size=data_size, group_range=[0, 10], conf = 0)"
   ]
  },
  {
   "cell_type": "code",
   "execution_count": 605,
   "metadata": {},
   "outputs": [
    {
     "name": "stdout",
     "output_type": "stream",
     "text": [
      "\n",
      "group =  1\n"
     ]
    },
    {
     "data": {
      "image/png": "[encoded data removed]",
      "text/plain": [
       "<Figure size 432x288 with 1 Axes>"
      ]
     },
     "metadata": {
      "needs_background": "light"
     },
     "output_type": "display_data"
    },
    {
     "name": "stdout",
     "output_type": "stream",
     "text": [
      "79.24 ['80.17']\n",
      "\n",
      "group =  2\n",
      "79.24 ['80.00', '80.17']\n",
      "\n",
      "group =  3\n",
      "79.24 ['80.08', '80.08', '79.83']\n",
      "\n",
      "group =  4\n",
      "79.24 ['79.58', '80.25', '80.34', '80.17']\n",
      "\n",
      "group =  5\n",
      "79.24 ['79.41', '80.08', '80.42', '80.08', '80.25']\n",
      "\n",
      "group =  6\n",
      "79.24 ['79.24', '79.24', '79.16', '79.32', '79.41', '79.58']\n",
      "\n",
      "group =  7\n",
      "79.24 ['79.66', '80.25', '81.10', '81.27', '81.18', '80.93', '81.01']\n",
      "\n",
      "group =  8\n",
      "79.24 ['78.31', '79.66', '78.90', '79.24', '79.49', '79.41', '79.24', '79.24']\n",
      "\n",
      "group =  9\n",
      "79.24 ['79.16', '79.92', '80.51', '80.68', '80.59', '81.01', '80.76', '80.84', '80.93']\n",
      "\n",
      "group =  10\n",
      "79.24 ['78.57', '80.59', '81.86', '81.86', '81.60', '82.03', '82.19', '81.86', '82.28', '82.03']\n"
     ]
    },
    {
     "data": {
      "image/png": "[encoded data removed]",
      "text/plain": [
       "<Figure size 432x288 with 1 Axes>"
      ]
     },
     "metadata": {
      "needs_background": "light"
     },
     "output_type": "display_data"
    }
   ],
   "source": [
    "data_size = 1185\n",
    "base_model = LogisticRegression(max_iter = 200000)\n",
    "gradual_train_groups(output_train_fi[:data_size], y_train_fi[:data_size], output_train_az[:data_size], y_train_az[:data_size], \n",
    "                     base_model, data_size=data_size, group_range=[0, 10], conf = 0.1)"
   ]
  },
  {
   "cell_type": "code",
   "execution_count": 606,
   "metadata": {},
   "outputs": [
    {
     "name": "stdout",
     "output_type": "stream",
     "text": [
      "\n",
      "group =  1\n"
     ]
    },
    {
     "data": {
      "image/png": "[encoded data removed]",
      "text/plain": [
       "<Figure size 432x288 with 1 Axes>"
      ]
     },
     "metadata": {
      "needs_background": "light"
     },
     "output_type": "display_data"
    },
    {
     "name": "stdout",
     "output_type": "stream",
     "text": [
      "79.24 ['79.32']\n",
      "\n",
      "group =  2\n",
      "79.24 ['80.00', '80.08']\n",
      "\n",
      "group =  3\n",
      "79.24 ['80.59', '80.51', '80.59']\n",
      "\n",
      "group =  4\n",
      "79.24 ['80.76', '80.42', '80.68', '80.68']\n",
      "\n",
      "group =  5\n",
      "79.24 ['79.66', '79.58', '79.49', '79.75', '79.75']\n",
      "\n",
      "group =  6\n",
      "79.24 ['78.90', '78.65', '79.07', '78.99', '78.90', '78.73']\n",
      "\n",
      "group =  7\n",
      "79.24 ['79.24', '78.90', '79.24', '79.49', '79.49', '79.49', '79.49']\n",
      "\n",
      "group =  8\n",
      "79.24 ['78.06', '78.90', '78.73', '78.48', '78.57', '78.48', '78.48', '78.57']\n",
      "\n",
      "group =  9\n",
      "79.24 ['79.66', '80.17', '80.42', '80.17', '80.08', '80.17', '80.17', '80.25', '80.25']\n",
      "\n",
      "group =  10\n",
      "79.24 ['79.24', '80.00', '80.42', '80.34', '80.42', '80.59', '80.68', '80.68', '80.59', '80.68']\n"
     ]
    },
    {
     "data": {
      "image/png": "[encoded data removed]",
      "text/plain": [
       "<Figure size 432x288 with 1 Axes>"
      ]
     },
     "metadata": {
      "needs_background": "light"
     },
     "output_type": "display_data"
    }
   ],
   "source": [
    "data_size = 1185\n",
    "base_model = LogisticRegression(max_iter = 200000)\n",
    "gradual_train_groups(output_train_fi[:data_size], y_train_fi[:data_size], output_train_az[:data_size], y_train_az[:data_size], \n",
    "                     base_model, data_size=data_size, group_range=[0, 10], conf = 0)"
   ]
  },
  {
   "cell_type": "code",
   "execution_count": 607,
   "metadata": {},
   "outputs": [
    {
     "name": "stdout",
     "output_type": "stream",
     "text": [
      "\n",
      "group =  1\n"
     ]
    },
    {
     "data": {
      "image/png": "[encoded data removed]",
      "text/plain": [
       "<Figure size 432x288 with 1 Axes>"
      ]
     },
     "metadata": {
      "needs_background": "light"
     },
     "output_type": "display_data"
    },
    {
     "name": "stdout",
     "output_type": "stream",
     "text": [
      "78.55 ['79.20']\n",
      "\n",
      "group =  2\n",
      "78.55 ['78.45', '78.65']\n",
      "\n",
      "group =  3\n",
      "78.55 ['78.40', '78.65', '78.70']\n",
      "\n",
      "group =  4\n",
      "78.55 ['78.65', '78.45', '78.40', '78.10']\n",
      "\n",
      "group =  5\n",
      "78.55 ['77.75', '77.40', '77.15', '77.65', '77.10']\n",
      "\n",
      "group =  6\n",
      "78.55 ['78.05', '78.45', '77.85', '77.70', '77.90', '77.75']\n",
      "\n",
      "group =  7\n",
      "78.55 ['78.30', '78.65', '77.90', '78.10', '78.40', '78.10', '78.10']\n",
      "\n",
      "group =  8\n",
      "78.55 ['78.00', '78.20', '77.80', '78.00', '77.80', '77.60', '77.70', '77.40']\n",
      "\n",
      "group =  9\n",
      "78.55 ['77.35', '77.70', '77.65', '76.90', '76.95', '77.00', '77.25', '77.20', '76.75']\n",
      "\n",
      "group =  10\n",
      "78.55 ['76.90', '76.70', '76.95', '76.40', '76.50', '76.35', '76.00', '76.30', '76.05', '76.05']\n"
     ]
    },
    {
     "data": {
      "image/png": "[encoded data removed]",
      "text/plain": [
       "<Figure size 432x288 with 1 Axes>"
      ]
     },
     "metadata": {
      "needs_background": "light"
     },
     "output_type": "display_data"
    }
   ],
   "source": [
    "data_size = 2000\n",
    "base_model = LogisticRegression(max_iter = 200000)\n",
    "gradual_train_groups(output_train_tw[:data_size], y_train_tw[:data_size], output_train_az[:data_size], y_train_az[:data_size], \n",
    "                     base_model, data_size=data_size, group_range=[0, 10], conf = 0.1)"
   ]
  },
  {
   "cell_type": "code",
   "execution_count": 608,
   "metadata": {},
   "outputs": [
    {
     "name": "stdout",
     "output_type": "stream",
     "text": [
      "\n",
      "group =  1\n"
     ]
    },
    {
     "data": {
      "image/png": "[encoded data removed]",
      "text/plain": [
       "<Figure size 432x288 with 1 Axes>"
      ]
     },
     "metadata": {
      "needs_background": "light"
     },
     "output_type": "display_data"
    },
    {
     "name": "stdout",
     "output_type": "stream",
     "text": [
      "78.55 ['78.75']\n",
      "\n",
      "group =  2\n",
      "78.55 ['78.30', '78.45']\n",
      "\n",
      "group =  3\n",
      "78.55 ['78.20', '78.20', '78.40']\n",
      "\n",
      "group =  4\n",
      "78.55 ['78.20', '78.45', '78.45', '78.50']\n",
      "\n",
      "group =  5\n",
      "78.55 ['77.55', '77.35', '77.45', '77.30', '77.25']\n",
      "\n",
      "group =  6\n",
      "78.55 ['77.30', '77.45', '77.15', '76.95', '76.95', '76.95']\n",
      "\n",
      "group =  7\n",
      "78.55 ['77.95', '78.35', '78.25', '78.20', '78.45', '78.40', '78.35']\n",
      "\n",
      "group =  8\n",
      "78.55 ['77.90', '77.70', '77.45', '77.40', '77.20', '76.95', '76.95', '76.95']\n",
      "\n",
      "group =  9\n",
      "78.55 ['77.95', '78.10', '77.50', '77.65', '77.60', '77.95', '77.45', '77.40', '77.55']\n",
      "\n",
      "group =  10\n",
      "78.55 ['77.75', '77.65', '77.70', '77.55', '77.25', '77.15', '77.10', '77.25', '77.15', '77.30']\n"
     ]
    },
    {
     "data": {
      "image/png": "[encoded data removed]",
      "text/plain": [
       "<Figure size 432x288 with 1 Axes>"
      ]
     },
     "metadata": {
      "needs_background": "light"
     },
     "output_type": "display_data"
    }
   ],
   "source": [
    "data_size = 2000\n",
    "base_model = LogisticRegression(max_iter = 200000)\n",
    "gradual_train_groups(output_train_tw[:data_size], y_train_tw[:data_size], output_train_az[:data_size], y_train_az[:data_size], \n",
    "                     base_model, data_size=data_size, group_range=[0, 10], conf = 0)"
   ]
  },
  {
   "cell_type": "markdown",
   "metadata": {},
   "source": [
    "### explore confidence and sample weights"
   ]
  },
  {
   "cell_type": "code",
   "execution_count": 539,
   "metadata": {},
   "outputs": [],
   "source": [
    "lr = LogisticRegression(max_iter = 200000)\n",
    "lr.fit(output_train_az, y_train_az[:2000])\n",
    "probs = lr.predict_proba(output_train_az)"
   ]
  },
  {
   "cell_type": "code",
   "execution_count": 563,
   "metadata": {},
   "outputs": [],
   "source": [
    "single_probs = probs[:,0]"
   ]
  },
  {
   "cell_type": "code",
   "execution_count": 579,
   "metadata": {},
   "outputs": [
    {
     "data": {
      "text/plain": [
       "2000"
      ]
     },
     "execution_count": 579,
     "metadata": {},
     "output_type": "execute_result"
    }
   ],
   "source": [
    "len(single_probs[(single_probs>0.5) | (single_probs<=0.5) ])"
   ]
  },
  {
   "cell_type": "code",
   "execution_count": 564,
   "metadata": {},
   "outputs": [
    {
     "data": {
      "image/png": "[encoded data removed]",
      "text/plain": [
       "<Figure size 432x288 with 1 Axes>"
      ]
     },
     "metadata": {
      "needs_background": "light"
     },
     "output_type": "display_data"
    }
   ],
   "source": [
    "plt.hist(single_probs, bins=100)\n",
    "plt.show()"
   ]
  },
  {
   "cell_type": "markdown",
   "metadata": {},
   "source": [
    "## checking v1"
   ]
  },
  {
   "cell_type": "code",
   "execution_count": 395,
   "metadata": {},
   "outputs": [],
   "source": [
    "az_bert = np.mean(output_train_az,0)\n",
    "dists = []\n",
    "for e in output_train_mv:\n",
    "    dist = 1- cosine_similarity(az_bert.reshape(1, -1), e.reshape(1, -1))[0][0]\n",
    "    dists.append(dist)"
   ]
  },
  {
   "cell_type": "code",
   "execution_count": 396,
   "metadata": {},
   "outputs": [
    {
     "data": {
      "image/png": "[encoded data removed]",
      "text/plain": [
       "<Figure size 432x288 with 1 Axes>"
      ]
     },
     "metadata": {
      "needs_background": "light"
     },
     "output_type": "display_data"
    }
   ],
   "source": [
    "plt.hist(dists)\n",
    "plt.show()"
   ]
  },
  {
   "cell_type": "code",
   "execution_count": 412,
   "metadata": {},
   "outputs": [
    {
     "name": "stdout",
     "output_type": "stream",
     "text": [
      "0\n",
      "0.02226760322709498\n"
     ]
    }
   ],
   "source": [
    "dists = np.array(dists)\n",
    "dists_order = np.argsort(dists)\n",
    "dists_rank = np.argsort(dists_order)\n",
    "\n",
    "step = 2000/5\n",
    "target_x = []\n",
    "target_y = []\n",
    "\n",
    "for i in range(5):\n",
    "    subset_tf = (step*i <= dists_rank) & (dists_rank < step* (i+1))\n",
    "    t_x = output_train_mv[subset_tf]\n",
    "    t_y = y_train_mv[:2000][subset_tf]\n",
    "    target_x.append(t_x)\n",
    "    target_y.append(t_y)\n",
    "    \n",
    "print(dists_rank[892])\n",
    "print(dists[892])"
   ]
  },
  {
   "cell_type": "code",
   "execution_count": 444,
   "metadata": {},
   "outputs": [
    {
     "name": "stdout",
     "output_type": "stream",
     "text": [
      "Train:\n",
      "0.9315 \n",
      "\n",
      "Val:\n",
      "0.8175\n",
      "0.8215\n",
      "0.816\n",
      "0.8145\n",
      "0.815\n",
      "0.8135\n"
     ]
    }
   ],
   "source": [
    "lr = LogisticRegression(max_iter = 200000)\n",
    "lr.fit(output_train_az, y_train_az[:2000])\n",
    "print(\"Train:\")\n",
    "print(lr.score(output_train_az, y_train_az[:2000]), \"\\n\")\n",
    "print(\"Val:\")\n",
    "print(lr.score(output_train_mv, y_train_mv[:2000]))\n",
    "\n",
    "\n",
    "y_pred = lr.predict(target_x[0])\n",
    "X_train_az_t1 = np.concatenate((output_train_az, target_x[0]), 0)\n",
    "y_train_az_t1 = np.concatenate((y_train_az[:2000], y_pred), 0)\n",
    "lr.fit(X_train_az_t1, y_train_az_t1)\n",
    "print(lr.score(output_train_mv, y_train_mv[:2000]))\n",
    "\n",
    "\n",
    "y_pred = lr.predict(target_x[1])\n",
    "X_train_az_t1t2 = np.concatenate((X_train_az_t1, target_x[1]), 0)\n",
    "y_train_az_t1t2 = np.concatenate((y_train_az_t1, y_pred), 0)\n",
    "lr.fit(X_train_az_t1t2, y_train_az_t1t2)\n",
    "print(lr.score(output_train_mv, y_train_mv[:2000]))\n",
    "\n",
    "y_pred = lr.predict(target_x[2])\n",
    "X_train_az_t1t2t3 = np.concatenate((X_train_az_t1t2, target_x[2]), 0)\n",
    "y_train_az_t1t2t3 = np.concatenate((y_train_az_t1t2, y_pred), 0)\n",
    "lr.fit(X_train_az_t1t2t3, y_train_az_t1t2t3)\n",
    "print(lr.score(output_train_mv, y_train_mv[:2000]))\n",
    "\n",
    "y_pred = lr.predict(target_x[3])\n",
    "X_train_az_t1t2t3t4 = np.concatenate((X_train_az_t1t2t3, target_x[3]), 0)\n",
    "y_train_az_t1t2t3t4 = np.concatenate((y_train_az_t1t2t3, y_pred), 0)\n",
    "lr.fit(X_train_az_t1t2t3t4, y_train_az_t1t2t3t4)\n",
    "print(lr.score(output_train_mv, y_train_mv[:2000]))\n",
    "\n",
    "\n",
    "y_pred = lr.predict(target_x[4])\n",
    "X_train_az_t1t2t3t4t5 = np.concatenate((X_train_az_t1t2t3t4, target_x[4]), 0)\n",
    "y_train_az_t1t2t3t4t5 = np.concatenate((y_train_az_t1t2t3t4, y_pred), 0)\n",
    "lr.fit(X_train_az_t1t2t3t4t5, y_train_az_t1t2t3t4t5)\n",
    "print(lr.score(output_train_mv, y_train_mv[:2000]))"
   ]
  },
  {
   "cell_type": "markdown",
   "metadata": {},
   "source": [
    "## checking v2"
   ]
  },
  {
   "cell_type": "code",
   "execution_count": 430,
   "metadata": {},
   "outputs": [],
   "source": [
    "# from Young-Min with some edits\n",
    "\n",
    "def S2T(train_features, train_labels, test_features, test_labels):\n",
    "    lr_clf = LogisticRegression(max_iter = 200000) #edited \n",
    "    lr_clf.fit(train_features, train_labels)\n",
    "    return lr_clf.score(test_features, test_labels)\n",
    "\n",
    "def cos_dist(A, B):\n",
    "       return 1 - (np.dot(A, B)/(np.linalg.norm(A)*np.linalg.norm(B)))\n",
    "    \n",
    "def S2ti(train_features, train_labels, test_features, test_labels):\n",
    "    print(\"train.shape: \",train_labels.shape)\n",
    "    print(\"test.shape: \",test_labels.shape)    \n",
    "    source_center = np.mean(train_features, 0)\n",
    "    target_distances = [1-cosine_similarity(source_center.reshape(1,-1), x.reshape(1, -1))[0][0] for x in test_features] #edited\n",
    "    print(\"histogram of distance:\")\n",
    "    plt.hist(target_distances)\n",
    "    plt.show()\n",
    "    target_distances = [(i,x) for i,x in enumerate(target_distances)]\n",
    "    target_distances = sorted(target_distances, key=lambda x: x[1])\n",
    "    one_fifth = int(len(target_distances)/5)\n",
    "    target_1in5 = target_distances[:one_fifth]\n",
    "    target_2in5 = target_distances[one_fifth:2*one_fifth]\n",
    "    target_3in5 = target_distances[2*one_fifth:3*one_fifth]\n",
    "    target_4in5 = target_distances[3*one_fifth:4*one_fifth]\n",
    "    target_5in5 = target_distances[4*one_fifth:]\n",
    "    X_train = train_features[:]\n",
    "    y_train = train_labels[:]\n",
    "    y_pred_store = []\n",
    "    y_test_store = []\n",
    "    for target in [target_1in5,target_2in5,target_3in5,target_4in5,target_5in5]:\n",
    "        X_test = [test_features[i] for i,x in target]\n",
    "        y_test = [test_labels[i] for i,x in target]\n",
    "        lr_clf = LogisticRegression(max_iter = 200000) #edited \n",
    "        lr_clf.fit(X_train, y_train)\n",
    "        y_pred = lr_clf.predict(X_test)\n",
    "        X_train = np.concatenate((X_train, X_test), axis=0)\n",
    "        y_train = np.concatenate((y_train, y_pred), axis=0)\n",
    "        y_pred_store += y_pred.tolist()\n",
    "        y_test_store += y_test\n",
    "    output_score = [y_pred_store[i]==y_test_store[i] for i in range(len(y_test_store))]\n",
    "    gradual_score = sum(output_score)/len(output_score)\n",
    "    original_score = S2T(train_features, train_labels, test_features, test_labels)\n",
    "    return original_score, gradual_score"
   ]
  },
  {
   "cell_type": "code",
   "execution_count": 431,
   "metadata": {},
   "outputs": [
    {
     "name": "stdout",
     "output_type": "stream",
     "text": [
      "train.shape:  (2000,)\n",
      "test.shape:  (2000,)\n",
      "histogram of distance:\n"
     ]
    },
    {
     "data": {
      "image/png": "[encoded data removed]",
      "text/plain": [
       "<Figure size 432x288 with 1 Axes>"
      ]
     },
     "metadata": {
      "needs_background": "light"
     },
     "output_type": "display_data"
    },
    {
     "data": {
      "text/plain": [
       "(0.8175, 0.813)"
      ]
     },
     "execution_count": 431,
     "metadata": {},
     "output_type": "execute_result"
    }
   ],
   "source": [
    "S2ti(output_train_az, np.array(y_train_az[:2000]), \n",
    "     output_train_mv, np.array(y_train_mv[:2000]))"
   ]
  }
 ],
 "metadata": {
  "kernelspec": {
   "display_name": "Python 3",
   "language": "python",
   "name": "python3"
  },
  "language_info": {
   "codemirror_mode": {
    "name": "ipython",
    "version": 3
   },
   "file_extension": ".py",
   "mimetype": "text/x-python",
   "name": "python",
   "nbconvert_exporter": "python",
   "pygments_lexer": "ipython3",
   "version": "3.8.5"
  }
 },
 "nbformat": 4,
 "nbformat_minor": 4
}
