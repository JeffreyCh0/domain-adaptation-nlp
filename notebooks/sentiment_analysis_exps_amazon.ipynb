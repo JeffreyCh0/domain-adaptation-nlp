{
 "cells": [
  {
   "cell_type": "code",
   "execution_count": 11,
   "metadata": {},
   "outputs": [],
   "source": [
    "import pickle\n",
    "import numpy as np\n",
    "from sklearn.linear_model import LogisticRegression"
   ]
  },
  {
   "cell_type": "code",
   "execution_count": 4,
   "metadata": {},
   "outputs": [],
   "source": [
    "with open(\"../data/amazon_reviews/amazon_4.pickle\", \"rb\") as fr:\n",
    "    all_data = pickle.load(fr)\n",
    "\n",
    "lr = LogisticRegression(C=0.1, max_iter=200000)"
   ]
  },
  {
   "cell_type": "code",
   "execution_count": 6,
   "metadata": {},
   "outputs": [
    {
     "data": {
      "text/plain": [
       "(array([[ 0.04075839,  0.05910503,  0.13972619, ..., -0.06301638,\n",
       "          0.4450332 ,  0.23183767],\n",
       "        [-0.02973443, -0.03376829,  0.06094901, ..., -0.13512635,\n",
       "          0.35807544,  0.3044202 ],\n",
       "        [-0.06972118,  0.03179864, -0.11417986, ...,  0.04598498,\n",
       "          0.2473178 ,  0.08969769],\n",
       "        ...,\n",
       "        [-0.00496966,  0.04295776,  0.04823667, ..., -0.03258032,\n",
       "          0.40385824,  0.3256419 ],\n",
       "        [ 0.06021781,  0.00802504,  0.0266686 , ...,  0.102793  ,\n",
       "          0.29291397,  0.3384165 ],\n",
       "        [-0.05725368, -0.00675954, -0.21957697, ...,  0.03083247,\n",
       "          0.36693576,  0.36155334]], dtype=float32),\n",
       " array([1, 1, 1, ..., 0, 0, 0]),\n",
       " 'Home_and_Kitchen.train')"
      ]
     },
     "execution_count": 6,
     "metadata": {},
     "output_type": "execute_result"
    }
   ],
   "source": [
    "all_data[0]"
   ]
  },
  {
   "cell_type": "code",
   "execution_count": 8,
   "metadata": {},
   "outputs": [],
   "source": [
    "model = lr\n",
    "x_source = all_data[0][0]\n",
    "y_source = all_data[0][1]\n",
    "\n",
    "x_ti = all_data[1][0]\n",
    "y_ti = all_data[1][1]\n",
    "\n",
    "model.fit(x_source, y_source)\n",
    "y_prob_ti = model.predict_proba(x_ti)[:, 0]"
   ]
  },
  {
   "cell_type": "code",
   "execution_count": 9,
   "metadata": {},
   "outputs": [
    {
     "data": {
      "text/plain": [
       "array([0.92097903, 0.01119405, 0.00728437, ..., 0.91054763, 0.95807208,\n",
       "       0.27811553])"
      ]
     },
     "execution_count": 9,
     "metadata": {},
     "output_type": "execute_result"
    }
   ],
   "source": [
    "y_prob_ti"
   ]
  },
  {
   "cell_type": "code",
   "execution_count": 21,
   "metadata": {},
   "outputs": [
    {
     "data": {
      "text/plain": [
       "0.9209790288688218"
      ]
     },
     "execution_count": 21,
     "metadata": {},
     "output_type": "execute_result"
    }
   ],
   "source": [
    "sorted(y_prob_ti)[1376]"
   ]
  },
  {
   "cell_type": "code",
   "execution_count": 24,
   "metadata": {},
   "outputs": [
    {
     "data": {
      "text/plain": [
       "array([1376,  118,   79, ..., 1322, 1610,  640])"
      ]
     },
     "execution_count": 24,
     "metadata": {},
     "output_type": "execute_result"
    }
   ],
   "source": [
    "dists_order = np.argsort(y_prob_ti)\n",
    "dists_rank = np.argsort(dists_order)\n",
    "dists_rank"
   ]
  },
  {
   "cell_type": "code",
   "execution_count": 26,
   "metadata": {},
   "outputs": [
    {
     "data": {
      "text/plain": [
       "array([0.99736321, 0.99452938, 0.99640317, 0.99718171, 0.99627051,\n",
       "       0.99767376, 0.99484895, 0.99635455, 0.99915499, 0.99445269,\n",
       "       0.99845843, 0.99841683, 0.99748908, 0.99680308, 0.99768305,\n",
       "       0.996011  , 0.99623673, 0.99472014, 0.99896197, 0.99528275,\n",
       "       0.99671176, 0.99676131, 0.9963116 , 0.99469409, 0.99423182,\n",
       "       0.99804318, 0.99448706, 0.99653961, 0.99429368])"
      ]
     },
     "execution_count": 26,
     "metadata": {},
     "output_type": "execute_result"
    }
   ],
   "source": [
    "y_prob_ti[dists_rank > len(dists_rank) - 30]"
   ]
  }
 ],
 "metadata": {
  "kernelspec": {
   "display_name": "Python 3",
   "language": "python",
   "name": "python3"
  },
  "language_info": {
   "codemirror_mode": {
    "name": "ipython",
    "version": 3
   },
   "file_extension": ".py",
   "mimetype": "text/x-python",
   "name": "python",
   "nbconvert_exporter": "python",
   "pygments_lexer": "ipython3",
   "version": "3.8.5"
  }
 },
 "nbformat": 4,
 "nbformat_minor": 4
}
