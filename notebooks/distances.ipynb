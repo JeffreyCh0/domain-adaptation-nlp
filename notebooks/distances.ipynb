{
 "cells": [
  {
   "cell_type": "code",
   "execution_count": 3,
   "metadata": {},
   "outputs": [],
   "source": [
    "import sys\n",
    "sys.path.append(\"../src\")\n",
    "from utils import *\n",
    "import gudhi.wasserstein\n",
    "import numpy as np\n",
    "import json"
   ]
  },
  {
   "cell_type": "markdown",
   "metadata": {},
   "source": [
    "# Wasserstein"
   ]
  },
  {
   "cell_type": "code",
   "execution_count": 1,
   "metadata": {},
   "outputs": [],
   "source": [
    "data_path = \"../data/\"\n",
    "domains = [\"tw\", \"az\", \"mv\", \"fi\"]"
   ]
  },
  {
   "cell_type": "code",
   "execution_count": 4,
   "metadata": {},
   "outputs": [],
   "source": [
    "bert_dict = load_bert(data_path, domains, 2000)"
   ]
  },
  {
   "cell_type": "code",
   "execution_count": 7,
   "metadata": {},
   "outputs": [
    {
     "data": {
      "text/plain": [
       "array([[ 0.16879809,  0.20386301,  0.12485105, ...,  0.09144359,\n",
       "         0.42622706,  0.35297948],\n",
       "       [ 0.17979693,  0.17714846,  0.12755731, ..., -0.22662926,\n",
       "         0.56577098,  0.29162675],\n",
       "       [-0.03082147,  0.12462155,  0.33992708, ..., -0.12671785,\n",
       "         0.30370981,  0.40641078],\n",
       "       ...,\n",
       "       [ 0.01679105, -0.05794072,  0.26865858, ..., -0.09854423,\n",
       "         0.20043452,  0.32295102],\n",
       "       [-0.34330243,  0.08754142,  0.03121303, ..., -0.18173587,\n",
       "         0.49394789,  0.29293314],\n",
       "       [-0.00463631,  0.15481836,  0.00374458, ..., -0.15286168,\n",
       "         0.42362815,  0.28003868]])"
      ]
     },
     "execution_count": 7,
     "metadata": {},
     "output_type": "execute_result"
    }
   ],
   "source": [
    "bert_dict['tw']"
   ]
  },
  {
   "cell_type": "code",
   "execution_count": 53,
   "metadata": {},
   "outputs": [],
   "source": [
    "# costs = {}\n",
    "# for domain1 in domains:\n",
    "#     for domain2 in domains:\n",
    "#         key = domain1 + \"_\" + domain2\n",
    "#         cost, _ = gudhi.wasserstein.wasserstein_distance(bert_dict[domain1 + \"2000\"], bert_dict[domain2 + \"2000\"], matching=True, order=1, internal_p=2)\n",
    "#         costs[key] = cost\n",
    "costs"
   ]
  },
  {
   "cell_type": "code",
   "execution_count": 8,
   "metadata": {},
   "outputs": [],
   "source": [
    "costs_matching_false = {}\n",
    "for domain1 in domains:\n",
    "    for domain2 in domains:\n",
    "        key = domain1 + \"_to_\" + domain2\n",
    "        cost = gudhi.wasserstein.wasserstein_distance(bert_dict[domain1], bert_dict[domain2], matching = False, order=1, internal_p=2)\n",
    "        costs_matching_false[key] = cost"
   ]
  },
  {
   "cell_type": "code",
   "execution_count": 9,
   "metadata": {},
   "outputs": [
    {
     "data": {
      "text/plain": [
       "{'tw_to_tw': -259.58421784066746,\n",
       " 'tw_to_az': -208.77176818410055,\n",
       " 'tw_to_mv': -341.0015264568349,\n",
       " 'tw_to_fi': -56.293118772074045,\n",
       " 'az_to_tw': -208.77176818410112,\n",
       " 'az_to_az': -359.29168516258244,\n",
       " 'az_to_mv': -416.22717321514114,\n",
       " 'az_to_fi': -131.51876553038102,\n",
       " 'mv_to_tw': -341.00152645683335,\n",
       " 'mv_to_az': -416.2271732151396,\n",
       " 'mv_to_mv': -578.0109606507617,\n",
       " 'mv_to_fi': -263.74852380311336,\n",
       " 'fi_to_tw': -56.29311877207405,\n",
       " 'fi_to_az': -131.5187655303806,\n",
       " 'fi_to_mv': -263.7485238031135,\n",
       " 'fi_to_fi': -79.50584750246301}"
      ]
     },
     "execution_count": 9,
     "metadata": {},
     "output_type": "execute_result"
    }
   ],
   "source": [
    "costs_matching_false"
   ]
  },
  {
   "cell_type": "code",
   "execution_count": 34,
   "metadata": {},
   "outputs": [],
   "source": [
    "with open('../outputs/accuracies_ti_all_domains.json') as f:\n",
    "    accuracies_ti = json.load(f)\n",
    "\n",
    "# print(accuracies_ti)\n",
    "\n",
    "t1_accuracies = {}\n",
    "for exp in accuracies_ti:\n",
    "    t1_accuracies_exp = []\n",
    "    for group in accuracies_ti[exp]:\n",
    "        if group != \"no_self_train_adaptation_score\":\n",
    "            t1_accuracies_exp.append(accuracies_ti[exp][group][0])\n",
    "        else:\n",
    "            t1_accuracies_exp.append(accuracies_ti[exp][group])\n",
    "    t1_accuracies[exp] = t1_accuracies_exp\n",
    "\n",
    "# print(t1_accuracies)\n",
    "\n",
    "tn_accuracies = {}\n",
    "for exp in accuracies_ti:\n",
    "    tn_accuracies_exp = []\n",
    "    for group in accuracies_ti[exp]:\n",
    "        if group != \"no_self_train_adaptation_score\":\n",
    "            tn_accuracies_exp.append(accuracies_ti[exp][group][-1])\n",
    "        else:\n",
    "            tn_accuracies_exp.append(accuracies_ti[exp][group])\n",
    "    tn_accuracies[exp] = tn_accuracies_exp\n",
    "\n",
    "# print(tn_accuracies)"
   ]
  },
  {
   "cell_type": "code",
   "execution_count": 35,
   "metadata": {},
   "outputs": [],
   "source": [
    "st_accuracies_improv_perc = {}\n",
    "for exp in t1_accuracies:\n",
    "    st_accuracies_improv_perc[exp] = (t1_accuracies[exp][1] - t1_accuracies[exp][0])/t1_accuracies[exp][0]*100\n",
    "    \n",
    "st_accuracies_improv = {}\n",
    "for exp in t1_accuracies:\n",
    "    st_accuracies_improv[exp] = (t1_accuracies[exp][1] - t1_accuracies[exp][0])\n",
    "    \n",
    "st_accuracies = {}\n",
    "for exp in t1_accuracies:\n",
    "    st_accuracies[exp] = t1_accuracies[exp][:4]"
   ]
  },
  {
   "cell_type": "code",
   "execution_count": 59,
   "metadata": {},
   "outputs": [
    {
     "data": {
      "text/plain": [
       "({'tw_tw': -259.58421784066746,\n",
       "  'tw_az': -208.77176818410055,\n",
       "  'tw_mv': -341.0015264568349,\n",
       "  'tw_fi': -56.293118772074045,\n",
       "  'az_tw': -208.77176818410112,\n",
       "  'az_az': -359.29168516258244,\n",
       "  'az_mv': -416.22717321514114,\n",
       "  'az_fi': -131.51876553038102,\n",
       "  'mv_tw': -341.00152645683335,\n",
       "  'mv_az': -416.2271732151396,\n",
       "  'mv_mv': -578.0109606507617,\n",
       "  'mv_fi': -263.74852380311336,\n",
       "  'fi_tw': -56.29311877207405,\n",
       "  'fi_az': -131.5187655303806,\n",
       "  'fi_mv': -263.7485238031135,\n",
       "  'fi_fi': -79.50584750246301},\n",
       " {'tw_to_tw': -0.0024999999999999467,\n",
       "  'tw_to_az': 0.0020000000000000018,\n",
       "  'tw_to_mv': -0.0030000000000000027,\n",
       "  'tw_to_fi': 0.0008438818565401629,\n",
       "  'az_to_tw': -0.00649999999999995,\n",
       "  'az_to_az': 0.0,\n",
       "  'az_to_mv': -0.0025000000000000577,\n",
       "  'az_to_fi': 0.0016877637130801038,\n",
       "  'mv_to_tw': 0.0015000000000000568,\n",
       "  'mv_to_az': -0.0010000000000000009,\n",
       "  'mv_to_mv': -0.0004999999999999449,\n",
       "  'mv_to_fi': -0.0008438818565400519,\n",
       "  'fi_to_tw': 0.0,\n",
       "  'fi_to_az': 0.0008438818565400519,\n",
       "  'fi_to_mv': 0.0016877637130802148,\n",
       "  'fi_to_fi': 0.0})"
      ]
     },
     "execution_count": 59,
     "metadata": {},
     "output_type": "execute_result"
    }
   ],
   "source": [
    "costs_matching_false, st_accuracies_improv, "
   ]
  },
  {
   "cell_type": "code",
   "execution_count": 63,
   "metadata": {},
   "outputs": [
    {
     "data": {
      "image/png": "[encoded data removed]",
      "text/plain": [
       "<Figure size 432x288 with 1 Axes>"
      ]
     },
     "metadata": {
      "needs_background": "light"
     },
     "output_type": "display_data"
    }
   ],
   "source": [
    "plt.scatter(costs_matching_false.values(), st_accuracies_improv.values())\n",
    "plt.show()"
   ]
  },
  {
   "cell_type": "markdown",
   "metadata": {},
   "source": [
    "# Maximum Mean Distance"
   ]
  },
  {
   "cell_type": "code",
   "execution_count": 12,
   "metadata": {},
   "outputs": [],
   "source": [
    "# https://www.kaggle.com/onurtunali/maximum-mean-discrepancy\n",
    "import numpy as np\n",
    "import matplotlib.pyplot as plt\n",
    "import torch\n",
    "from scipy.stats import multivariate_normal\n",
    "from scipy.stats import dirichlet \n",
    "from torch.distributions.multivariate_normal import MultivariateNormal "
   ]
  },
  {
   "cell_type": "code",
   "execution_count": 49,
   "metadata": {},
   "outputs": [],
   "source": [
    "# device = torch.device(\"cuda\" if torch.cuda.is_available() else \"cpu\")\n",
    "\n",
    "def MMD(x, y, kernel):\n",
    "    \"\"\"Emprical maximum mean discrepancy. The lower the result\n",
    "       the more evidence that distributions are the same.\n",
    "\n",
    "    Args:\n",
    "        x: first sample, distribution P\n",
    "        y: second sample, distribution Q\n",
    "        kernel: kernel type such as \"multiscale\" or \"rbf\"\n",
    "    \"\"\"\n",
    "    xx, yy, zz = torch.mm(x, x.t()), torch.mm(y, y.t()), torch.mm(x, y.t())\n",
    "    rx = (xx.diag().unsqueeze(0).expand_as(xx))\n",
    "    ry = (yy.diag().unsqueeze(0).expand_as(yy))\n",
    "    \n",
    "    dxx = rx.t() + rx - 2. * xx # Used for A in (1)\n",
    "    dyy = ry.t() + ry - 2. * yy # Used for B in (1)\n",
    "    dxy = rx.t() + ry - 2. * zz # Used for C in (1)\n",
    "    \n",
    "    XX, YY, XY = (torch.zeros(xx.shape).to(device),\n",
    "                  torch.zeros(xx.shape).to(device),\n",
    "                  torch.zeros(xx.shape).to(device))\n",
    "    \n",
    "    if kernel == \"multiscale\":\n",
    "        \n",
    "        bandwidth_range = [0.2, 0.5, 0.9, 1.3]\n",
    "        for a in bandwidth_range:\n",
    "            XX += a**2 * (a**2 + dxx)**-1\n",
    "            YY += a**2 * (a**2 + dyy)**-1\n",
    "            XY += a**2 * (a**2 + dxy)**-1\n",
    "            \n",
    "    if kernel == \"rbf\":\n",
    "      \n",
    "        bandwidth_range = [10, 15, 20, 50]\n",
    "        for a in bandwidth_range:\n",
    "            XX += torch.exp(-0.5*dxx/a)\n",
    "            YY += torch.exp(-0.5*dyy/a)\n",
    "            XY += torch.exp(-0.5*dxy/a)\n",
    "\n",
    "    return torch.mean(XX + YY - 2. * XY)"
   ]
  },
  {
   "cell_type": "code",
   "execution_count": 57,
   "metadata": {},
   "outputs": [],
   "source": [
    "mdd_multi ={}\n",
    "for source in [\"tw\", \"az\", \"mv\"]:\n",
    "    for target in [\"tw\", \"az\", \"mv\"]:\n",
    "        mdd_multi[source + \"_to_\" + target] = MMD(torch.Tensor(bert_dict[source]), torch.Tensor(bert_dict[target]), kernel=\"multiscale\").item()\n",
    "        \n",
    "mdd_rbf ={}\n",
    "for source in [\"tw\", \"az\", \"mv\"]:\n",
    "    for target in [\"tw\", \"az\", \"mv\"]:\n",
    "        mdd_rbf[source + \"_to_\" + target] = MMD(torch.Tensor(bert_dict[source]), torch.Tensor(bert_dict[target]), kernel=\"rbf\").item()"
   ]
  },
  {
   "cell_type": "code",
   "execution_count": 58,
   "metadata": {},
   "outputs": [
    {
     "data": {
      "text/plain": [
       "({'tw_to_tw': 0.0,\n",
       "  'tw_to_az': 0.05946696922183037,\n",
       "  'tw_to_mv': 0.11865703761577606,\n",
       "  'az_to_tw': 0.059466976672410965,\n",
       "  'az_to_az': 0.0,\n",
       "  'az_to_mv': 0.059931132942438126,\n",
       "  'mv_to_tw': 0.11865704506635666,\n",
       "  'mv_to_az': 0.059931132942438126,\n",
       "  'mv_to_mv': 0.0},\n",
       " {'tw_to_tw': 0.0,\n",
       "  'tw_to_az': 0.6604963541030884,\n",
       "  'tw_to_mv': 1.2572532892227173,\n",
       "  'az_to_tw': 0.6604964137077332,\n",
       "  'az_to_az': 0.0,\n",
       "  'az_to_mv': 0.5300790667533875,\n",
       "  'mv_to_tw': 1.2572532892227173,\n",
       "  'mv_to_az': 0.5300790071487427,\n",
       "  'mv_to_mv': 0.0})"
      ]
     },
     "execution_count": 58,
     "metadata": {},
     "output_type": "execute_result"
    }
   ],
   "source": [
    "mdd_multi, mdd_rbf"
   ]
  },
  {
   "cell_type": "code",
   "execution_count": 59,
   "metadata": {},
   "outputs": [
    {
     "data": {
      "image/png": "[encoded data removed]",
      "text/plain": [
       "<Figure size 432x288 with 1 Axes>"
      ]
     },
     "metadata": {
      "needs_background": "light"
     },
     "output_type": "display_data"
    },
    {
     "data": {
      "image/png": "[encoded data removed]",
      "text/plain": [
       "<Figure size 432x288 with 1 Axes>"
      ]
     },
     "metadata": {
      "needs_background": "light"
     },
     "output_type": "display_data"
    }
   ],
   "source": [
    "imprv = {}\n",
    "for t in st_accuracies_improv:\n",
    "    if t in mdd:\n",
    "        imprv[t] = st_accuracies_improv[t]\n",
    "imprv\n",
    "\n",
    "st_accuracies_improv\n",
    "plt.scatter(mdd_multi.values(), imprv.values())\n",
    "plt.show()\n",
    "\n",
    "st_accuracies_improv\n",
    "plt.scatter(mdd_rbf.values(), imprv.values())\n",
    "plt.show()"
   ]
  },
  {
   "cell_type": "markdown",
   "metadata": {},
   "source": [
    "# Fisher\n",
    "https://sthalles.github.io/fisher-linear-discriminant/"
   ]
  },
  {
   "cell_type": "code",
   "execution_count": null,
   "metadata": {},
   "outputs": [],
   "source": []
  }
 ],
 "metadata": {
  "kernelspec": {
   "display_name": "Python 3",
   "language": "python",
   "name": "python3"
  },
  "language_info": {
   "codemirror_mode": {
    "name": "ipython",
    "version": 3
   },
   "file_extension": ".py",
   "mimetype": "text/x-python",
   "name": "python",
   "nbconvert_exporter": "python",
   "pygments_lexer": "ipython3",
   "version": "3.8.5"
  }
 },
 "nbformat": 4,
 "nbformat_minor": 4
}
