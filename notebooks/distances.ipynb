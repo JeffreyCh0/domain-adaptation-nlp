{
 "cells": [
  {
   "cell_type": "code",
   "execution_count": 50,
   "metadata": {},
   "outputs": [],
   "source": [
    "import sys\n",
    "sys.path.append(\"../src\")\n",
    "from utils import *\n",
    "import gudhi.wasserstein\n",
    "import numpy as np\n",
    "import json"
   ]
  },
  {
   "cell_type": "markdown",
   "metadata": {},
   "source": [
    "# Wasserstein"
   ]
  },
  {
   "cell_type": "code",
   "execution_count": 51,
   "metadata": {},
   "outputs": [],
   "source": [
    "data_path = \"../data/\"\n",
    "domains = [\"tw\", \"az\", \"mv\", \"fi\"]"
   ]
  },
  {
   "cell_type": "code",
   "execution_count": 8,
   "metadata": {},
   "outputs": [],
   "source": [
    "bert_dict = load_bert(data_path, domains, 2000)"
   ]
  },
  {
   "cell_type": "code",
   "execution_count": 10,
   "metadata": {},
   "outputs": [
    {
     "data": {
      "text/plain": [
       "array([[ 0.16879809,  0.20386301,  0.12485105, ...,  0.09144359,\n",
       "         0.42622706,  0.35297948],\n",
       "       [ 0.17979693,  0.17714846,  0.12755731, ..., -0.22662926,\n",
       "         0.56577098,  0.29162675],\n",
       "       [-0.03082147,  0.12462155,  0.33992708, ..., -0.12671785,\n",
       "         0.30370981,  0.40641078],\n",
       "       ...,\n",
       "       [ 0.01679105, -0.05794072,  0.26865858, ..., -0.09854423,\n",
       "         0.20043452,  0.32295102],\n",
       "       [-0.34330243,  0.08754142,  0.03121303, ..., -0.18173587,\n",
       "         0.49394789,  0.29293314],\n",
       "       [-0.00463631,  0.15481836,  0.00374458, ..., -0.15286168,\n",
       "         0.42362815,  0.28003868]])"
      ]
     },
     "execution_count": 10,
     "metadata": {},
     "output_type": "execute_result"
    }
   ],
   "source": [
    "bert_dict[\"tw2000\"]"
   ]
  },
  {
   "cell_type": "code",
   "execution_count": 53,
   "metadata": {},
   "outputs": [],
   "source": [
    "# costs = {}\n",
    "# for domain1 in domains:\n",
    "#     for domain2 in domains:\n",
    "#         key = domain1 + \"_\" + domain2\n",
    "#         cost, _ = gudhi.wasserstein.wasserstein_distance(bert_dict[domain1 + \"2000\"], bert_dict[domain2 + \"2000\"], matching=True, order=1, internal_p=2)\n",
    "#         costs[key] = cost"
   ]
  },
  {
   "cell_type": "code",
   "execution_count": 54,
   "metadata": {},
   "outputs": [],
   "source": [
    "# costs"
   ]
  },
  {
   "cell_type": "code",
   "execution_count": 22,
   "metadata": {},
   "outputs": [],
   "source": [
    "costs_matching_false = {}\n",
    "for domain1 in domains:\n",
    "    for domain2 in domains:\n",
    "        key = domain1 + \"_to_\" + domain2\n",
    "        cost = gudhi.wasserstein.wasserstein_distance(bert_dict[domain1 + \"2000\"], bert_dict[domain2 + \"2000\"], matching = False, order=1, internal_p=2)\n",
    "        costs_matching_false[key] = cost"
   ]
  },
  {
   "cell_type": "code",
   "execution_count": 55,
   "metadata": {},
   "outputs": [
    {
     "data": {
      "text/plain": [
       "{'tw_tw': -259.58421784066746,\n",
       " 'tw_az': -208.77176818410055,\n",
       " 'tw_mv': -341.0015264568349,\n",
       " 'tw_fi': -56.293118772074045,\n",
       " 'az_tw': -208.77176818410112,\n",
       " 'az_az': -359.29168516258244,\n",
       " 'az_mv': -416.22717321514114,\n",
       " 'az_fi': -131.51876553038102,\n",
       " 'mv_tw': -341.00152645683335,\n",
       " 'mv_az': -416.2271732151396,\n",
       " 'mv_mv': -578.0109606507617,\n",
       " 'mv_fi': -263.74852380311336,\n",
       " 'fi_tw': -56.29311877207405,\n",
       " 'fi_az': -131.5187655303806,\n",
       " 'fi_mv': -263.7485238031135,\n",
       " 'fi_fi': -79.50584750246301}"
      ]
     },
     "execution_count": 55,
     "metadata": {},
     "output_type": "execute_result"
    }
   ],
   "source": [
    "costs_matching_false"
   ]
  },
  {
   "cell_type": "code",
   "execution_count": 56,
   "metadata": {},
   "outputs": [],
   "source": [
    "with open('../outputs/accuracies_ti_all_domains.json') as f:\n",
    "    accuracies_ti = json.load(f)\n",
    "\n",
    "# print(accuracies_ti)\n",
    "\n",
    "t1_accuracies = {}\n",
    "for exp in accuracies_ti:\n",
    "    t1_accuracies_exp = []\n",
    "    for group in accuracies_ti[exp]:\n",
    "        if group != \"no_self_train_adaptation_score\":\n",
    "            t1_accuracies_exp.append(accuracies_ti[exp][group][0])\n",
    "        else:\n",
    "            t1_accuracies_exp.append(accuracies_ti[exp][group])\n",
    "    t1_accuracies[exp] = t1_accuracies_exp\n",
    "\n",
    "# print(t1_accuracies)\n",
    "\n",
    "tn_accuracies = {}\n",
    "for exp in accuracies_ti:\n",
    "    tn_accuracies_exp = []\n",
    "    for group in accuracies_ti[exp]:\n",
    "        if group != \"no_self_train_adaptation_score\":\n",
    "            tn_accuracies_exp.append(accuracies_ti[exp][group][-1])\n",
    "        else:\n",
    "            tn_accuracies_exp.append(accuracies_ti[exp][group])\n",
    "    tn_accuracies[exp] = tn_accuracies_exp\n",
    "\n",
    "# print(tn_accuracies)"
   ]
  },
  {
   "cell_type": "code",
   "execution_count": 57,
   "metadata": {},
   "outputs": [],
   "source": [
    "st_accuracies_improv_perc = {}\n",
    "for exp in t1_accuracies:\n",
    "    st_accuracies_improv_perc[exp] = (t1_accuracies[exp][1] - t1_accuracies[exp][0])/t1_accuracies[exp][0]*100\n",
    "    \n",
    "st_accuracies_improv = {}\n",
    "for exp in t1_accuracies:\n",
    "    st_accuracies_improv[exp] = (t1_accuracies[exp][1] - t1_accuracies[exp][0])\n",
    "    \n",
    "st_accuracies = {}\n",
    "for exp in t1_accuracies:\n",
    "    st_accuracies[exp] = t1_accuracies[exp][:4]"
   ]
  },
  {
   "cell_type": "code",
   "execution_count": 59,
   "metadata": {},
   "outputs": [
    {
     "data": {
      "text/plain": [
       "({'tw_tw': -259.58421784066746,\n",
       "  'tw_az': -208.77176818410055,\n",
       "  'tw_mv': -341.0015264568349,\n",
       "  'tw_fi': -56.293118772074045,\n",
       "  'az_tw': -208.77176818410112,\n",
       "  'az_az': -359.29168516258244,\n",
       "  'az_mv': -416.22717321514114,\n",
       "  'az_fi': -131.51876553038102,\n",
       "  'mv_tw': -341.00152645683335,\n",
       "  'mv_az': -416.2271732151396,\n",
       "  'mv_mv': -578.0109606507617,\n",
       "  'mv_fi': -263.74852380311336,\n",
       "  'fi_tw': -56.29311877207405,\n",
       "  'fi_az': -131.5187655303806,\n",
       "  'fi_mv': -263.7485238031135,\n",
       "  'fi_fi': -79.50584750246301},\n",
       " {'tw_to_tw': -0.0024999999999999467,\n",
       "  'tw_to_az': 0.0020000000000000018,\n",
       "  'tw_to_mv': -0.0030000000000000027,\n",
       "  'tw_to_fi': 0.0008438818565401629,\n",
       "  'az_to_tw': -0.00649999999999995,\n",
       "  'az_to_az': 0.0,\n",
       "  'az_to_mv': -0.0025000000000000577,\n",
       "  'az_to_fi': 0.0016877637130801038,\n",
       "  'mv_to_tw': 0.0015000000000000568,\n",
       "  'mv_to_az': -0.0010000000000000009,\n",
       "  'mv_to_mv': -0.0004999999999999449,\n",
       "  'mv_to_fi': -0.0008438818565400519,\n",
       "  'fi_to_tw': 0.0,\n",
       "  'fi_to_az': 0.0008438818565400519,\n",
       "  'fi_to_mv': 0.0016877637130802148,\n",
       "  'fi_to_fi': 0.0})"
      ]
     },
     "execution_count": 59,
     "metadata": {},
     "output_type": "execute_result"
    }
   ],
   "source": [
    "costs_matching_false, st_accuracies_improv, "
   ]
  },
  {
   "cell_type": "code",
   "execution_count": 63,
   "metadata": {},
   "outputs": [
    {
     "data": {
      "image/png": "[encoded data removed]",
      "text/plain": [
       "<Figure size 432x288 with 1 Axes>"
      ]
     },
     "metadata": {
      "needs_background": "light"
     },
     "output_type": "display_data"
    }
   ],
   "source": [
    "plt.scatter(costs_matching_false.values(), st_accuracies_improv.values())\n",
    "plt.show()"
   ]
  }
 ],
 "metadata": {
  "kernelspec": {
   "display_name": "Python 3",
   "language": "python",
   "name": "python3"
  },
  "language_info": {
   "codemirror_mode": {
    "name": "ipython",
    "version": 3
   },
   "file_extension": ".py",
   "mimetype": "text/x-python",
   "name": "python",
   "nbconvert_exporter": "python",
   "pygments_lexer": "ipython3",
   "version": "3.8.5"
  }
 },
 "nbformat": 4,
 "nbformat_minor": 4
}
