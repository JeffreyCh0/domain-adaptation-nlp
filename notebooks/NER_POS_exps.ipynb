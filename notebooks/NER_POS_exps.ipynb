{
 "cells": [
  {
   "cell_type": "code",
   "execution_count": 136,
   "metadata": {},
   "outputs": [],
   "source": [
    "import numpy as np\n",
    "import sys\n",
    "sys.path.append(\"../src\")\n",
    "from bert_embedding import *"
   ]
  },
  {
   "cell_type": "markdown",
   "metadata": {},
   "source": [
    "# Data"
   ]
  },
  {
   "cell_type": "markdown",
   "metadata": {},
   "source": [
    "## 1. SEC filings"
   ]
  },
  {
   "cell_type": "code",
   "execution_count": 4,
   "metadata": {},
   "outputs": [],
   "source": [
    "test_link =\"https://github.com/juand-r/entity-recognition-datasets/tree/master/data/SEC-filings/CONLL-format/data/test/FIN3\"\n",
    "train_link = \"https://github.com/juand-r/entity-recognition-datasets/tree/master/data/SEC-filings/CONLL-format/data/train/FIN5.txt\""
   ]
  },
  {
   "cell_type": "code",
   "execution_count": 19,
   "metadata": {},
   "outputs": [],
   "source": [
    "# !wget https://raw.githubusercontent.com/juand-r/entity-recognition-datasets/master/data/SEC-filings/CONLL-format/data/test/FIN3.txt -P ../data/sec_ner"
   ]
  },
  {
   "cell_type": "code",
   "execution_count": 20,
   "metadata": {},
   "outputs": [],
   "source": [
    "# !wget https://raw.githubusercontent.com/juand-r/entity-recognition-datasets/master/data/SEC-filings/CONLL-format/data/train/FIN5.txt -P ../data/sec_ner"
   ]
  },
  {
   "cell_type": "markdown",
   "metadata": {},
   "source": [
    "## 2. BTC"
   ]
  },
  {
   "cell_type": "code",
   "execution_count": 21,
   "metadata": {},
   "outputs": [],
   "source": [
    "# !wget https://raw.githubusercontent.com/juand-r/entity-recognition-datasets/master/data/BTC/CONLL-format/data/h.conll -P ../data/ner_btc"
   ]
  },
  {
   "cell_type": "markdown",
   "metadata": {},
   "source": [
    "## 3. Wikigold"
   ]
  },
  {
   "cell_type": "code",
   "execution_count": 23,
   "metadata": {},
   "outputs": [],
   "source": [
    "# !wget https://raw.githubusercontent.com/juand-r/entity-recognition-datasets/master/data/wikigold/CONLL-format/data/wikigold.conll.txt -P ../data/ner_wikigold"
   ]
  },
  {
   "cell_type": "markdown",
   "metadata": {},
   "source": [
    "# Data Clean"
   ]
  },
  {
   "cell_type": "code",
   "execution_count": 108,
   "metadata": {},
   "outputs": [],
   "source": [
    "# load data\n",
    "def load_data(path, separator = \" \"):\n",
    "    with open(path) as f:\n",
    "        text = f.read().split(\"\\n\\n\")\n",
    "\n",
    "    output = []\n",
    "    for line in text:\n",
    "        feature_label = []\n",
    "        line = line.split(\"\\n\")\n",
    "        for entry in line:\n",
    "            feature_label.append(tuple(entry.split(separator)))\n",
    "        output.append(feature_label)\n",
    "    return output"
   ]
  },
  {
   "cell_type": "code",
   "execution_count": 109,
   "metadata": {},
   "outputs": [],
   "source": [
    "sec_path = \"../data/ner_sec/FIN5.txt\"\n",
    "sec = load_data(sec_path)"
   ]
  },
  {
   "cell_type": "code",
   "execution_count": 120,
   "metadata": {},
   "outputs": [
    {
     "name": "stdout",
     "output_type": "stream",
     "text": [
      "1170\n"
     ]
    },
    {
     "data": {
      "text/plain": [
       "[('This', 'DT', '-', 'O'),\n",
       " ('LOAN', 'NN', '-', 'O'),\n",
       " ('AND', 'CC', '-', 'O'),\n",
       " ('SECURITY', 'NNP', '-', 'O'),\n",
       " ('AGREEMENT', 'NNP', '-', 'O'),\n",
       " ('dated', 'VBD', '-', 'O'),\n",
       " ('January', 'NNP', '-', 'O'),\n",
       " ('27', 'CD', '-', 'O'),\n",
       " (',', ',', '-', 'O'),\n",
       " ('1999', 'CD', '-', 'O'),\n",
       " (',', ',', '-', 'O'),\n",
       " ('between', 'IN', '-', 'O'),\n",
       " ('SILICON', 'NNP', '-', 'I-ORG'),\n",
       " ('VALLEY', 'NNP', '-', 'I-ORG'),\n",
       " ('BANK', 'NNP', '-', 'I-ORG'),\n",
       " ('(\"', 'NNP', '-', 'O'),\n",
       " ('Bank', 'NNP', '-', 'I-ORG'),\n",
       " ('\"),', ',', '-', 'O'),\n",
       " ('a', 'DT', '-', 'O'),\n",
       " ('California', 'NNP', '-', 'I-LOC'),\n",
       " ('-', ':', '-', 'O'),\n",
       " ('chartered', 'VBD', '-', 'O'),\n",
       " ('bank', 'NN', '-', 'I-ORG'),\n",
       " ('with', 'IN', '-', 'O'),\n",
       " ('its', 'PRP$', '-', 'O'),\n",
       " ('principal', 'JJ', '-', 'O'),\n",
       " ('place', 'NN', '-', 'O'),\n",
       " ('of', 'IN', '-', 'O'),\n",
       " ('business', 'NN', '-', 'O'),\n",
       " ('at', 'IN', '-', 'O'),\n",
       " ('3003', 'CD', '-', 'I-LOC'),\n",
       " ('Tasman', 'NNP', '-', 'I-LOC'),\n",
       " ('Drive', 'NNP', '-', 'I-LOC'),\n",
       " (',', ',', '-', 'O'),\n",
       " ('Santa', 'NNP', '-', 'I-LOC'),\n",
       " ('Clara', 'NNP', '-', 'I-LOC'),\n",
       " (',', ',', '-', 'O'),\n",
       " ('California', 'NNP', '-', 'I-LOC'),\n",
       " ('95054', 'CD', '-', 'O'),\n",
       " ('with', 'IN', '-', 'O'),\n",
       " ('a', 'DT', '-', 'O'),\n",
       " ('loan', 'NN', '-', 'O'),\n",
       " ('production', 'NN', '-', 'O'),\n",
       " ('office', 'NN', '-', 'O'),\n",
       " ('located', 'VBD', '-', 'O'),\n",
       " ('at', 'IN', '-', 'O'),\n",
       " ('40', 'CD', '-', 'I-LOC'),\n",
       " ('William', 'NNP', '-', 'I-LOC'),\n",
       " ('St', 'NNP', '-', 'I-LOC'),\n",
       " ('.,', ',', '-', 'O'),\n",
       " ('Ste', 'NNP', '-', 'O'),\n",
       " ('.', '.', '-', 'O')]"
      ]
     },
     "execution_count": 120,
     "metadata": {},
     "output_type": "execute_result"
    }
   ],
   "source": [
    "print(len(sec))\n",
    "sec[1]"
   ]
  },
  {
   "cell_type": "code",
   "execution_count": 130,
   "metadata": {},
   "outputs": [
    {
     "name": "stdout",
     "output_type": "stream",
     "text": [
      "9345\n"
     ]
    },
    {
     "data": {
      "text/plain": [
       "[('♥', 'O'),\n",
       " ('.', 'O'),\n",
       " ('.', 'O'),\n",
       " (')', 'O'),\n",
       " (')', 'O'),\n",
       " ('(', 'O'),\n",
       " ('♫', 'O'),\n",
       " ('.', 'O'),\n",
       " ('(', 'O'),\n",
       " ('ړײ', 'O'),\n",
       " (')', 'O'),\n",
       " ('♫', 'O'),\n",
       " ('.', 'O'),\n",
       " ('♥', 'O'),\n",
       " ('.', 'O'),\n",
       " ('«', 'O'),\n",
       " ('▓', 'O'),\n",
       " ('»', 'O'),\n",
       " ('♥', 'O'),\n",
       " ('.', 'O'),\n",
       " ('♫', 'O'),\n",
       " ('.', 'O'),\n",
       " ('.', 'O'),\n",
       " ('╝', 'O'),\n",
       " ('╚', 'O'),\n",
       " ('.', 'O'),\n",
       " ('.', 'O'),\n",
       " ('♫', 'O'),\n",
       " ('Happy', 'O'),\n",
       " ('New', 'O'),\n",
       " ('Year', 'O')]"
      ]
     },
     "execution_count": 130,
     "metadata": {},
     "output_type": "execute_result"
    }
   ],
   "source": [
    "btc = []\n",
    "for data in [\"a\", \"b\", \"e\", \"f\", \"g\", \"h\"]:\n",
    "    btc.extend(load_data(\"../data/ner_btc/\" + data + \".conll\", \"\\t\"))\n",
    "print(len(btc))\n",
    "btc[1]"
   ]
  },
  {
   "cell_type": "code",
   "execution_count": 131,
   "metadata": {},
   "outputs": [
    {
     "name": "stdout",
     "output_type": "stream",
     "text": [
      "1842\n"
     ]
    },
    {
     "data": {
      "text/plain": [
       "[('This', 'O'),\n",
       " ('album', 'O'),\n",
       " ('proved', 'O'),\n",
       " ('to', 'O'),\n",
       " ('be', 'O'),\n",
       " ('more', 'O'),\n",
       " ('commercial', 'O'),\n",
       " ('and', 'O'),\n",
       " ('more', 'O'),\n",
       " ('techno-based', 'O'),\n",
       " ('than', 'O'),\n",
       " ('Osc-Dis', 'I-MISC'),\n",
       " (',', 'O'),\n",
       " ('with', 'O'),\n",
       " ('heavily', 'O'),\n",
       " ('synthesized', 'O'),\n",
       " ('songs', 'O'),\n",
       " ('like', 'O'),\n",
       " ('Introduction', 'I-MISC'),\n",
       " ('010', 'I-MISC'),\n",
       " ('and', 'O'),\n",
       " ('Come', 'I-MISC'),\n",
       " ('.', 'O')]"
      ]
     },
     "execution_count": 131,
     "metadata": {},
     "output_type": "execute_result"
    }
   ],
   "source": [
    "wiki = load_data(\"../data/ner_wikigold/\" + \"wikigold\" + \".conll.txt\", \" \")\n",
    "print(len(wiki))\n",
    "wiki[1]"
   ]
  },
  {
   "cell_type": "code",
   "execution_count": 135,
   "metadata": {},
   "outputs": [],
   "source": [
    "tokenizer_d = DistilBertTokenizer.from_pretrained('distilbert-base-uncased')\n",
    "model_d = DistilBertModel.from_pretrained('distilbert-base-uncased')"
   ]
  },
  {
   "cell_type": "code",
   "execution_count": null,
   "metadata": {},
   "outputs": [],
   "source": []
  }
 ],
 "metadata": {
  "kernelspec": {
   "display_name": "Python 3",
   "language": "python",
   "name": "python3"
  },
  "language_info": {
   "codemirror_mode": {
    "name": "ipython",
    "version": 3
   },
   "file_extension": ".py",
   "mimetype": "text/x-python",
   "name": "python",
   "nbconvert_exporter": "python",
   "pygments_lexer": "ipython3",
   "version": "3.8.5"
  }
 },
 "nbformat": 4,
 "nbformat_minor": 4
}
