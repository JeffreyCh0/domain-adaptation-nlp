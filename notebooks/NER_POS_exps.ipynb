{
 "cells": [
  {
   "cell_type": "code",
   "execution_count": 136,
   "metadata": {},
   "outputs": [],
   "source": [
    "import numpy as np\n",
    "import sys\n",
    "sys.path.append(\"../src\")\n",
    "from bert_embedding import *"
   ]
  },
  {
   "cell_type": "markdown",
   "metadata": {},
   "source": [
    "# Data"
   ]
  },
  {
   "cell_type": "markdown",
   "metadata": {},
   "source": [
    "## 1. SEC filings"
   ]
  },
  {
   "cell_type": "code",
   "execution_count": 4,
   "metadata": {},
   "outputs": [],
   "source": [
    "test_link =\"https://github.com/juand-r/entity-recognition-datasets/tree/master/data/SEC-filings/CONLL-format/data/test/FIN3\"\n",
    "train_link = \"https://github.com/juand-r/entity-recognition-datasets/tree/master/data/SEC-filings/CONLL-format/data/train/FIN5.txt\""
   ]
  },
  {
   "cell_type": "code",
   "execution_count": 19,
   "metadata": {},
   "outputs": [],
   "source": [
    "# !wget https://raw.githubusercontent.com/juand-r/entity-recognition-datasets/master/data/SEC-filings/CONLL-format/data/test/FIN3.txt -P ../data/sec_ner"
   ]
  },
  {
   "cell_type": "code",
   "execution_count": 20,
   "metadata": {},
   "outputs": [],
   "source": [
    "# !wget https://raw.githubusercontent.com/juand-r/entity-recognition-datasets/master/data/SEC-filings/CONLL-format/data/train/FIN5.txt -P ../data/sec_ner"
   ]
  },
  {
   "cell_type": "markdown",
   "metadata": {},
   "source": [
    "## 2. BTC"
   ]
  },
  {
   "cell_type": "code",
   "execution_count": 21,
   "metadata": {},
   "outputs": [],
   "source": [
    "# !wget https://raw.githubusercontent.com/juand-r/entity-recognition-datasets/master/data/BTC/CONLL-format/data/h.conll -P ../data/ner_btc"
   ]
  },
  {
   "cell_type": "markdown",
   "metadata": {},
   "source": [
    "## 3. Wikigold"
   ]
  },
  {
   "cell_type": "code",
   "execution_count": 23,
   "metadata": {},
   "outputs": [],
   "source": [
    "# !wget https://raw.githubusercontent.com/juand-r/entity-recognition-datasets/master/data/wikigold/CONLL-format/data/wikigold.conll.txt -P ../data/ner_wikigold"
   ]
  },
  {
   "cell_type": "markdown",
   "metadata": {},
   "source": [
    "# Data Clean"
   ]
  },
  {
   "cell_type": "code",
   "execution_count": 243,
   "metadata": {},
   "outputs": [],
   "source": [
    "# load data\n",
    "def load_ner_data(path, separator = \" \"):\n",
    "    with open(path) as f:\n",
    "        text = f.read().split(\"\\n\\n\")\n",
    "\n",
    "    output = []\n",
    "    for line in text:\n",
    "        feature_label = []\n",
    "        line = line.split(\"\\n\")\n",
    "        for entry in line:\n",
    "            feature_label.append(tuple(entry.split(separator)))\n",
    "        output.append(feature_label)\n",
    "    return output\n",
    "\n",
    "# get words and tags\n",
    "def unique_words_tags(data):\n",
    "    unique_words = []\n",
    "    unique_tags = []\n",
    "    for sent in data:\n",
    "        unique_words.extend(list(set(np.array(sent)[:,0])))\n",
    "        unique_tags.extend(list(set(np.array(sent)[:,-1])))\n",
    "        \n",
    "    return set(unique_words), set(unique_tags)\n",
    "\n",
    "# get words and tags distributions\n",
    "def distributions_words_tags(data):\n",
    "    unique_words = {}\n",
    "    unique_tags = {}\n",
    "    for i in range(len(data)-1):\n",
    "        sent = data[i]\n",
    "        for t in sent:\n",
    "            word = t[0]\n",
    "            tag = t[-1]\n",
    "            \n",
    "            if word in unique_words:\n",
    "                unique_words[word] += 1\n",
    "            else:\n",
    "                unique_words[word] = 1\n",
    "                \n",
    "            if tag in unique_tags:\n",
    "                unique_tags[tag] += 1\n",
    "            else:\n",
    "                unique_tags[tag] = 1\n",
    "                \n",
    "    return unique_words, unique_tags"
   ]
  },
  {
   "cell_type": "code",
   "execution_count": 244,
   "metadata": {},
   "outputs": [
    {
     "data": {
      "text/plain": [
       "['3', '1', '2']"
      ]
     },
     "execution_count": 244,
     "metadata": {},
     "output_type": "execute_result"
    }
   ],
   "source": [
    "a = []\n",
    "a.extend(list(set([\"1\",\"2\",\"3\"])))\n",
    "a"
   ]
  },
  {
   "cell_type": "code",
   "execution_count": 142,
   "metadata": {},
   "outputs": [],
   "source": [
    "sec_path = \"../data/ner_sec/FIN5.txt\"\n",
    "sec = load_ner_data(sec_path)"
   ]
  },
  {
   "cell_type": "code",
   "execution_count": 143,
   "metadata": {},
   "outputs": [
    {
     "name": "stdout",
     "output_type": "stream",
     "text": [
      "1170\n"
     ]
    }
   ],
   "source": [
    "print(len(sec))\n",
    "# sec[1]"
   ]
  },
  {
   "cell_type": "code",
   "execution_count": 144,
   "metadata": {},
   "outputs": [
    {
     "name": "stdout",
     "output_type": "stream",
     "text": [
      "9345\n"
     ]
    }
   ],
   "source": [
    "btc = []\n",
    "for data in [\"a\", \"b\", \"e\", \"f\", \"g\", \"h\"]:\n",
    "    btc.extend(load_ner_data(\"../data/ner_btc/\" + data + \".conll\", \"\\t\"))\n",
    "print(len(btc))\n",
    "# btc[1]"
   ]
  },
  {
   "cell_type": "code",
   "execution_count": 145,
   "metadata": {},
   "outputs": [
    {
     "name": "stdout",
     "output_type": "stream",
     "text": [
      "1842\n"
     ]
    }
   ],
   "source": [
    "wiki = load_ner_data(\"../data/ner_wikigold/\" + \"wikigold\" + \".conll.txt\", \" \")\n",
    "print(len(wiki))\n",
    "# wiki[1]"
   ]
  },
  {
   "cell_type": "code",
   "execution_count": 236,
   "metadata": {},
   "outputs": [
    {
     "data": {
      "text/plain": [
       "'O'"
      ]
     },
     "execution_count": 236,
     "metadata": {},
     "output_type": "execute_result"
    }
   ],
   "source": [
    "wiki[1][0][-1]"
   ]
  },
  {
   "cell_type": "code",
   "execution_count": 245,
   "metadata": {},
   "outputs": [
    {
     "name": "stdout",
     "output_type": "stream",
     "text": [
      "{'I-MISC': 1392, 'O': 32721, 'I-ORG': 1958, 'I-PER': 1634, 'I-LOC': 1447}\n",
      "{'O': 39485, 'I-ORG': 384, 'I-LOC': 356, 'I-PER': 783, 'I-MISC': 7}\n",
      "{'O': 131814, 'B-LOC': 2822, 'B-PER': 7928, 'B-ORG': 4135, 'I-ORG': 1176, 'I-PER': 1554, 'I-LOC': 958, '': 5}\n"
     ]
    }
   ],
   "source": [
    "for data in [wiki, sec, btc]:\n",
    "    print(distributions_words_tags(data)[1])\n",
    "# only wiki and sec works here"
   ]
  },
  {
   "cell_type": "code",
   "execution_count": 246,
   "metadata": {},
   "outputs": [
    {
     "name": "stdout",
     "output_type": "stream",
     "text": [
      "[('',)]\n"
     ]
    }
   ],
   "source": [
    "for sent in wiki:\n",
    "    for t in sent:\n",
    "        if t[-1] ==\"\":\n",
    "            print(sent)"
   ]
  },
  {
   "cell_type": "code",
   "execution_count": 365,
   "metadata": {},
   "outputs": [],
   "source": [
    "def sent2labels(sent):\n",
    "    return [label for token, label in sent]"
   ]
  },
  {
   "cell_type": "code",
   "execution_count": 367,
   "metadata": {},
   "outputs": [],
   "source": [
    "def sent2labels1(sent):\n",
    "    return [t[-1] for t in sent]"
   ]
  },
  {
   "cell_type": "code",
   "execution_count": 369,
   "metadata": {},
   "outputs": [
    {
     "data": {
      "text/plain": [
       "['I-MISC',\n",
       " 'O',\n",
       " 'O',\n",
       " 'O',\n",
       " 'O',\n",
       " 'O',\n",
       " 'I-MISC',\n",
       " 'O',\n",
       " 'O',\n",
       " 'O',\n",
       " 'I-ORG',\n",
       " 'I-ORG',\n",
       " 'I-ORG',\n",
       " 'I-ORG',\n",
       " 'O']"
      ]
     },
     "execution_count": 369,
     "metadata": {},
     "output_type": "execute_result"
    }
   ],
   "source": [
    "sent2labels(wiki[0])"
   ]
  },
  {
   "cell_type": "code",
   "execution_count": 370,
   "metadata": {},
   "outputs": [
    {
     "data": {
      "text/plain": [
       "['I-MISC',\n",
       " 'O',\n",
       " 'O',\n",
       " 'O',\n",
       " 'O',\n",
       " 'O',\n",
       " 'I-MISC',\n",
       " 'O',\n",
       " 'O',\n",
       " 'O',\n",
       " 'I-ORG',\n",
       " 'I-ORG',\n",
       " 'I-ORG',\n",
       " 'I-ORG',\n",
       " 'O']"
      ]
     },
     "execution_count": 370,
     "metadata": {},
     "output_type": "execute_result"
    }
   ],
   "source": [
    "sent2labels1(wiki[0])"
   ]
  },
  {
   "cell_type": "code",
   "execution_count": 419,
   "metadata": {},
   "outputs": [],
   "source": [
    "def word2features(sent, i):\n",
    "    \"\"\"\n",
    "    The function generates all features\n",
    "    for the word at position i in the\n",
    "    sentence.\n",
    "    \"\"\"\n",
    "    word = sent[i][0]\n",
    "    f = tokenize_encode_bert_sentences_sample(tokenizer_d, model_d, word)[0]\n",
    "    features = {}\n",
    "    for j in range(len(f)):\n",
    "        features[str(j)] = f[j]\n",
    "    return features\n",
    "\n",
    "\n",
    "def sent2features(sent):\n",
    "    return [word2features(sent, i) for i in range(len(sent))]"
   ]
  },
  {
   "cell_type": "code",
   "execution_count": 377,
   "metadata": {},
   "outputs": [],
   "source": [
    "labels = [sent2labels1(s) for s in wiki]"
   ]
  },
  {
   "cell_type": "code",
   "execution_count": 374,
   "metadata": {},
   "outputs": [],
   "source": [
    "features = [sent2features(s) for s in wiki]"
   ]
  },
  {
   "cell_type": "code",
   "execution_count": 392,
   "metadata": {},
   "outputs": [],
   "source": [
    "# features[0:2]"
   ]
  },
  {
   "cell_type": "code",
   "execution_count": 438,
   "metadata": {},
   "outputs": [],
   "source": [
    "haha = tokenize_encode_bert_sentences_sample(tokenizer_d, model_d, \"haha\")"
   ]
  },
  {
   "cell_type": "code",
   "execution_count": 437,
   "metadata": {},
   "outputs": [
    {
     "data": {
      "text/plain": [
       "[[('/', 'NN', '-', 'O'),\n",
       "  ('s', 'NNS', '-', 'O'),\n",
       "  ('/', ':', '-', 'O'),\n",
       "  ('Bing', 'VBG', '-', 'I-PER'),\n",
       "  ('Yu', 'NNP', '-', 'I-PER')],\n",
       " [('',)]]"
      ]
     },
     "execution_count": 437,
     "metadata": {},
     "output_type": "execute_result"
    }
   ],
   "source": [
    "a = sec[-2:]\n",
    "a"
   ]
  },
  {
   "cell_type": "code",
   "execution_count": 442,
   "metadata": {},
   "outputs": [],
   "source": [
    "# haha[0]\n",
    "# haha_f = {}\n",
    "# for j in range(len(haha[0])):\n",
    "#     haha_f[str(j)] = haha[0][j]\n",
    "# haha_f"
   ]
  },
  {
   "cell_type": "markdown",
   "metadata": {},
   "source": [
    "# Model"
   ]
  },
  {
   "cell_type": "markdown",
   "metadata": {},
   "source": [
    "https://towardsdatascience.com/named-entity-recognition-ner-meeting-industrys-requirement-by-applying-state-of-the-art-deep-698d2b3b4ede\n",
    "https://www.depends-on-the-definition.com/sequence-tagging-lstm-crf/"
   ]
  },
  {
   "cell_type": "code",
   "execution_count": 135,
   "metadata": {},
   "outputs": [],
   "source": [
    "tokenizer_d = DistilBertTokenizer.from_pretrained('distilbert-base-uncased')\n",
    "model_d = DistilBertModel.from_pretrained('distilbert-base-uncased')"
   ]
  },
  {
   "cell_type": "code",
   "execution_count": 317,
   "metadata": {},
   "outputs": [
    {
     "name": "stdout",
     "output_type": "stream",
     "text": [
      "8506 3513 10694\n"
     ]
    }
   ],
   "source": [
    "words_wiki, tags = unique_words_tags(wiki)\n",
    "words_sec, tags = unique_words_tags(sec)\n",
    "print(len(words_wiki), len(words_sec), len(words_wiki | words_sec))"
   ]
  },
  {
   "cell_type": "code",
   "execution_count": 284,
   "metadata": {},
   "outputs": [
    {
     "name": "stdout",
     "output_type": "stream",
     "text": [
      "144 413\n"
     ]
    }
   ],
   "source": [
    "sent_lens = [len(x) for x in wiki]\n",
    "print(max([len(x) for x in wiki]), max([len(x) for x in sec]))"
   ]
  },
  {
   "cell_type": "code",
   "execution_count": 460,
   "metadata": {},
   "outputs": [],
   "source": [
    "max_len = 200\n",
    "words_wiki.remove(\"\")\n",
    "words_sec.remove(\"\")\n",
    "word2idx = {w: i + 1 for i, w in enumerate(words_wiki | words_sec)}\n",
    "tag2idx = {t: i for i, t in enumerate(tags)}"
   ]
  },
  {
   "cell_type": "code",
   "execution_count": 291,
   "metadata": {},
   "outputs": [
    {
     "data": {
      "text/plain": [
       "array([[1., 0., 0., 0., 0., 0.],\n",
       "       [1., 0., 0., 0., 0., 0.],\n",
       "       [1., 0., 0., 0., 0., 0.],\n",
       "       [0., 1., 0., 0., 0., 0.],\n",
       "       [1., 0., 0., 0., 0., 0.],\n",
       "       [1., 0., 0., 0., 0., 0.]], dtype=float32)"
      ]
     },
     "execution_count": 291,
     "metadata": {},
     "output_type": "execute_result"
    }
   ],
   "source": [
    "from keras.utils import to_categorical\n",
    "y_wiki = [to_categorical(i, num_classes=len(tags)) for i in y]\n",
    "y_wiki[0][0]\n",
    "\n",
    "y_sec = [to_categorical(i, num_classes=len(tags)) for i in y]\n",
    "y_sec[0][0]"
   ]
  },
  {
   "cell_type": "code",
   "execution_count": 453,
   "metadata": {},
   "outputs": [],
   "source": [
    "from sklearn.model_selection import train_test_split\n",
    "train_wiki, test_wiki = train_test_split(wiki)"
   ]
  },
  {
   "cell_type": "code",
   "execution_count": 449,
   "metadata": {},
   "outputs": [],
   "source": [
    "encoded_ner_corpus = tokenize_encode_bert_sentences(tokenizer_d, model_d, words_list, \"../data/all_bert/encoded_ner_corpus\")"
   ]
  },
  {
   "cell_type": "code",
   "execution_count": 470,
   "metadata": {},
   "outputs": [
    {
     "data": {
      "text/plain": [
       "array([-0.28524143, -0.04883502, -0.08547825, -0.10694244,  0.0716219 ,\n",
       "       -0.06495161,  0.08082949,  0.10530194, -0.15842576, -0.17903239],\n",
       "      dtype=float32)"
      ]
     },
     "execution_count": 470,
     "metadata": {},
     "output_type": "execute_result"
    }
   ],
   "source": [
    "tokenize_encode_bert_sentences_sample(tokenizer_d, model_d, [\"Randall\"])[0][:10]"
   ]
  },
  {
   "cell_type": "code",
   "execution_count": 471,
   "metadata": {},
   "outputs": [
    {
     "data": {
      "text/plain": [
       "array([-0.28524143, -0.04883502, -0.08547825, -0.10694244,  0.0716219 ,\n",
       "       -0.06495161,  0.08082949,  0.10530194, -0.15842576, -0.17903239])"
      ]
     },
     "execution_count": 471,
     "metadata": {},
     "output_type": "execute_result"
    }
   ],
   "source": [
    "encoded_ner_corpus[0][:10]"
   ]
  },
  {
   "cell_type": "code",
   "execution_count": 477,
   "metadata": {},
   "outputs": [],
   "source": [
    "ner_bert = np.load(\"../data/all_bert/encoded_ner_corpus.npy\")"
   ]
  },
  {
   "cell_type": "code",
   "execution_count": 489,
   "metadata": {},
   "outputs": [
    {
     "data": {
      "text/plain": [
       "array([-2.85241425e-01, -4.88350242e-02, -8.54782462e-02, -1.06942438e-01,\n",
       "        7.16219023e-02, -6.49516061e-02,  8.08294863e-02,  1.05301939e-01,\n",
       "       -1.58425763e-01, -1.79032385e-01,  1.42368212e-01, -1.00047708e-01,\n",
       "        3.94101627e-02,  2.55815744e-01,  9.67776552e-02,  2.38357902e-01,\n",
       "       -1.02056831e-01,  1.29859746e-01,  1.72019944e-01, -3.02408785e-01,\n",
       "       -6.49108067e-02, -3.54369313e-01, -6.31042942e-02, -1.61043271e-01,\n",
       "       -6.03366308e-02,  1.21796429e-01,  7.48223066e-03, -1.32442921e-01,\n",
       "        1.24639072e-01,  1.23222195e-01,  8.35943893e-02,  9.84147266e-02,\n",
       "        5.34838438e-02,  5.47583029e-02,  7.18373805e-02,  6.06911294e-02,\n",
       "        4.88229580e-02, -6.60748258e-02,  2.28404880e-01,  5.22120148e-02,\n",
       "        3.14897597e-02, -8.63815546e-02,  2.17607155e-01, -6.94252774e-02,\n",
       "       -9.89933684e-02,  3.35037932e-02, -1.87032449e+00, -8.31993669e-02,\n",
       "       -1.43446892e-01, -8.84553492e-02,  5.20219505e-02,  9.51768905e-02,\n",
       "        1.42228246e-01,  1.44607723e-01,  3.68759930e-02,  3.08654249e-01,\n",
       "       -4.04438972e-02,  3.48255426e-01,  2.87768096e-02, -8.98672119e-02,\n",
       "        1.31635845e-01,  3.49919274e-02,  1.72722727e-01,  1.28402114e-01,\n",
       "        1.06367722e-01,  1.18843883e-01, -1.89003013e-02,  1.35331258e-01,\n",
       "       -2.78465360e-01,  3.80543172e-01, -1.33724824e-01, -7.05851056e-03,\n",
       "        1.24045424e-01,  1.39127329e-01,  5.82518280e-02, -4.93128598e-03,\n",
       "        8.58958066e-02,  7.85445273e-02,  2.82108039e-02,  2.00992316e-01,\n",
       "        9.54923853e-02,  1.29771456e-01,  9.42081362e-02,  1.40635073e-01,\n",
       "        6.90810010e-02,  1.35818392e-01, -1.27780348e-01, -6.81208223e-02,\n",
       "        1.39941990e-01,  4.06057268e-01, -2.36962184e-01,  8.96992162e-02,\n",
       "        1.64741985e-02,  1.66760504e-01,  8.73597115e-02, -1.16251834e-01,\n",
       "       -5.25564328e-02, -9.24976729e-03,  2.28669152e-01,  5.94573803e-02,\n",
       "       -1.54305503e-01,  4.85655405e-02,  2.79739127e-02, -5.67577817e-02,\n",
       "       -7.93822929e-02,  4.00742814e-02, -8.83494169e-02,  3.46418843e-02,\n",
       "       -7.43073747e-02, -2.67608905e+00,  6.02410212e-02,  1.10604845e-01,\n",
       "       -5.62617667e-02, -3.43886375e-01,  1.17215447e-01,  2.75834441e-01,\n",
       "        2.53978878e-01,  7.52625987e-02, -1.63585618e-01,  1.01924231e-02,\n",
       "        3.29765677e-02,  5.37390828e-01, -1.04486123e-01, -5.49954325e-02,\n",
       "        7.97147527e-02,  1.38851851e-01,  7.33902007e-02, -2.83800680e-02,\n",
       "        2.18304962e-01,  9.59950313e-02,  1.27676532e-01,  2.52428293e-01,\n",
       "       -1.55550435e-01,  2.17340887e-03, -2.05754116e-02,  6.67958632e-02,\n",
       "        1.29640967e-01, -3.96070778e-02,  1.42641750e-03,  6.57028779e-02,\n",
       "       -3.51437688e-01, -6.72184229e-02, -2.94835997e+00,  1.30131200e-01,\n",
       "        2.00147972e-01, -1.56429276e-01, -1.21626802e-01,  3.26566473e-02,\n",
       "        7.41783977e-02,  2.47972056e-01,  1.37305886e-01,  1.90575972e-01,\n",
       "       -6.63148910e-02,  1.29915833e-01, -2.02495337e-01, -7.92709962e-02,\n",
       "        9.48763564e-02, -1.12845466e-01,  2.58649439e-01,  8.41123909e-02,\n",
       "        1.43947117e-02, -1.34182766e-01, -2.76801009e-02, -1.25886202e-01,\n",
       "       -6.69969916e-02,  1.43449768e-01,  2.19619513e-01,  4.22900654e-02,\n",
       "        8.49002749e-02, -1.46513492e-01, -2.14431018e-01, -7.40354657e-02,\n",
       "        1.17454171e-01, -2.53703110e-02,  7.35396966e-02,  7.74583817e-02,\n",
       "       -1.27083175e-02,  2.61759371e-01,  7.78623819e-02, -1.01460449e-01,\n",
       "       -1.63804889e-01,  1.38569837e-02,  1.33984134e-01,  6.59013614e-02,\n",
       "       -3.47937681e-02,  1.48021907e-01,  2.19479650e-01, -6.90198466e-02,\n",
       "        9.63427871e-02,  3.38552833e-01, -1.46002829e-01, -1.60203874e-03,\n",
       "        1.75854549e-01, -4.23799530e-02,  2.05848634e-01,  1.10407099e-01,\n",
       "        2.01310009e-01, -2.98228621e-01,  2.22334027e-01, -1.06540799e-01,\n",
       "       -1.95747584e-01, -9.26980972e-02,  2.08618566e-02,  8.87794048e-02,\n",
       "       -3.24820280e-02,  3.48898935e+00,  3.20643336e-02, -1.06663123e-01,\n",
       "        1.98224068e-01,  4.31348979e-02,  4.21596989e-02,  6.11373223e-02,\n",
       "       -7.16643780e-02, -2.14993626e-01,  1.09233186e-01, -9.28013027e-02,\n",
       "        1.90050185e-01,  2.39439085e-02,  5.86458854e-03, -3.06675620e-02,\n",
       "        4.07331809e-02,  2.60976940e-01,  1.16400294e-01,  1.14620000e-01,\n",
       "       -1.63608760e-01,  2.65454739e-01,  1.30883276e-01, -4.63411063e-02,\n",
       "       -1.66325912e-01, -8.60858619e-01,  2.56774351e-02, -7.36269578e-02,\n",
       "       -1.81383997e-01,  3.77541371e-02, -8.50989893e-02, -1.61742512e-02,\n",
       "       -1.13631494e-01,  4.72568944e-02,  1.85170174e-01,  4.45598215e-02,\n",
       "       -5.61220236e-02, -1.09575456e-02,  1.03089370e-01,  2.42089868e-01,\n",
       "       -9.90711749e-02,  2.11557403e-01,  1.56169862e-01,  3.46777216e-02,\n",
       "        9.44882929e-02, -1.56145126e-01,  1.64556026e-01, -1.72782391e-01,\n",
       "        3.13391685e-02, -1.53739050e-01,  1.10719845e-01, -8.71962234e-02,\n",
       "        1.99215174e-01, -7.06615597e-02, -1.80287793e-01,  3.22308131e-02,\n",
       "       -1.32771328e-01,  4.82001938e-02,  6.13110289e-02, -8.37911814e-02,\n",
       "       -6.03057183e-02, -5.43572269e-02,  7.05921352e-02, -2.97747642e-01,\n",
       "        1.02016285e-01, -6.51408881e-02,  2.71917749e-02,  1.74239412e-01,\n",
       "       -1.32707238e-01, -4.14731264e+00,  5.40150888e-02, -1.26839243e-02,\n",
       "        2.04065233e-01,  1.76458463e-01, -1.19492628e-01, -7.72499293e-03,\n",
       "        2.16142815e-02,  1.46924287e-01, -1.72582075e-01,  1.76189452e-01,\n",
       "        7.40829632e-02, -1.26409709e-01,  1.74055114e-01, -3.41825008e-01,\n",
       "        1.60096437e-01,  4.90153767e-02, -4.80549037e-02, -2.10569836e-02,\n",
       "        1.07752800e-01,  1.19183183e-01,  3.16476196e-01, -1.25777096e-01,\n",
       "       -3.39421034e-02,  3.06175165e-02, -2.22358942e-01, -6.33427203e-02,\n",
       "       -2.50482321e-01,  1.29742324e-02, -1.94634244e-01, -1.74655080e-01,\n",
       "       -7.29820058e-02,  1.05426885e-01, -1.69330910e-02, -3.60598788e-02,\n",
       "       -2.62821817e+00, -1.29262447e-01, -1.26147211e-01, -2.05636490e-02,\n",
       "        1.84187174e-01, -9.61219445e-02,  1.14511460e-01, -1.73126459e-01,\n",
       "       -2.56391883e-01,  1.42509967e-01,  1.57494724e-01, -3.51847112e-02,\n",
       "       -8.04065261e-03,  2.38247914e-03,  3.04477662e-01, -6.73484802e-03,\n",
       "        2.13102743e-01,  1.77417859e-01,  5.73733225e-02,  2.45581776e-01,\n",
       "        1.51195750e-02,  5.43772168e-02, -5.42918593e-02, -1.14796283e-02,\n",
       "       -4.06310968e-02,  3.53822887e-01, -2.10457131e-01, -1.11390330e-01,\n",
       "       -3.04225653e-01, -1.58795305e-02, -8.83573443e-02, -7.24766999e-02,\n",
       "        1.48683712e-01,  3.29912640e-02, -2.24684790e-01, -2.70108998e-01,\n",
       "        5.85754775e-02,  1.99553102e-01,  2.96984285e-01,  3.88325192e-02,\n",
       "       -1.36999905e-01,  2.92315423e-01,  1.35027751e-01,  1.55492231e-01,\n",
       "        2.34924972e-01,  5.52453846e-02,  6.74842000e-02, -2.32942969e-01,\n",
       "        5.11417873e-02,  1.06772810e-01, -8.96683335e-02,  1.15560666e-01,\n",
       "        1.12537193e+00, -1.02239110e-01,  1.82491869e-01, -6.74998462e-02,\n",
       "        3.26049268e-01,  5.72085604e-02,  9.95149463e-02,  1.61240816e-01,\n",
       "        4.07119602e-01,  6.76687956e-02,  1.77449398e-02,  4.54569757e-02,\n",
       "       -1.11056961e-01, -1.41455323e-01,  1.64531723e-01, -1.97152629e-01,\n",
       "       -8.83291736e-02, -1.06826365e-01, -2.06090406e-01,  1.36784762e-01,\n",
       "        1.68978751e-01, -7.51924515e-01, -2.11322948e-01,  8.03437456e-03,\n",
       "       -2.29180902e-01,  1.02601871e-02,  1.98424375e-03, -5.64880893e-02,\n",
       "       -1.99113503e-01,  4.64127287e-02,  1.59428775e-01,  1.80834785e-01,\n",
       "        1.48433782e-02,  1.14166901e-01, -2.06929162e-01, -4.99563292e-02,\n",
       "       -6.87183961e-02,  5.19426055e-02, -2.50049889e-01,  1.96968004e-01,\n",
       "        2.03218102e-01,  8.09378475e-02,  1.28593981e-01, -1.70145705e-02,\n",
       "        2.39600867e-01, -6.28868937e-01,  1.24436766e-02, -1.72933072e-01,\n",
       "        8.44830275e-03, -1.49942964e-01, -1.74436882e-01,  3.01775187e-02,\n",
       "       -1.45382181e-01, -1.52902797e-01, -1.41484872e-01,  2.45381609e-01,\n",
       "       -1.66666016e-01,  2.22226426e-01,  6.66742921e-02,  1.39311314e-01,\n",
       "       -3.67787629e-02,  2.24952698e-02,  7.93830276e-01,  1.43877789e-03,\n",
       "       -1.04671702e-01,  1.15621112e-01, -1.98545493e-02,  1.60423517e-01,\n",
       "        5.35961166e-02,  9.84714702e-02,  1.04523621e-01,  7.34803304e-02,\n",
       "        9.60382819e-03, -1.16796516e-01,  6.57618195e-02, -3.35989863e-01,\n",
       "       -4.27004218e-01,  2.07620487e-02,  2.18920991e-01, -1.90628674e-02,\n",
       "       -7.51592368e-02, -5.15391290e-01, -1.24629676e-01, -7.69606456e-02,\n",
       "       -1.22746564e-01,  7.34852105e-02,  2.25765467e-01,  4.97238003e-02,\n",
       "        1.11878797e-01,  1.33661479e-02, -1.19532935e-01,  5.33526719e-01,\n",
       "       -1.63512751e-02,  1.59020603e-01,  1.51361734e-01,  6.54083937e-02,\n",
       "       -5.31923324e-02,  3.07051420e-01,  1.70655567e-02, -2.22375408e-01,\n",
       "        1.94478035e-01, -1.32876001e-02, -3.59418988e-02, -3.07910144e-02,\n",
       "        1.46948040e-01, -1.00352280e-01, -3.83052155e-02,  9.52796936e-02,\n",
       "       -7.70230740e-02,  7.09519014e-02, -9.71267164e-01,  1.58216700e-01,\n",
       "        2.73657948e-01, -4.18182909e-02, -1.03262216e-01, -1.96278334e-01,\n",
       "       -1.12654537e-01,  2.42976397e-01, -4.36786423e-03, -8.04078132e-02,\n",
       "       -1.19797371e-01,  4.77349013e-02, -5.66008501e-02,  3.39298882e-02,\n",
       "       -3.13791037e-02,  1.11106470e-01,  1.61884427e-01,  8.00562277e-03,\n",
       "        1.40735477e-01,  1.55115187e-01,  1.72482096e-02,  3.39897364e-01,\n",
       "        2.03106955e-01, -1.69841185e-01, -1.20254621e-01, -2.25138478e-02,\n",
       "       -3.47908996e-02,  3.30215484e-01,  5.18055037e-02, -5.83242439e-03,\n",
       "        9.26280096e-02, -7.52774701e-02, -3.21334600e-01,  1.55058317e-02,\n",
       "        3.71130288e-01,  8.39960128e-02,  1.23004988e-01,  2.37492211e-02,\n",
       "       -2.47147065e-02,  4.82197255e-02, -3.46591234e-01,  2.70940632e-01,\n",
       "        9.77169424e-02, -3.03164124e-02,  2.41180941e-01,  9.08453837e-02,\n",
       "       -1.55353814e-01,  4.75608110e-02,  8.22313800e-02, -1.28884912e-01,\n",
       "        1.41031265e-01, -3.47104594e-02, -1.64954782e-01, -3.71668190e-02,\n",
       "        8.49182680e-02,  3.28812264e-02, -3.79505605e-02, -8.06834921e-02,\n",
       "       -1.03307948e-01, -1.27949715e-01,  3.80105257e-01, -3.24665368e-01,\n",
       "        5.73729202e-02,  2.00096622e-01, -2.71525562e-01, -4.80125785e-01,\n",
       "       -1.25039309e-01, -1.13235705e-01, -9.08352435e-02,  1.95517950e-03,\n",
       "        2.81374663e-01,  5.68129681e-02,  1.03551932e-01,  1.33142337e-01,\n",
       "       -2.08941758e-01,  1.58906102e-01,  1.27870515e-01,  1.17554046e-01,\n",
       "        2.01489389e-01, -1.22545399e-01,  1.63416006e-02, -1.20712779e-01,\n",
       "       -1.85030773e-01,  1.17580369e-01,  2.66389757e-01, -1.64358750e-01,\n",
       "        1.62448302e-01,  1.62191719e-01,  1.57164969e-02, -1.11668587e-01,\n",
       "       -1.30290091e-01, -1.95289314e-01,  1.96342587e-01,  1.87150225e-01,\n",
       "        1.96867645e-01,  5.05515039e-02,  1.92292899e-01, -1.53550142e-02,\n",
       "       -6.26868755e-03,  5.86330593e-02, -1.27303466e-01,  2.59382755e-01,\n",
       "        2.81492807e-02,  3.04337591e-03,  8.17875713e-02,  1.89639449e-01,\n",
       "        3.11450958e-01, -1.01796575e-02, -1.98590428e-01,  1.21065095e-01,\n",
       "       -2.22460479e-02,  2.21522182e-01,  1.11459546e-01, -5.50430268e-03,\n",
       "        7.00745359e-02, -3.26990336e-02, -1.41716957e-01,  8.84834155e-02,\n",
       "        2.08757877e+00,  3.29465777e-01,  4.76574525e-02, -6.46048039e-02,\n",
       "        4.50437814e-02,  1.04680032e-01, -1.33541360e-01, -3.21232677e-02,\n",
       "       -7.74626881e-02,  8.84666145e-02,  7.88264796e-02, -1.25525191e-01,\n",
       "        4.08173092e-02,  1.14237286e-01,  1.46609336e-01,  1.44002512e-01,\n",
       "       -4.66694944e-02, -2.08097816e-01, -2.27224961e-01,  1.11482859e-01,\n",
       "       -3.21383178e-01,  2.85123795e-01, -2.79788878e-02, -7.26305693e-03,\n",
       "       -7.52310753e-02,  6.39432967e-02, -4.45867181e-02, -2.07128942e-01,\n",
       "        4.91544791e-02, -3.53326760e-02,  1.20758172e-03, -5.98494709e-02,\n",
       "        1.37592912e-01,  3.50078732e-01,  2.00648904e-02,  2.50727609e-02,\n",
       "        6.91994652e-02, -4.45125669e-01, -9.98626500e-02,  9.09721702e-02,\n",
       "       -1.16434529e-01, -2.26899952e-01,  2.85389811e-01,  2.62045879e-02,\n",
       "        1.28997415e-01,  2.36298293e-01, -1.52555659e-01, -2.41239801e-01,\n",
       "        1.65364385e-01,  9.83394459e-02, -7.40726218e-02, -7.14065060e-02,\n",
       "       -1.26134858e-01,  1.47235841e-02, -4.63974848e-02, -6.94629624e-02,\n",
       "        1.77693725e-01, -4.97048460e-02, -4.51709330e-03,  3.83806020e-01,\n",
       "       -1.81171447e-01,  5.34848422e-02,  2.16984242e-01, -5.95353283e-02,\n",
       "        1.32286191e-01,  1.35584362e-02, -1.47989362e-01,  1.74827203e-02,\n",
       "       -8.94263200e-03, -8.99253339e-02, -1.28379434e-01,  6.68868721e-02,\n",
       "        1.90765455e-01, -1.17750056e-01, -2.11312659e-02,  2.95643136e-02,\n",
       "        1.34424448e-01, -5.69636449e-02, -7.22650439e-04, -3.02209330e+00,\n",
       "       -2.51991898e-02, -1.40304714e-01,  8.78743827e-02,  7.72599876e-02,\n",
       "        2.53577292e-01,  2.14055069e-02, -2.02388003e-01,  7.68114626e-02,\n",
       "       -1.35284618e-01,  2.11214617e-01,  2.92393744e-01,  1.12270288e-01,\n",
       "        1.31154388e-01,  2.54600286e-01,  2.87837744e-01, -3.82218249e-02,\n",
       "       -2.60411575e-02, -1.87988635e-02,  2.87472382e-02, -1.26910686e-01,\n",
       "        3.81709682e-03, -1.97852135e-01, -8.55989978e-02, -2.19263718e-01,\n",
       "        1.74437925e-01, -1.83332384e-01, -3.95902395e-02,  6.52534887e-02,\n",
       "        4.14935201e-02, -1.65595144e-01,  3.53633940e-01, -1.02790520e-01,\n",
       "        1.61522955e-01,  6.59891292e-02, -3.98788691e-01, -1.01283558e-01,\n",
       "       -1.73132107e-01, -1.43624963e-02,  1.61868826e-01, -4.26205657e-02,\n",
       "        1.77570656e-01,  8.48313272e-02, -1.44468889e-01, -1.09021636e-02,\n",
       "        4.91251871e-02,  2.17816621e-01, -1.41992673e-01,  1.70860559e-01,\n",
       "       -2.37125918e-01, -1.15980767e-02,  6.56570047e-02,  9.37365592e-02,\n",
       "        2.38501206e-02,  1.83136836e-01,  3.22097056e-02, -2.31755003e-02,\n",
       "       -8.41887519e-02, -1.84421554e-01, -1.14094965e-01,  3.53553221e-02,\n",
       "        7.22884983e-02,  2.01198369e-01,  6.01811372e-02,  1.14200652e-01,\n",
       "       -8.52129459e-02,  2.80942395e-02, -9.53965262e-02, -4.89188582e-02,\n",
       "        2.45620273e-02, -2.38141045e-02, -6.31151199e-02,  2.44193375e-01,\n",
       "       -5.10743298e-02, -1.28514543e-02,  2.24727876e-02,  3.00080478e-02,\n",
       "        2.09720790e-01,  7.42912963e-02,  1.85855210e-01,  6.71056733e-02,\n",
       "       -1.70826316e-01,  4.84812707e-02, -4.72072698e-02,  1.83133811e-01,\n",
       "       -7.92085743e+00, -1.38647795e-01, -7.83896372e-02, -3.18681926e-01,\n",
       "        1.23625956e-01, -5.80000877e-02,  1.74308524e-01, -6.84975367e-03,\n",
       "       -2.21251026e-02, -1.77689299e-01,  7.20568895e-02, -1.10784203e-01,\n",
       "       -5.74686788e-02, -1.19886674e-01,  1.03833854e-01,  2.71467447e-01])"
      ]
     },
     "execution_count": 489,
     "metadata": {},
     "output_type": "execute_result"
    }
   ],
   "source": [
    "ner_bert[word2idx[\"Randall\"]-1]"
   ]
  }
 ],
 "metadata": {
  "kernelspec": {
   "display_name": "Python 3",
   "language": "python",
   "name": "python3"
  },
  "language_info": {
   "codemirror_mode": {
    "name": "ipython",
    "version": 3
   },
   "file_extension": ".py",
   "mimetype": "text/x-python",
   "name": "python",
   "nbconvert_exporter": "python",
   "pygments_lexer": "ipython3",
   "version": "3.8.5"
  }
 },
 "nbformat": 4,
 "nbformat_minor": 4
}
