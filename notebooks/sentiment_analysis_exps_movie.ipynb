{
 "cells": [
  {
   "cell_type": "code",
   "execution_count": 45,
   "metadata": {},
   "outputs": [],
   "source": [
    "import numpy as np\n",
    "import json\n",
    "from os import listdir\n",
    "from os.path import isfile, join\n",
    "from sklearn.model_selection import train_test_split\n",
    "import torch\n",
    "import zipfile\n",
    "import bz2\n",
    "from transformers import DistilBertTokenizer, DistilBertModel\n",
    "from transformers import BertTokenizer, BertModel\n",
    "from sklearn.model_selection import train_test_split\n",
    "from sklearn.linear_model import LogisticRegression\n",
    "from sklearn.svm import SVC"
   ]
  },
  {
   "cell_type": "code",
   "execution_count": 3,
   "metadata": {},
   "outputs": [],
   "source": [
    "#https://ai.stanford.edu/~amaas/data/sentiment/"
   ]
  },
  {
   "cell_type": "code",
   "execution_count": 10,
   "metadata": {},
   "outputs": [],
   "source": [
    "data_main_path = \"../data/movie_reviews/aclImdb/\""
   ]
  },
  {
   "cell_type": "code",
   "execution_count": 16,
   "metadata": {},
   "outputs": [
    {
     "name": "stdout",
     "output_type": "stream",
     "text": [
      "['4715_9.txt', '12390_8.txt', '8329_7.txt', '9063_8.txt', '3092_10.txt', '9865_8.txt', '6639_10.txt', '10460_10.txt', '10331_10.txt', '11606_10.txt']\n"
     ]
    }
   ],
   "source": [
    "train_pos_files = [f for f in listdir(data_main_path + \"train/pos/\") if isfile(join(data_main_path + \"train/pos/\", f))]\n",
    "train_neg_files = [f for f in listdir(data_main_path + \"train/neg/\") if isfile(join(data_main_path + \"train/neg/\", f))]\n",
    "test_pos_files = [f for f in listdir(data_main_path + \"test/pos/\") if isfile(join(data_main_path + \"test/pos/\", f))]\n",
    "test_neg_files = [f for f in listdir(data_main_path + \"test/neg/\") if isfile(join(data_main_path + \"test/neg/\", f))]\n",
    "print(train_pos_files[0:10])"
   ]
  },
  {
   "cell_type": "code",
   "execution_count": 18,
   "metadata": {},
   "outputs": [],
   "source": [
    "train_pos_all = []\n",
    "for i in train_pos_files:\n",
    "    with open(data_main_path + \"train/pos/\" + i) as f:\n",
    "        train_pos_all.append(f.read())"
   ]
  },
  {
   "cell_type": "code",
   "execution_count": 22,
   "metadata": {},
   "outputs": [],
   "source": [
    "train_neg_all = []\n",
    "for i in train_neg_files:\n",
    "    with open(data_main_path + \"train/neg/\" + i) as f:\n",
    "        train_neg_all.append(f.read())"
   ]
  },
  {
   "cell_type": "code",
   "execution_count": 23,
   "metadata": {},
   "outputs": [],
   "source": [
    "test_pos_all = []\n",
    "for i in test_pos_files:\n",
    "    with open(data_main_path + \"test/pos/\" + i) as f:\n",
    "        test_pos_all.append(f.read())"
   ]
  },
  {
   "cell_type": "code",
   "execution_count": 24,
   "metadata": {},
   "outputs": [],
   "source": [
    "test_neg_all = []\n",
    "for i in test_neg_files:\n",
    "    with open(data_main_path + \"test/neg/\" + i) as f:\n",
    "        test_neg_all.append(f.read())"
   ]
  },
  {
   "cell_type": "markdown",
   "metadata": {},
   "source": [
    "# check length and combine all data"
   ]
  },
  {
   "cell_type": "code",
   "execution_count": 25,
   "metadata": {},
   "outputs": [
    {
     "data": {
      "text/plain": [
       "(12500, 12500, 12500, 12500)"
      ]
     },
     "execution_count": 25,
     "metadata": {},
     "output_type": "execute_result"
    }
   ],
   "source": [
    "len(train_pos_all), len(train_neg_all), len(test_pos_all), len(test_neg_all)"
   ]
  },
  {
   "cell_type": "code",
   "execution_count": 30,
   "metadata": {},
   "outputs": [],
   "source": [
    "all_data = train_pos_all + train_neg_all + test_pos_all + test_neg_all\n",
    "all_label = [2 for _ in range(len(train_pos_all))] + [1 for _ in range(len(train_neg_all))] + [2 for _ in range(len(test_pos_all))] + [1 for _ in range(len(test_neg_all))] "
   ]
  },
  {
   "cell_type": "code",
   "execution_count": 31,
   "metadata": {},
   "outputs": [
    {
     "data": {
      "text/plain": [
       "(50000, 50000)"
      ]
     },
     "execution_count": 31,
     "metadata": {},
     "output_type": "execute_result"
    }
   ],
   "source": [
    "len(all_data), len(all_label)"
   ]
  },
  {
   "cell_type": "code",
   "execution_count": 34,
   "metadata": {},
   "outputs": [],
   "source": [
    "X_train_val, X_test, y_train_val, y_test = train_test_split(all_data, all_label, test_size=0.33, random_state=7)"
   ]
  },
  {
   "cell_type": "code",
   "execution_count": 36,
   "metadata": {},
   "outputs": [
    {
     "data": {
      "text/plain": [
       "(33500, 33500)"
      ]
     },
     "execution_count": 36,
     "metadata": {},
     "output_type": "execute_result"
    }
   ],
   "source": [
    "len(X_train_val), len(y_train_val)"
   ]
  },
  {
   "cell_type": "markdown",
   "metadata": {},
   "source": [
    "# output data dictionary"
   ]
  },
  {
   "cell_type": "code",
   "execution_count": 49,
   "metadata": {},
   "outputs": [],
   "source": [
    "data_dict = {\"text\":all_data, \"label\":all_label}"
   ]
  },
  {
   "cell_type": "code",
   "execution_count": null,
   "metadata": {},
   "outputs": [],
   "source": [
    "with open(\"../data/movie_reviews/all_dict.txt\",\"r\") as f:\n",
    "    json.dump(data_dict, f, indent=4)"
   ]
  },
  {
   "cell_type": "code",
   "execution_count": 41,
   "metadata": {},
   "outputs": [
    {
     "name": "stdout",
     "output_type": "stream",
     "text": [
      "0.501\n",
      "0.502\n"
     ]
    }
   ],
   "source": [
    "print(sum([x==1 for x in y_train_val[:2000]])/len(y_train_val[:2000])) # data is balanced\n",
    "print(sum([x==1 for x in y_test[:2000]])/len(y_test[:2000])) # data is balanced"
   ]
  },
  {
   "cell_type": "code",
   "execution_count": 40,
   "metadata": {},
   "outputs": [],
   "source": [
    "def tokenize_encode_sentences(tokenizer, model, input_sentences, output_path):\n",
    "    output = np.zeros([len(input_sentences), 768])\n",
    "    for i, x in enumerate(input_sentences): \n",
    "        output[i] = tokenize_encode_sentences_sample(tokenizer, model, [x])\n",
    "    np.save(output_path, output)\n",
    "    return output\n",
    "\n",
    "def tokenize_encode_sentences_sample(tokenizer, model, input_sentences):\n",
    "    encoded_input = tokenizer(input_sentences, return_tensors = 'pt', truncation = True, padding = True)\n",
    "    output = model(**encoded_input)[0][:,0,:].detach().numpy()\n",
    "    return output"
   ]
  },
  {
   "cell_type": "code",
   "execution_count": 46,
   "metadata": {},
   "outputs": [],
   "source": [
    "tokenizer = BertTokenizer.from_pretrained('bert-base-uncased')\n",
    "model = BertModel.from_pretrained('bert-base-uncased')"
   ]
  },
  {
   "cell_type": "code",
   "execution_count": 55,
   "metadata": {},
   "outputs": [],
   "source": [
    "bert_train = tokenize_encode_sentences(tokenizer, model, list(X_train_val[:2000]), \"../data/all_bert\" + \"encoded_aclimbd_train_2000\")\n",
    "# bert_test = tokenize_encode_sentences(tokenizer, model, list(X_test[:2000]), \"../data/all_bert\" + \"encoded_aclimbd_test_2000\")"
   ]
  },
  {
   "cell_type": "code",
   "execution_count": 52,
   "metadata": {},
   "outputs": [
    {
     "name": "stderr",
     "output_type": "stream",
     "text": [
      "<ipython-input-52-4b79dff5ed0e>:1: VisibleDeprecationWarning: Creating an ndarray from ragged nested sequences (which is a list-or-tuple of lists-or-tuples-or ndarrays with different lengths or shapes) is deprecated. If you meant to do this, you must specify 'dtype=object' when creating the ndarray\n",
      "  aclimbd_array = np.array([bert_train, y_train_val[:2000], \"aclimbd\"])\n"
     ]
    }
   ],
   "source": [
    "aclimbd_array = np.array([bert_train, y_train_val[:2000], \"aclimbd\"])\n",
    "np.save(data_main_path + \"movie_review.npy\", aclimbd_array)"
   ]
  },
  {
   "cell_type": "code",
   "execution_count": 54,
   "metadata": {},
   "outputs": [
    {
     "data": {
      "text/plain": [
       "array([[-0.05888786, -0.01375623, -0.05178594, ..., -0.17930274,\n",
       "         0.66051066,  0.62604874],\n",
       "       [-0.21833044, -0.30038214, -0.2517412 , ..., -0.05173419,\n",
       "         0.76385438,  0.30639154],\n",
       "       [ 0.36435646, -0.28725877, -0.15936121, ..., -0.05094235,\n",
       "         0.58515561,  0.3106201 ],\n",
       "       ...,\n",
       "       [-0.00734697, -0.5028249 ,  0.2238474 , ..., -0.03800585,\n",
       "         0.57313204,  0.51405483],\n",
       "       [-0.25712967, -0.34837094,  0.05731477, ..., -0.29740858,\n",
       "         0.46573183,  0.59045959],\n",
       "       [ 0.21649717, -0.1659523 ,  0.53854537, ..., -0.06250568,\n",
       "         0.44901812,  0.16673516]])"
      ]
     },
     "execution_count": 54,
     "metadata": {},
     "output_type": "execute_result"
    }
   ],
   "source": [
    "aclimbd_array[0]"
   ]
  }
 ],
 "metadata": {
  "kernelspec": {
   "display_name": "Python 3",
   "language": "python",
   "name": "python3"
  },
  "language_info": {
   "codemirror_mode": {
    "name": "ipython",
    "version": 3
   },
   "file_extension": ".py",
   "mimetype": "text/x-python",
   "name": "python",
   "nbconvert_exporter": "python",
   "pygments_lexer": "ipython3",
   "version": "3.8.5"
  }
 },
 "nbformat": 4,
 "nbformat_minor": 4
}
