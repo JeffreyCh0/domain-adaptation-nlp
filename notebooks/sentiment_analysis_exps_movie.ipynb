{
 "cells": [
  {
   "cell_type": "code",
   "execution_count": 100,
   "metadata": {},
   "outputs": [],
   "source": [
    "import numpy as np\n",
    "import json\n",
    "from os import listdir\n",
    "from os.path import isfile, join\n",
    "from sklearn.model_selection import train_test_split\n",
    "import torch\n",
    "import zipfile\n",
    "import bz2\n",
    "from transformers import DistilBertTokenizer, DistilBertModel\n",
    "from transformers import BertTokenizer, BertModel\n",
    "from sklearn.model_selection import train_test_split\n",
    "from sklearn.linear_model import LogisticRegression\n",
    "from sklearn.svm import SVC\n",
    "import torch\n",
    "import torch.nn as nn"
   ]
  },
  {
   "cell_type": "code",
   "execution_count": 3,
   "metadata": {},
   "outputs": [],
   "source": [
    "#https://ai.stanford.edu/~amaas/data/sentiment/"
   ]
  },
  {
   "cell_type": "code",
   "execution_count": 10,
   "metadata": {},
   "outputs": [],
   "source": [
    "data_main_path = \"../data/movie_reviews/aclImdb/\""
   ]
  },
  {
   "cell_type": "code",
   "execution_count": 16,
   "metadata": {},
   "outputs": [
    {
     "name": "stdout",
     "output_type": "stream",
     "text": [
      "['4715_9.txt', '12390_8.txt', '8329_7.txt', '9063_8.txt', '3092_10.txt', '9865_8.txt', '6639_10.txt', '10460_10.txt', '10331_10.txt', '11606_10.txt']\n"
     ]
    }
   ],
   "source": [
    "train_pos_files = [f for f in listdir(data_main_path + \"train/pos/\") if isfile(join(data_main_path + \"train/pos/\", f))]\n",
    "train_neg_files = [f for f in listdir(data_main_path + \"train/neg/\") if isfile(join(data_main_path + \"train/neg/\", f))]\n",
    "test_pos_files = [f for f in listdir(data_main_path + \"test/pos/\") if isfile(join(data_main_path + \"test/pos/\", f))]\n",
    "test_neg_files = [f for f in listdir(data_main_path + \"test/neg/\") if isfile(join(data_main_path + \"test/neg/\", f))]\n",
    "print(train_pos_files[0:10])"
   ]
  },
  {
   "cell_type": "code",
   "execution_count": 18,
   "metadata": {},
   "outputs": [],
   "source": [
    "train_pos_all = []\n",
    "for i in train_pos_files:\n",
    "    with open(data_main_path + \"train/pos/\" + i) as f:\n",
    "        train_pos_all.append(f.read())"
   ]
  },
  {
   "cell_type": "code",
   "execution_count": 22,
   "metadata": {},
   "outputs": [],
   "source": [
    "train_neg_all = []\n",
    "for i in train_neg_files:\n",
    "    with open(data_main_path + \"train/neg/\" + i) as f:\n",
    "        train_neg_all.append(f.read())"
   ]
  },
  {
   "cell_type": "code",
   "execution_count": 23,
   "metadata": {},
   "outputs": [],
   "source": [
    "test_pos_all = []\n",
    "for i in test_pos_files:\n",
    "    with open(data_main_path + \"test/pos/\" + i) as f:\n",
    "        test_pos_all.append(f.read())"
   ]
  },
  {
   "cell_type": "code",
   "execution_count": 24,
   "metadata": {},
   "outputs": [],
   "source": [
    "test_neg_all = []\n",
    "for i in test_neg_files:\n",
    "    with open(data_main_path + \"test/neg/\" + i) as f:\n",
    "        test_neg_all.append(f.read())"
   ]
  },
  {
   "cell_type": "markdown",
   "metadata": {},
   "source": [
    "# check length and combine all data"
   ]
  },
  {
   "cell_type": "code",
   "execution_count": 25,
   "metadata": {},
   "outputs": [
    {
     "data": {
      "text/plain": [
       "(12500, 12500, 12500, 12500)"
      ]
     },
     "execution_count": 25,
     "metadata": {},
     "output_type": "execute_result"
    }
   ],
   "source": [
    "len(train_pos_all), len(train_neg_all), len(test_pos_all), len(test_neg_all)"
   ]
  },
  {
   "cell_type": "code",
   "execution_count": 30,
   "metadata": {},
   "outputs": [],
   "source": [
    "all_data = train_pos_all + train_neg_all + test_pos_all + test_neg_all\n",
    "all_label = [2 for _ in range(len(train_pos_all))] + [1 for _ in range(len(train_neg_all))] + [2 for _ in range(len(test_pos_all))] + [1 for _ in range(len(test_neg_all))] "
   ]
  },
  {
   "cell_type": "code",
   "execution_count": 31,
   "metadata": {},
   "outputs": [
    {
     "data": {
      "text/plain": [
       "(50000, 50000)"
      ]
     },
     "execution_count": 31,
     "metadata": {},
     "output_type": "execute_result"
    }
   ],
   "source": [
    "len(all_data), len(all_label)"
   ]
  },
  {
   "cell_type": "code",
   "execution_count": 34,
   "metadata": {},
   "outputs": [],
   "source": [
    "X_train_val, X_test, y_train_val, y_test = train_test_split(all_data, all_label, test_size=0.33, random_state=7)"
   ]
  },
  {
   "cell_type": "code",
   "execution_count": 36,
   "metadata": {},
   "outputs": [
    {
     "data": {
      "text/plain": [
       "(33500, 33500)"
      ]
     },
     "execution_count": 36,
     "metadata": {},
     "output_type": "execute_result"
    }
   ],
   "source": [
    "len(X_train_val), len(y_train_val)"
   ]
  },
  {
   "cell_type": "markdown",
   "metadata": {},
   "source": [
    "# output data dictionary"
   ]
  },
  {
   "cell_type": "code",
   "execution_count": 49,
   "metadata": {},
   "outputs": [],
   "source": [
    "data_dict = {\"text\":all_data, \"label\":all_label}"
   ]
  },
  {
   "cell_type": "code",
   "execution_count": null,
   "metadata": {},
   "outputs": [],
   "source": [
    "with open(\"../data/movie_reviews/all_dict.txt\",\"r\") as f:\n",
    "    json.dump(data_dict, f, indent=4)"
   ]
  },
  {
   "cell_type": "code",
   "execution_count": 41,
   "metadata": {},
   "outputs": [
    {
     "name": "stdout",
     "output_type": "stream",
     "text": [
      "0.501\n",
      "0.502\n"
     ]
    }
   ],
   "source": [
    "print(sum([x==1 for x in y_train_val[:2000]])/len(y_train_val[:2000])) # data is balanced\n",
    "print(sum([x==1 for x in y_test[:2000]])/len(y_test[:2000])) # data is balanced"
   ]
  },
  {
   "cell_type": "code",
   "execution_count": 40,
   "metadata": {},
   "outputs": [],
   "source": [
    "def tokenize_encode_sentences(tokenizer, model, input_sentences, output_path):\n",
    "    output = np.zeros([len(input_sentences), 768])\n",
    "    for i, x in enumerate(input_sentences): \n",
    "        output[i] = tokenize_encode_sentences_sample(tokenizer, model, [x])\n",
    "    np.save(output_path, output)\n",
    "    return output\n",
    "\n",
    "def tokenize_encode_sentences_sample(tokenizer, model, input_sentences):\n",
    "    encoded_input = tokenizer(input_sentences, return_tensors = 'pt', truncation = True, padding = True)\n",
    "    output = model(**encoded_input)[0][:,0,:].detach().numpy()\n",
    "    return output"
   ]
  },
  {
   "cell_type": "code",
   "execution_count": 46,
   "metadata": {},
   "outputs": [],
   "source": [
    "tokenizer = BertTokenizer.from_pretrained('bert-base-uncased')\n",
    "model = BertModel.from_pretrained('bert-base-uncased')"
   ]
  },
  {
   "cell_type": "code",
   "execution_count": 55,
   "metadata": {},
   "outputs": [],
   "source": [
    "bert_train = tokenize_encode_sentences(tokenizer, model, list(X_train_val[:2000]), \"../data/all_bert\" + \"encoded_aclimbd_train_2000\")\n",
    "# bert_test = tokenize_encode_sentences(tokenizer, model, list(X_test[:2000]), \"../data/all_bert\" + \"encoded_aclimbd_test_2000\")"
   ]
  },
  {
   "cell_type": "code",
   "execution_count": 112,
   "metadata": {},
   "outputs": [],
   "source": [
    "aclimbd_array = np.array([bert_train, y_train_val[:2000], \"aclimbd\"], dtype=object)\n",
    "np.save(data_main_path + \"movie_review.npy\", aclimbd_array)"
   ]
  },
  {
   "cell_type": "code",
   "execution_count": 113,
   "metadata": {},
   "outputs": [
    {
     "data": {
      "text/plain": [
       "'../data/movie_reviews/aclImdb/'"
      ]
     },
     "execution_count": 113,
     "metadata": {},
     "output_type": "execute_result"
    }
   ],
   "source": [
    "data_main_path"
   ]
  },
  {
   "cell_type": "code",
   "execution_count": 57,
   "metadata": {},
   "outputs": [
    {
     "data": {
      "text/plain": [
       "array([[-0.05888786, -0.01375623, -0.05178594, ..., -0.17930274,\n",
       "         0.66051066,  0.62604874],\n",
       "       [-0.21833044, -0.30038214, -0.2517412 , ..., -0.05173419,\n",
       "         0.76385438,  0.30639154],\n",
       "       [ 0.36435646, -0.28725877, -0.15936121, ..., -0.05094235,\n",
       "         0.58515561,  0.3106201 ],\n",
       "       ...,\n",
       "       [-0.00734697, -0.5028249 ,  0.2238474 , ..., -0.03800585,\n",
       "         0.57313204,  0.51405483],\n",
       "       [-0.25712967, -0.34837094,  0.05731477, ..., -0.29740858,\n",
       "         0.46573183,  0.59045959],\n",
       "       [ 0.21649717, -0.1659523 ,  0.53854537, ..., -0.06250568,\n",
       "         0.44901812,  0.16673516]])"
      ]
     },
     "execution_count": 57,
     "metadata": {},
     "output_type": "execute_result"
    }
   ],
   "source": [
    "aclimbd_array[0]"
   ]
  },
  {
   "cell_type": "markdown",
   "metadata": {},
   "source": [
    "# Logistic Regression"
   ]
  },
  {
   "cell_type": "code",
   "execution_count": 93,
   "metadata": {},
   "outputs": [
    {
     "name": "stdout",
     "output_type": "stream",
     "text": [
      "0.9585 0.849 0.10950000000000004\n"
     ]
    }
   ],
   "source": [
    "lr = LogisticRegression(C=1, l1_ratio = 0, penalty=\"elasticnet\", max_iter=20000, solver=\"saga\")\n",
    "ts = lr.fit(bert_train, y_train_val[:2000]).score(bert_train, y_train_val[:2000])\n",
    "vs = lr.fit(bert_train, y_train_val[:2000]).score(bert_test, y_test[:2000])\n",
    "print(ts, vs, ts-vs)"
   ]
  },
  {
   "cell_type": "code",
   "execution_count": 94,
   "metadata": {},
   "outputs": [
    {
     "name": "stdout",
     "output_type": "stream",
     "text": [
      "0.938 0.8435 0.09449999999999992\n"
     ]
    }
   ],
   "source": [
    "lr = LogisticRegression(C=1, l1_ratio = 1, penalty=\"elasticnet\", max_iter=20000, solver=\"saga\")\n",
    "ts = lr.fit(bert_train, y_train_val[:2000]).score(bert_train, y_train_val[:2000])\n",
    "vs = lr.fit(bert_train, y_train_val[:2000]).score(bert_test, y_test[:2000])\n",
    "print(ts, vs, ts-vs)"
   ]
  },
  {
   "cell_type": "code",
   "execution_count": 95,
   "metadata": {},
   "outputs": [
    {
     "name": "stdout",
     "output_type": "stream",
     "text": [
      "0.9215 0.8505 0.07099999999999995\n"
     ]
    }
   ],
   "source": [
    "lr = LogisticRegression(C=0.2, l1_ratio = 0, penalty=\"elasticnet\", max_iter=20000, solver=\"saga\")\n",
    "ts = lr.fit(bert_train, y_train_val[:2000]).score(bert_train, y_train_val[:2000])\n",
    "vs = lr.fit(bert_train, y_train_val[:2000]).score(bert_test, y_test[:2000])\n",
    "print(ts, vs, ts-vs)"
   ]
  },
  {
   "cell_type": "code",
   "execution_count": 96,
   "metadata": {},
   "outputs": [
    {
     "name": "stdout",
     "output_type": "stream",
     "text": [
      "0.877 0.8445 0.03249999999999997\n"
     ]
    }
   ],
   "source": [
    "lr = LogisticRegression(C=0.1, l1_ratio = 0.5, penalty=\"elasticnet\", max_iter=20000, solver=\"saga\")\n",
    "ts = lr.fit(bert_train, y_train_val[:2000]).score(bert_train, y_train_val[:2000])\n",
    "vs = lr.fit(bert_train, y_train_val[:2000]).score(bert_test, y_test[:2000])\n",
    "print(ts, vs, ts-vs)"
   ]
  },
  {
   "cell_type": "code",
   "execution_count": 97,
   "metadata": {},
   "outputs": [
    {
     "name": "stdout",
     "output_type": "stream",
     "text": [
      "0.865 0.8435 0.021499999999999964\n"
     ]
    }
   ],
   "source": [
    "lr = LogisticRegression(C=0.1, l1_ratio = 0.8, penalty=\"elasticnet\", max_iter=20000, solver=\"saga\")\n",
    "ts = lr.fit(bert_train, y_train_val[:2000]).score(bert_train, y_train_val[:2000])\n",
    "vs = lr.fit(bert_train, y_train_val[:2000]).score(bert_test, y_test[:2000])\n",
    "print(ts, vs, ts-vs)"
   ]
  },
  {
   "cell_type": "markdown",
   "metadata": {},
   "source": [
    "# IGNORE:explore neural models (simple fnn)"
   ]
  },
  {
   "cell_type": "code",
   "execution_count": 101,
   "metadata": {},
   "outputs": [],
   "source": [
    "# TODO: Define and initialize an FNN model, save it in a variable called `fnn_model`\n",
    "hidden_size1 = 200\n",
    "hidden_size2 = 100\n",
    "hidden_size3 = 80\n",
    "fnn_model = nn.Sequential(\n",
    "    nn.Linear(3*224*224, hidden_size1),\n",
    "    nn.ReLU(),\n",
    "    nn.Linear(hidden_size1, hidden_size2),\n",
    "    nn.ReLU(),\n",
    "    nn.Linear(hidden_size2, hidden_size3),\n",
    "    nn.ReLU(),\n",
    "    nn.Linear(hidden_size3, 67)\n",
    ")"
   ]
  },
  {
   "cell_type": "code",
   "execution_count": 102,
   "metadata": {},
   "outputs": [],
   "source": [
    "def train_model(model, optimizer, criterion, epochs=10):\n",
    "#     for child in model.children():\n",
    "#       if hasattr(child, 'reset_parameters'):\n",
    "#         child.reset_parameters()\n",
    "\n",
    "    model.train()\n",
    "    model.to(device)\n",
    "    \n",
    "    # TODO: Implement your training loop as specified in the description\n",
    "    loss_list = []\n",
    "    accuracy_list = []\n",
    "    for epoch in range(epochs):\n",
    "        \n",
    "        running_loss_2000 = 0\n",
    "        running_loss = 0\n",
    "        total = 0\n",
    "        correct = 0\n",
    "        \n",
    "        for i, data in enumerate(train_loader, 0):\n",
    "            inputs_unflattened, labels = data\n",
    "            inputs = torch.flatten(inputs_unflattened, start_dim=1).to(device)\n",
    "            labels = labels.to(device)\n",
    "            optimizer.zero_grad()\n",
    "\n",
    "            outputs = model(inputs)\n",
    "            loss = criterion(outputs, labels)\n",
    "            loss.backward()\n",
    "            optimizer.step()\n",
    "\n",
    "            # save avg loss and accuracy for each epoch\n",
    "            with torch.no_grad():\n",
    "                total += labels.size(0)\n",
    "\n",
    "                # loss\n",
    "                running_loss += loss.item()*32 # avg need update\n",
    "\n",
    "                # accuracy\n",
    "                outputs = model(inputs)\n",
    "                _, predicted = torch.max(outputs.data, 1)\n",
    "                correct += (predicted == labels).sum().item()\n",
    "\n",
    "        avg_loss = running_loss/total\n",
    "        accuracy = correct/total\n",
    "        print(\"Epoch:\", epoch,\"loss:\", avg_loss, \"accuracy:\", accuracy)\n",
    "        loss_list.append(avg_loss)\n",
    "        accuracy_list.append(accuracy)\n",
    "\n",
    "    final_training_accuracy =  accuracy_list[-1]  # TODO: Set this to final training accuracy\n",
    "    final_training_loss =  loss_list[-1]  # TODO: Set this to final testing accuracy"
   ]
  }
 ],
 "metadata": {
  "kernelspec": {
   "display_name": "Python 3",
   "language": "python",
   "name": "python3"
  },
  "language_info": {
   "codemirror_mode": {
    "name": "ipython",
    "version": 3
   },
   "file_extension": ".py",
   "mimetype": "text/x-python",
   "name": "python",
   "nbconvert_exporter": "python",
   "pygments_lexer": "ipython3",
   "version": "3.8.5"
  }
 },
 "nbformat": 4,
 "nbformat_minor": 4
}
