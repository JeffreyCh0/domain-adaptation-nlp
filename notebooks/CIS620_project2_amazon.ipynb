{
 "cells": [
  {
   "cell_type": "code",
   "execution_count": 42,
   "metadata": {},
   "outputs": [
    {
     "data": {
      "application/javascript": [
       "if (!(\"Notification\" in window)) {\n",
       "    alert(\"This browser does not support desktop notifications, so the %%notify magic will not work.\");\n",
       "} else if (Notification.permission !== 'granted' && Notification.permission !== 'denied') {\n",
       "    Notification.requestPermission(function (permission) {\n",
       "        if(!('permission' in Notification)) {\n",
       "            Notification.permission = permission;\n",
       "        }\n",
       "    })\n",
       "}\n"
      ],
      "text/plain": [
       "<IPython.core.display.Javascript object>"
      ]
     },
     "metadata": {},
     "output_type": "display_data"
    }
   ],
   "source": [
    "%load_ext jupyternotify"
   ]
  },
  {
   "cell_type": "code",
   "execution_count": 102,
   "metadata": {
    "id": "KHyiDWUA9D-E"
   },
   "outputs": [
    {
     "ename": "ImportError",
     "evalue": "cannot import name 'Appender'",
     "output_type": "error",
     "traceback": [
      "\u001b[0;31m---------------------------------------------------------------------------\u001b[0m",
      "\u001b[0;31mImportError\u001b[0m                               Traceback (most recent call last)",
      "\u001b[0;32m<ipython-input-102-b7c655f0126c>\u001b[0m in \u001b[0;36m<module>\u001b[0;34m()\u001b[0m\n\u001b[1;32m     18\u001b[0m \u001b[0;32mimport\u001b[0m \u001b[0mpickle\u001b[0m\u001b[0;34m\u001b[0m\u001b[0;34m\u001b[0m\u001b[0m\n\u001b[1;32m     19\u001b[0m \u001b[0;32mimport\u001b[0m \u001b[0mtime\u001b[0m\u001b[0;34m\u001b[0m\u001b[0;34m\u001b[0m\u001b[0m\n\u001b[0;32m---> 20\u001b[0;31m \u001b[0;32mimport\u001b[0m \u001b[0mstatsmodels\u001b[0m\u001b[0;34m.\u001b[0m\u001b[0mapi\u001b[0m \u001b[0;32mas\u001b[0m \u001b[0msm\u001b[0m\u001b[0;34m\u001b[0m\u001b[0;34m\u001b[0m\u001b[0m\n\u001b[0m\u001b[1;32m     21\u001b[0m \u001b[0;32mfrom\u001b[0m \u001b[0mscipy\u001b[0m \u001b[0;32mimport\u001b[0m \u001b[0mstats\u001b[0m\u001b[0;34m\u001b[0m\u001b[0;34m\u001b[0m\u001b[0m\n\u001b[1;32m     22\u001b[0m \u001b[0;34m\u001b[0m\u001b[0m\n",
      "\u001b[0;32m~/anaconda3/lib/python3.6/site-packages/statsmodels/api.py\u001b[0m in \u001b[0;36m<module>\u001b[0;34m()\u001b[0m\n\u001b[1;32m     18\u001b[0m \u001b[0;32mfrom\u001b[0m \u001b[0;34m.\u001b[0m \u001b[0;32mimport\u001b[0m \u001b[0mrobust\u001b[0m\u001b[0;34m\u001b[0m\u001b[0;34m\u001b[0m\u001b[0m\n\u001b[1;32m     19\u001b[0m \u001b[0;32mfrom\u001b[0m \u001b[0;34m.\u001b[0m\u001b[0mrobust\u001b[0m\u001b[0;34m.\u001b[0m\u001b[0mrobust_linear_model\u001b[0m \u001b[0;32mimport\u001b[0m \u001b[0mRLM\u001b[0m\u001b[0;34m\u001b[0m\u001b[0;34m\u001b[0m\u001b[0m\n\u001b[0;32m---> 20\u001b[0;31m from .discrete.discrete_model import (Poisson, Logit, Probit,\n\u001b[0m\u001b[1;32m     21\u001b[0m                                       \u001b[0mMNLogit\u001b[0m\u001b[0;34m,\u001b[0m \u001b[0mNegativeBinomial\u001b[0m\u001b[0;34m,\u001b[0m\u001b[0;34m\u001b[0m\u001b[0;34m\u001b[0m\u001b[0m\n\u001b[1;32m     22\u001b[0m                                       \u001b[0mGeneralizedPoisson\u001b[0m\u001b[0;34m,\u001b[0m\u001b[0;34m\u001b[0m\u001b[0;34m\u001b[0m\u001b[0m\n",
      "\u001b[0;32m~/anaconda3/lib/python3.6/site-packages/statsmodels/discrete/discrete_model.py\u001b[0m in \u001b[0;36m<module>\u001b[0;34m()\u001b[0m\n\u001b[1;32m     19\u001b[0m            \"GeneralizedPoisson\", \"NegativeBinomialP\", \"CountModel\"]\n\u001b[1;32m     20\u001b[0m \u001b[0;34m\u001b[0m\u001b[0m\n\u001b[0;32m---> 21\u001b[0;31m \u001b[0;32mfrom\u001b[0m \u001b[0mstatsmodels\u001b[0m\u001b[0;34m.\u001b[0m\u001b[0mcompat\u001b[0m\u001b[0;34m.\u001b[0m\u001b[0mpandas\u001b[0m \u001b[0;32mimport\u001b[0m \u001b[0mAppender\u001b[0m\u001b[0;34m\u001b[0m\u001b[0;34m\u001b[0m\u001b[0m\n\u001b[0m\u001b[1;32m     22\u001b[0m \u001b[0;34m\u001b[0m\u001b[0m\n\u001b[1;32m     23\u001b[0m \u001b[0;32mimport\u001b[0m \u001b[0mwarnings\u001b[0m\u001b[0;34m\u001b[0m\u001b[0;34m\u001b[0m\u001b[0m\n",
      "\u001b[0;31mImportError\u001b[0m: cannot import name 'Appender'"
     ]
    }
   ],
   "source": [
    "import numpy as np\n",
    "import pandas as pd\n",
    "from sklearn import linear_model\n",
    "from sklearn.model_selection import train_test_split\n",
    "from sklearn.linear_model import LogisticRegression, LinearRegression\n",
    "from sklearn.model_selection import GridSearchCV\n",
    "from sklearn.model_selection import cross_val_score\n",
    "from sklearn.metrics.pairwise import cosine_distances\n",
    "from numpy import dot\n",
    "from numpy.linalg import norm\n",
    "import torch\n",
    "import transformers as ppb\n",
    "import warnings\n",
    "import random\n",
    "import matplotlib.pyplot as plt\n",
    "from os import walk\n",
    "from itertools import permutations\n",
    "import pickle\n",
    "import time\n",
    "import statsmodels.api as sm\n",
    "from scipy import stats\n",
    "\n",
    "warnings.filterwarnings('ignore')\n",
    "%matplotlib inline\n",
    "\n",
    "\n"
   ]
  },
  {
   "cell_type": "code",
   "execution_count": 3,
   "metadata": {
    "colab": {
     "base_uri": "https://localhost:8080/",
     "height": 262,
     "referenced_widgets": [
      "8af3f58a8f46486b9302fa0a67506039",
      "f4513739b77849f3bad55a4b2af53ec2",
      "4af0c1c67b8e459aa195d21e70669158",
      "3d42c1991a1242f49df5caf04474fe35",
      "1af911180bfe47679c0fafd0b7612d5c",
      "b70b7dfbcd0c4a50bfe45ff970a80558",
      "68481ce699f5403cb5333561908059eb",
      "2a490fcf337a42a888f3df041a5d54dc",
      "ed6b74b0d7614d77912fe5fd05d9d3ae",
      "241b3242f8d143269e083c1b08ab9cfc",
      "f8784237e22f4f5ca077a38c26ddb921",
      "d61a4c3389ed47ddbc358ea09c4814e7",
      "15c11ffc0bbf4feeba80a58aed0baa6f",
      "5d7f8ed9692d4e1692ce96e6c488367c",
      "960637a5ab3541609ed93e8728ab50a4",
      "d9dae45523b445c2829132895f603451",
      "8ed3df64821e46e3a7210ddab2d981f8",
      "ba213abdd4cf45369dec851ca650e1df",
      "7f18d9bd96f940aa857e1121cefa0eef",
      "45a55516cdc445a7a51aea15337b74b4",
      "d576b6a9f59f40d39b8edc3e7d1fe52a",
      "1635d7855dab4bbf9ac116a71a7a59d8",
      "5cbf4f24fb034cfebe819656d3679730",
      "46096a1caa044c6cb43cf40524d1ee10",
      "b9769cbab9c74a6285d35011c24d64b6",
      "160dbb7885e04b1986563586f8600473",
      "407c0b5ea9c048d883c8299701e24177",
      "835d7ce53f724ccf8427f6a0e2cc7245",
      "85f1547f69864fffa628bd7820b876c2",
      "9a788a61d55e43bcbfeb73e41a024932",
      "9d636d43d50e498ca3b39931ed1dc04b",
      "3decc831134d41909a78c35c2609654d",
      "a8156c60f9d645b6ab4c1908d185ab7a",
      "b0383d18280f48a69c312905f153f4f7",
      "ba06b649d93c4ea5b89f772e5f6d8e9b",
      "c349299da95c4409860962bfcdcc628f",
      "dcf15b160e064381ba9bda1841cd2e7c",
      "ade4b6813ebc401e81af65b81c532c42",
      "71f8a363773f4853b8e10f86c2a97c3d",
      "10d22ab733144da682f7ab0303298003"
     ]
    },
    "id": "QzxoC8pSB2Q9",
    "outputId": "311be4a9-ec79-4e36-d71d-a1d6ee5a7a4c",
    "scrolled": true
   },
   "outputs": [
    {
     "data": {
      "application/vnd.jupyter.widget-view+json": {
       "model_id": "bf2053978d41487082587dfbc58340b0",
       "version_major": 2,
       "version_minor": 0
      },
      "text/plain": [
       "HBox(children=(FloatProgress(value=0.0, description='Downloading', max=231508.0, style=ProgressStyle(descripti…"
      ]
     },
     "metadata": {},
     "output_type": "display_data"
    },
    {
     "name": "stdout",
     "output_type": "stream",
     "text": [
      "\n"
     ]
    },
    {
     "data": {
      "application/vnd.jupyter.widget-view+json": {
       "model_id": "1b7d242f4b4e43ad836fe1943495c1ac",
       "version_major": 2,
       "version_minor": 0
      },
      "text/plain": [
       "HBox(children=(FloatProgress(value=0.0, description='Downloading', max=28.0, style=ProgressStyle(description_w…"
      ]
     },
     "metadata": {},
     "output_type": "display_data"
    },
    {
     "name": "stdout",
     "output_type": "stream",
     "text": [
      "\n"
     ]
    },
    {
     "data": {
      "application/vnd.jupyter.widget-view+json": {
       "model_id": "fe49262f1b054754a9f9dca27043cccf",
       "version_major": 2,
       "version_minor": 0
      },
      "text/plain": [
       "HBox(children=(FloatProgress(value=0.0, description='Downloading', max=466062.0, style=ProgressStyle(descripti…"
      ]
     },
     "metadata": {},
     "output_type": "display_data"
    },
    {
     "name": "stdout",
     "output_type": "stream",
     "text": [
      "\n"
     ]
    },
    {
     "data": {
      "application/vnd.jupyter.widget-view+json": {
       "model_id": "9c8a2b708b824552a6f55defe0944261",
       "version_major": 2,
       "version_minor": 0
      },
      "text/plain": [
       "HBox(children=(FloatProgress(value=0.0, description='Downloading', max=442.0, style=ProgressStyle(description_…"
      ]
     },
     "metadata": {},
     "output_type": "display_data"
    },
    {
     "name": "stdout",
     "output_type": "stream",
     "text": [
      "\n"
     ]
    },
    {
     "data": {
      "application/vnd.jupyter.widget-view+json": {
       "model_id": "ff0db5517a054d5e8b0a62e999a1e37e",
       "version_major": 2,
       "version_minor": 0
      },
      "text/plain": [
       "HBox(children=(FloatProgress(value=0.0, description='Downloading', max=267967963.0, style=ProgressStyle(descri…"
      ]
     },
     "metadata": {},
     "output_type": "display_data"
    },
    {
     "name": "stdout",
     "output_type": "stream",
     "text": [
      "\n"
     ]
    }
   ],
   "source": [
    "# For DistilBERT:\n",
    "model_class, tokenizer_class, pretrained_weights = (ppb.DistilBertModel, ppb.DistilBertTokenizer, 'distilbert-base-uncased')\n",
    "\n",
    "## Want BERT instead of distilBERT? Uncomment the following line:\n",
    "#model_class, tokenizer_class, pretrained_weights = (ppb.BertModel, ppb.BertTokenizer, 'bert-base-uncased')\n",
    "\n",
    "# Load pretrained model/tokenizer\n",
    "tokenizer = tokenizer_class.from_pretrained(pretrained_weights)\n",
    "model = model_class.from_pretrained(pretrained_weights)"
   ]
  },
  {
   "cell_type": "code",
   "execution_count": 170,
   "metadata": {
    "id": "F_GNZZwJ9o83"
   },
   "outputs": [],
   "source": [
    "def data2df(PATH):\n",
    "    lines = open(PATH, encoding='iso-8859-1').read().strip().split('\\n')\n",
    "    lines = [line.split(\"\\t\") for line in lines]\n",
    "    lines = pd.DataFrame(lines)\n",
    "    lines = lines[lines[1] != 'UNCONFIDENT_INTENT_FROM_SLAD']\n",
    "    lines[1] = lines[1].apply(lambda x: int(x)-1)\n",
    "    return lines\n",
    "\n",
    "def df2embd(df):\n",
    "    max_row = min(len(df[df[1]==1]),len(df[df[1]==0]),1000)\n",
    "    batch_1 = pd.concat((df[df[1]==1].sample(n=max_row, random_state=1),df[df[1]==0].sample(n=max_row, random_state=1)))\n",
    "    tokenized = batch_1[0].apply((lambda x: tokenizer.encode(x, add_special_tokens=True)))\n",
    "    max_len = 0\n",
    "    for i in tokenized.values:\n",
    "        if len(i) > max_len:\n",
    "            max_len = len(i)\n",
    "\n",
    "    padded = np.array([i + [0]*(max_len-len(i)) for i in tokenized.values])\n",
    "    attention_mask = np.where(padded != 0, 1, 0)\n",
    "    attention_mask.shape\n",
    "    input_ids = torch.tensor(padded)  \n",
    "    attention_mask = torch.tensor(attention_mask)\n",
    "\n",
    "    with torch.no_grad():\n",
    "        last_hidden_states = model(input_ids, attention_mask=attention_mask)\n",
    "    features = last_hidden_states[0][:,0,:].numpy()\n",
    "    labels = batch_1[1]\n",
    "    return features, np.array(labels)\n",
    "\n",
    "def cos_dist(A, B):\n",
    "       return 1 - (dot(A, B)/(norm(A)*norm(B)))\n",
    "\n",
    "def S2T(train_features, train_labels, test_features, test_labels):\n",
    "    lr_clf = LogisticRegression()\n",
    "    lr_clf.fit(train_features, train_labels)\n",
    "    return lr_clf.score(test_features, test_labels)\n",
    "\n",
    "\n",
    "def S2ti(train_features, train_labels, test_features, test_labels, num_i, eval_bool = False, dist_eval = False):\n",
    "    source_center = np.mean(train_features,axis = 0)\n",
    "    target_distances = [cos_dist(source_center, x) for x in test_features]\n",
    "    \n",
    "    if eval_bool:\n",
    "        print(\"train.shape: \",train_labels.shape)\n",
    "        print(\"test.shape: \",test_labels.shape) \n",
    "        print(\"histogram of distance:\")\n",
    "        plt.hist(target_distances)\n",
    "        plt.show()\n",
    "    \n",
    "    target_distances = [(i,x) for i,x in enumerate(target_distances)]\n",
    "    target_distances = sorted(target_distances, key=lambda x: x[1])\n",
    "    \n",
    "    # dividing data\n",
    "    threshold = int(len(target_distances)/num_i)\n",
    "    targets = []\n",
    "    targets.append(target_distances[:threshold])\n",
    "    for i in range(1,num_i-1):\n",
    "        targets.append(target_distances[i*threshold:(i+1)*threshold])\n",
    "    targets.append(target_distances[(num_i-1)*threshold:])\n",
    "    \n",
    "    # calculate influence of distribution \n",
    "    if dist_eval:\n",
    "        targets_center = []\n",
    "        distribution = []\n",
    "        for target in targets:\n",
    "            X_test = [test_features[i] for i,x in target]\n",
    "            targets_center.append(np.mean(X_test,axis = 0))\n",
    "        distribution.append(cos_dist(source_center, targets_center[0]))\n",
    "        for i in range(len(targets_center)-1):\n",
    "            distribution.append(cos_dist(targets_center[i], targets_center[i+1]))\n",
    "    \n",
    "    \n",
    "    # gradual training\n",
    "    X_train = train_features[:]\n",
    "    y_train = train_labels[:]\n",
    "    y_pred_store = []\n",
    "    y_test_store = []\n",
    "    for target in targets:\n",
    "        X_test = [test_features[i] for i,x in target]\n",
    "        y_test = [test_labels[i] for i,x in target]\n",
    "        lr_clf = LogisticRegression()\n",
    "        lr_clf.fit(X_train, y_train)\n",
    "        y_pred = lr_clf.predict(X_test)\n",
    "        X_train = np.concatenate((X_train, X_test), axis=0)\n",
    "        y_train = np.concatenate((y_train, y_pred), axis=0)\n",
    "        y_pred_store += y_pred.tolist()\n",
    "        y_test_store += y_test\n",
    "    output_score = [y_pred_store[i]==y_test_store[i] for i in range(len(y_test_store))]\n",
    "    gradual_score = sum(output_score)/len(output_score)\n",
    "    original_score = S2T(train_features, train_labels, test_features, test_labels)\n",
    "    \n",
    "    if dist_eval:\n",
    "        return original_score, gradual_score, distribution\n",
    "    else:\n",
    "        return original_score, gradual_score\n",
    "\n",
    "def S2t1(train_features, train_labels, test_features, test_labels, num_i, eval_bool = False, dist_eval = False):\n",
    "    source_center = np.mean(train_features,axis = 0)\n",
    "    target_distances = [cos_dist(source_center, x) for x in test_features]\n",
    "    \n",
    "    if eval_bool:\n",
    "        print(\"train.shape: \",train_labels.shape)\n",
    "        print(\"test.shape: \",test_labels.shape) \n",
    "        print(\"histogram of distance:\")\n",
    "        plt.hist(target_distances)\n",
    "        plt.show()\n",
    "    \n",
    "    target_distances = [(i,x) for i,x in enumerate(target_distances)]\n",
    "    target_distances = sorted(target_distances, key=lambda x: x[1])\n",
    "    \n",
    "    # dividing data\n",
    "    threshold = int(len(target_distances)/num_i)\n",
    "    targets = []\n",
    "    targets.append(target_distances[:threshold])\n",
    "    for i in range(1,num_i-1):\n",
    "        targets.append(target_distances[i*threshold:(i+1)*threshold])\n",
    "    targets.append(target_distances[(num_i-1)*threshold:])\n",
    "    \n",
    "    # calculate influence of distribution \n",
    "    if dist_eval:\n",
    "        targets_center = []\n",
    "        distribution = []\n",
    "        for target in targets:\n",
    "            X_test = [test_features[i] for i,x in target]\n",
    "            targets_center.append(np.mean(X_test,axis = 0))\n",
    "        distribution.append(cos_dist(source_center, targets_center[0]))\n",
    "        for i in range(len(targets_center)-1):\n",
    "            distribution.append(cos_dist(targets_center[i], targets_center[i+1]))\n",
    "    \n",
    "    \n",
    "    # gradual training\n",
    "    X_train = train_features[:]\n",
    "    y_train = train_labels[:]\n",
    "    X_test = [test_features[i] for i,x in targets[0]]\n",
    "    y_test = [test_labels[i] for i,x in targets[0]]\n",
    "    lr_clf = LogisticRegression()\n",
    "    lr_clf.fit(X_train, y_train)\n",
    "    y_pred = lr_clf.predict(X_test)\n",
    "    X_train = np.concatenate((X_train, X_test), axis=0)\n",
    "    y_train = np.concatenate((y_train, y_pred), axis=0)\n",
    "    lr_clf = LogisticRegression()\n",
    "    lr_clf.fit(X_train, y_train)\n",
    "    y_pred = lr_clf.predict(test_features)\n",
    "    output_score = [y_pred[i]==test_labels[i] for i in range(len(test_labels))]\n",
    "    St1_score = sum(output_score)/len(output_score)    \n",
    "    original_score = S2T(train_features, train_labels, test_features, test_labels)\n",
    "    \n",
    "    if dist_eval:\n",
    "        return original_score, St1_score, distribution\n",
    "    else:\n",
    "        return original_score, St1_score\n",
    "    \n",
    "def self_train(train_features, train_labels, test_features, test_labels, num_i, eval_bool = False, dist_eval = False):\n",
    "    source_center = np.mean(train_features,axis = 0)\n",
    "    target_center = np.mean(test_features,axis = 0)\n",
    "    \n",
    "    \n",
    "    if eval_bool:\n",
    "        print(\"train.shape: \",train_labels.shape)\n",
    "        print(\"test.shape: \",test_labels.shape) \n",
    "\n",
    "    \n",
    "    # calculate influence of distribution \n",
    "    distribution = cos_dist(source_center, target_center)\n",
    "    \n",
    "    \n",
    "    # gradual training\n",
    "    X_train = train_features[:]\n",
    "    y_train = train_labels[:]\n",
    "    X_test = test_features[:]\n",
    "    y_test = test_labels[:]\n",
    "    lr_clf = LogisticRegression()\n",
    "    lr_clf.fit(X_train, y_train)\n",
    "    y_pred = lr_clf.predict(X_test)\n",
    "    X_train = np.concatenate((X_train, X_test), axis=0)\n",
    "    y_train = np.concatenate((y_train, y_pred), axis=0)\n",
    "    lr_clf = LogisticRegression()\n",
    "    lr_clf.fit(X_train, y_train)\n",
    "    y_pred = lr_clf.predict(test_features)\n",
    "    output_score = [y_pred[i]==test_labels[i] for i in range(len(test_labels))]\n",
    "    St1_score = sum(output_score)/len(output_score)    \n",
    "    original_score = S2T(train_features, train_labels, test_features, test_labels)\n",
    "    \n",
    "    if dist_eval:\n",
    "        return original_score, St1_score, distribution\n",
    "    else:\n",
    "        return original_score, St1_score\n",
    "\n",
    "    \n",
    "def all_combination_test(func,num_i, include_S2T = True, dist_eval = False):\n",
    "    data_permu = list(permutations(all_data,2))\n",
    "    S2T_scores = []\n",
    "    func_scores = []\n",
    "    dist_list = []\n",
    "    for permu in data_permu:\n",
    "        if dist_eval:\n",
    "            S2T_scr, func_scr, dist = func(permu[0][0], permu[0][1], permu[1][0], permu[1][1],num_i,dist_eval = dist_eval)\n",
    "            dist_list.append(dist)\n",
    "        else:\n",
    "            S2T_scr, func_scr = func(permu[0][0], permu[0][1], permu[1][0], permu[1][1],num_i,dist_eval = dist_eval)\n",
    "        S2T_scores.append(S2T_scr)\n",
    "        func_scores.append(func_scr)\n",
    "        \n",
    "    \n",
    "    iterative_scores = [func_scores[i] - S2T_scores[i] for i in range(len(func_scores))]\n",
    "    \n",
    "    output = []\n",
    "    \n",
    "    if dist_eval:\n",
    "        return iterative_scores,S2T_scores,func_scores, dist_list\n",
    "    else:\n",
    "        return iterative_scores,S2T_scores,func_scores\n",
    "    \n"
   ]
  },
  {
   "cell_type": "code",
   "execution_count": null,
   "metadata": {
    "colab": {
     "base_uri": "https://localhost:8080/"
    },
    "id": "dTaJXajW-ujA",
    "outputId": "44498d1f-185b-4239-93b9-b93f846bdbcd"
   },
   "outputs": [
    {
     "name": "stdout",
     "output_type": "stream",
     "text": [
      "(403520, 2)\n",
      "(200, 2)\n",
      "1000\n"
     ]
    }
   ],
   "source": [
    "df_train = data2df('/content/data/amazon_review/train/Apps_for_Android.train')\n",
    "df_test = data2df('/content/data/amazon_review/test/Baby.test')\n",
    "print(df_train.shape)\n",
    "print(df_test.shape)\n",
    "max_row = min(len(df_train[df_train[1]==1]),len(df_train[df_train[1]==0]),1000)\n",
    "print(max_row)"
   ]
  },
  {
   "cell_type": "code",
   "execution_count": null,
   "metadata": {
    "id": "SdnsJOSnDEUT"
   },
   "outputs": [],
   "source": [
    "train_features, train_labels = df2embd(df_train)"
   ]
  },
  {
   "cell_type": "code",
   "execution_count": null,
   "metadata": {
    "id": "apMhsL2pDKsk"
   },
   "outputs": [],
   "source": [
    "test_features, test_labels = df2embd(df_test)"
   ]
  },
  {
   "cell_type": "code",
   "execution_count": null,
   "metadata": {
    "colab": {
     "base_uri": "https://localhost:8080/"
    },
    "id": "Xpldyb6KDeyR",
    "outputId": "a0a5dbe6-000e-4e27-aca9-d457e2514a08"
   },
   "outputs": [
    {
     "data": {
      "text/plain": [
       "0.91"
      ]
     },
     "execution_count": 61,
     "metadata": {
      "tags": []
     },
     "output_type": "execute_result"
    }
   ],
   "source": [
    "# Apps_for_Android\n",
    "lr_clf = LogisticRegression()\n",
    "lr_clf.fit(train_features, train_labels)\n",
    "lr_clf.score(test_features, test_labels)"
   ]
  },
  {
   "cell_type": "code",
   "execution_count": null,
   "metadata": {
    "colab": {
     "base_uri": "https://localhost:8080/"
    },
    "id": "GH0vP-8MDk6I",
    "outputId": "dac8d0f7-206d-488d-dbe8-f2b793c524b0"
   },
   "outputs": [
    {
     "data": {
      "text/plain": [
       "0.89"
      ]
     },
     "execution_count": 62,
     "metadata": {
      "tags": []
     },
     "output_type": "execute_result"
    }
   ],
   "source": [
    "train_features, train_labels = df2embd(data2df('/content/data/amazon_review/train/Beauty.train'))\n",
    "lr_clf = LogisticRegression()\n",
    "lr_clf.fit(train_features, train_labels)\n",
    "lr_clf.score(test_features, test_labels)"
   ]
  },
  {
   "cell_type": "code",
   "execution_count": null,
   "metadata": {
    "colab": {
     "base_uri": "https://localhost:8080/"
    },
    "id": "pk_wWFDtFwjd",
    "outputId": "b041bf6b-d4a0-4ad9-9a59-2934100beacb"
   },
   "outputs": [
    {
     "data": {
      "text/plain": [
       "0.85"
      ]
     },
     "execution_count": 63,
     "metadata": {
      "tags": []
     },
     "output_type": "execute_result"
    }
   ],
   "source": [
    "train_features, train_labels = df2embd(data2df('/content/data/amazon_review/train/Books.train'))\n",
    "lr_clf = LogisticRegression()\n",
    "lr_clf.fit(train_features, train_labels)\n",
    "lr_clf.score(test_features, test_labels)"
   ]
  },
  {
   "cell_type": "code",
   "execution_count": null,
   "metadata": {
    "colab": {
     "base_uri": "https://localhost:8080/"
    },
    "id": "Iui8ndGEGQXi",
    "outputId": "e1cd41e0-ae4d-4f93-bace-67ea0d52c575"
   },
   "outputs": [
    {
     "data": {
      "text/plain": [
       "0.875"
      ]
     },
     "execution_count": 64,
     "metadata": {
      "tags": []
     },
     "output_type": "execute_result"
    }
   ],
   "source": [
    "train_features, train_labels = df2embd(data2df('/content/data/amazon_review/train/CDs_and_Vinyl.train'))\n",
    "lr_clf = LogisticRegression()\n",
    "lr_clf.fit(train_features, train_labels)\n",
    "lr_clf.score(test_features, test_labels)"
   ]
  },
  {
   "cell_type": "code",
   "execution_count": null,
   "metadata": {
    "colab": {
     "base_uri": "https://localhost:8080/"
    },
    "id": "yND8TFeaGT8e",
    "outputId": "12e7e582-0f29-4b62-a7e2-eae24d8f5d0e"
   },
   "outputs": [
    {
     "data": {
      "text/plain": [
       "0.91"
      ]
     },
     "execution_count": 65,
     "metadata": {
      "tags": []
     },
     "output_type": "execute_result"
    }
   ],
   "source": [
    "train_features, train_labels = df2embd(data2df('/content/data/amazon_review/train/Cell_Phones_and_Accessories.train'))\n",
    "lr_clf = LogisticRegression()\n",
    "lr_clf.fit(train_features, train_labels)\n",
    "lr_clf.score(test_features, test_labels)"
   ]
  },
  {
   "cell_type": "code",
   "execution_count": null,
   "metadata": {
    "colab": {
     "base_uri": "https://localhost:8080/"
    },
    "id": "JmY3Zz5wGXYR",
    "outputId": "f0aeb9c8-f370-480d-a86d-525c7ea28102"
   },
   "outputs": [
    {
     "data": {
      "text/plain": [
       "0.875"
      ]
     },
     "execution_count": 66,
     "metadata": {
      "tags": []
     },
     "output_type": "execute_result"
    }
   ],
   "source": [
    "train_features, train_labels = df2embd(data2df('/content/data/amazon_review/train/Clothing_Shoes_and_Jewelry.train'))\n",
    "lr_clf = LogisticRegression()\n",
    "lr_clf.fit(train_features, train_labels)\n",
    "lr_clf.score(test_features, test_labels)"
   ]
  },
  {
   "cell_type": "code",
   "execution_count": null,
   "metadata": {
    "colab": {
     "base_uri": "https://localhost:8080/"
    },
    "id": "Yjs2QqDFGcYi",
    "outputId": "6937d9c2-0419-49bb-84be-c5aaa26cfd8c"
   },
   "outputs": [
    {
     "data": {
      "text/plain": [
       "0.885"
      ]
     },
     "execution_count": 67,
     "metadata": {
      "tags": []
     },
     "output_type": "execute_result"
    }
   ],
   "source": [
    "train_features, train_labels = df2embd(data2df('/content/data/amazon_review/train/Electronics.train'))\n",
    "lr_clf = LogisticRegression()\n",
    "lr_clf.fit(train_features, train_labels)\n",
    "lr_clf.score(test_features, test_labels)"
   ]
  },
  {
   "cell_type": "code",
   "execution_count": null,
   "metadata": {
    "colab": {
     "base_uri": "https://localhost:8080/"
    },
    "id": "4pfhL4IoJ3Eo",
    "outputId": "d34535ae-3a25-419b-87fe-7eb3123e151c"
   },
   "outputs": [
    {
     "data": {
      "text/plain": [
       "0.865"
      ]
     },
     "execution_count": 68,
     "metadata": {
      "tags": []
     },
     "output_type": "execute_result"
    }
   ],
   "source": [
    "train_features, train_labels = df2embd(data2df('/content/data/amazon_review/train/Health_and_Personal_Care.train'))\n",
    "lr_clf = LogisticRegression()\n",
    "lr_clf.fit(train_features, train_labels)\n",
    "lr_clf.score(test_features, test_labels)"
   ]
  },
  {
   "cell_type": "code",
   "execution_count": null,
   "metadata": {
    "colab": {
     "base_uri": "https://localhost:8080/"
    },
    "id": "jK4aWUAMJ7u9",
    "outputId": "bce9db99-6246-4488-e82a-aae7c65c9ed9"
   },
   "outputs": [
    {
     "data": {
      "text/plain": [
       "0.87"
      ]
     },
     "execution_count": 69,
     "metadata": {
      "tags": []
     },
     "output_type": "execute_result"
    }
   ],
   "source": [
    "train_features, train_labels = df2embd(data2df('/content/data/amazon_review/train/Home_and_Kitchen.train'))\n",
    "lr_clf = LogisticRegression()\n",
    "lr_clf.fit(train_features, train_labels)\n",
    "lr_clf.score(test_features, test_labels)"
   ]
  },
  {
   "cell_type": "code",
   "execution_count": null,
   "metadata": {
    "id": "DhORIZw_KA8v"
   },
   "outputs": [],
   "source": [
    "train_features, train_labels = df2embd(data2df('/content/data/amazon_review/train/Kindle_Store.train'))\n",
    "lr_clf = LogisticRegression()\n",
    "lr_clf.fit(train_features, train_labels)\n",
    "lr_clf.score(test_features, test_labels)"
   ]
  },
  {
   "cell_type": "code",
   "execution_count": null,
   "metadata": {
    "colab": {
     "base_uri": "https://localhost:8080/"
    },
    "id": "z64LFCJzKWys",
    "outputId": "f667c724-00a9-436d-f801-fbd9d8eb304c"
   },
   "outputs": [
    {
     "data": {
      "text/plain": [
       "0.885"
      ]
     },
     "execution_count": 9,
     "metadata": {
      "tags": []
     },
     "output_type": "execute_result"
    }
   ],
   "source": [
    "train_features, train_labels = df2embd(data2df('/content/data/amazon_review/test/Baby.train'))\n",
    "lr_clf = LogisticRegression()\n",
    "lr_clf.fit(train_features, train_labels)\n",
    "lr_clf.score(test_features, test_labels)"
   ]
  },
  {
   "cell_type": "code",
   "execution_count": null,
   "metadata": {
    "colab": {
     "base_uri": "https://localhost:8080/"
    },
    "id": "IZ6d9GdyQnpo",
    "outputId": "c00076bb-15a6-4d83-f092-57712c387d86"
   },
   "outputs": [
    {
     "data": {
      "text/plain": [
       "0.99"
      ]
     },
     "execution_count": 8,
     "metadata": {
      "tags": []
     },
     "output_type": "execute_result"
    }
   ],
   "source": [
    "train_features, train_labels = df2embd(data2df('/content/data/amazon_review/test/Baby.train'))\n",
    "lr_clf = LogisticRegression()\n",
    "lr_clf.fit(train_features, train_labels)\n",
    "lr_clf.score(train_features, train_labels)"
   ]
  },
  {
   "cell_type": "code",
   "execution_count": null,
   "metadata": {
    "colab": {
     "base_uri": "https://localhost:8080/"
    },
    "id": "TLbDYCrPRxhD",
    "outputId": "86b780fc-e587-405a-bf56-abe2c08a737c"
   },
   "outputs": [
    {
     "data": {
      "text/plain": [
       "0.95"
      ]
     },
     "execution_count": 10,
     "metadata": {
      "tags": []
     },
     "output_type": "execute_result"
    }
   ],
   "source": [
    "train_features, train_labels = df2embd(data2df('/content/data/amazon_review/train/Cell_Phones_and_Accessories.train'))\n",
    "lr_clf = LogisticRegression()\n",
    "lr_clf.fit(train_features, train_labels)\n",
    "lr_clf.score(train_features, train_labels)"
   ]
  },
  {
   "cell_type": "markdown",
   "metadata": {
    "id": "vdN0auKfmTpV"
   },
   "source": [
    "# S -> t1, t2, t3, t4, t5"
   ]
  },
  {
   "cell_type": "code",
   "execution_count": null,
   "metadata": {
    "id": "_LuHYNZRmfPJ"
   },
   "outputs": [],
   "source": [
    "train_features, train_labels = df2embd(data2df('/content/data/amazon_review/train/Apps_for_Android.train'))\n",
    "test_features, test_labels = df2embd(data2df('/content/data/amazon_review/train/Beauty.train'))"
   ]
  },
  {
   "cell_type": "code",
   "execution_count": null,
   "metadata": {
    "id": "4_MHr4K4INGk"
   },
   "outputs": [],
   "source": []
  },
  {
   "cell_type": "code",
   "execution_count": null,
   "metadata": {
    "colab": {
     "base_uri": "https://localhost:8080/",
     "height": 333
    },
    "id": "pEeB6NHZRqBN",
    "outputId": "e5561c23-d2bc-4c17-cddc-ff1c6902b9e8"
   },
   "outputs": [
    {
     "name": "stdout",
     "output_type": "stream",
     "text": [
      "train.shape:  (2000,)\n",
      "test.shape:  (2000,)\n",
      "histogram of distance:\n"
     ]
    },
    {
     "data": {
      "image/png": "[encoded data removed]",
      "text/plain": [
       "<Figure size 432x288 with 1 Axes>"
      ]
     },
     "metadata": {
      "needs_background": "light",
      "tags": []
     },
     "output_type": "display_data"
    },
    {
     "data": {
      "text/plain": [
       "(0.9, 0.9045)"
      ]
     },
     "execution_count": 41,
     "metadata": {
      "tags": []
     },
     "output_type": "execute_result"
    }
   ],
   "source": [
    "S2ti(train_features, train_labels, test_features, test_labels)"
   ]
  },
  {
   "cell_type": "code",
   "execution_count": null,
   "metadata": {
    "id": "L9O3RYU1UrCS"
   },
   "outputs": [],
   "source": [
    "book_features, book_labels = df2embd(data2df('/content/data/amazon_review/train/Books.train'))"
   ]
  },
  {
   "cell_type": "code",
   "execution_count": null,
   "metadata": {
    "colab": {
     "base_uri": "https://localhost:8080/",
     "height": 334
    },
    "id": "qrpKyGVuWEaD",
    "outputId": "8f90e874-ef70-4098-d72f-538c45b420c5"
   },
   "outputs": [
    {
     "name": "stdout",
     "output_type": "stream",
     "text": [
      "train.shape:  (2000,)\n",
      "test.shape:  (2000,)\n",
      "histogram of distance:\n"
     ]
    },
    {
     "data": {
      "image/png": "[encoded data removed]",
      "text/plain": [
       "<Figure size 432x288 with 1 Axes>"
      ]
     },
     "metadata": {
      "needs_background": "light",
      "tags": []
     },
     "output_type": "display_data"
    },
    {
     "data": {
      "text/plain": [
       "(0.881, 0.8985)"
      ]
     },
     "execution_count": 46,
     "metadata": {
      "tags": []
     },
     "output_type": "execute_result"
    }
   ],
   "source": [
    "S2ti(train_features, train_labels, book_features, book_labels)"
   ]
  },
  {
   "cell_type": "code",
   "execution_count": null,
   "metadata": {
    "colab": {
     "base_uri": "https://localhost:8080/",
     "height": 333
    },
    "id": "-TJit8_qWKa0",
    "outputId": "43906a3e-8fab-4fa2-97dc-ad2592e3bc59"
   },
   "outputs": [
    {
     "name": "stdout",
     "output_type": "stream",
     "text": [
      "train.shape:  (2000,)\n",
      "test.shape:  (2000,)\n",
      "histogram of distance:\n"
     ]
    },
    {
     "data": {
      "image/png": "[encoded data removed]",
      "text/plain": [
       "<Figure size 432x288 with 1 Axes>"
      ]
     },
     "metadata": {
      "needs_background": "light",
      "tags": []
     },
     "output_type": "display_data"
    },
    {
     "data": {
      "text/plain": [
       "(0.892, 0.897)"
      ]
     },
     "execution_count": 47,
     "metadata": {
      "tags": []
     },
     "output_type": "execute_result"
    }
   ],
   "source": [
    "S2ti(book_features, book_labels,train_features, train_labels)"
   ]
  },
  {
   "cell_type": "code",
   "execution_count": null,
   "metadata": {
    "colab": {
     "base_uri": "https://localhost:8080/",
     "height": 333
    },
    "id": "reHCPZ6aWPEX",
    "outputId": "6d032274-72c1-4b6e-ebf1-b1db0fd03033"
   },
   "outputs": [
    {
     "name": "stdout",
     "output_type": "stream",
     "text": [
      "train.shape:  (2000,)\n",
      "test.shape:  (2000,)\n",
      "histogram of distance:\n"
     ]
    },
    {
     "data": {
      "image/png": "[encoded data removed]",
      "text/plain": [
       "<Figure size 432x288 with 1 Axes>"
      ]
     },
     "metadata": {
      "needs_background": "light",
      "tags": []
     },
     "output_type": "display_data"
    },
    {
     "data": {
      "text/plain": [
       "(0.9075, 0.9075)"
      ]
     },
     "execution_count": 48,
     "metadata": {
      "tags": []
     },
     "output_type": "execute_result"
    }
   ],
   "source": [
    "S2ti(test_features, test_labels, book_features, book_labels)"
   ]
  },
  {
   "cell_type": "code",
   "execution_count": null,
   "metadata": {
    "colab": {
     "base_uri": "https://localhost:8080/",
     "height": 333
    },
    "id": "SEoE0AWJWeUk",
    "outputId": "e6697192-a376-4e78-84dd-f39c0f7780bf"
   },
   "outputs": [
    {
     "name": "stdout",
     "output_type": "stream",
     "text": [
      "train.shape:  (2000,)\n",
      "test.shape:  (2000,)\n",
      "histogram of distance:\n"
     ]
    },
    {
     "data": {
      "image/png": "[encoded data removed]",
      "text/plain": [
       "<Figure size 432x288 with 1 Axes>"
      ]
     },
     "metadata": {
      "needs_background": "light",
      "tags": []
     },
     "output_type": "display_data"
    },
    {
     "data": {
      "text/plain": [
       "(0.8605, 0.861)"
      ]
     },
     "execution_count": 49,
     "metadata": {
      "tags": []
     },
     "output_type": "execute_result"
    }
   ],
   "source": [
    "S2ti(book_features, book_labels,test_features, test_labels)"
   ]
  },
  {
   "cell_type": "code",
   "execution_count": null,
   "metadata": {
    "id": "fqjO0R-ZWj-0"
   },
   "outputs": [],
   "source": [
    "elec_features, elec_labels = df2embd(data2df('/content/data/amazon_review/train/Electronics.train'))"
   ]
  },
  {
   "cell_type": "code",
   "execution_count": null,
   "metadata": {
    "colab": {
     "base_uri": "https://localhost:8080/",
     "height": 333
    },
    "id": "Js9EBbV6avd2",
    "outputId": "87434ae9-3e8f-4715-c2ed-3b2384a2fadc"
   },
   "outputs": [
    {
     "name": "stdout",
     "output_type": "stream",
     "text": [
      "train.shape:  (2000,)\n",
      "test.shape:  (2000,)\n",
      "histogram of distance:\n"
     ]
    },
    {
     "data": {
      "image/png": "[encoded data removed]",
      "text/plain": [
       "<Figure size 432x288 with 1 Axes>"
      ]
     },
     "metadata": {
      "needs_background": "light",
      "tags": []
     },
     "output_type": "display_data"
    },
    {
     "data": {
      "text/plain": [
       "(0.862, 0.869)"
      ]
     },
     "execution_count": 51,
     "metadata": {
      "tags": []
     },
     "output_type": "execute_result"
    }
   ],
   "source": [
    "S2ti(train_features, train_labels, elec_features, elec_labels)"
   ]
  },
  {
   "cell_type": "code",
   "execution_count": null,
   "metadata": {
    "colab": {
     "base_uri": "https://localhost:8080/",
     "height": 333
    },
    "id": "XpFm6akoa0xo",
    "outputId": "2c031303-44e9-4600-e8e2-d5212a0ed4d8"
   },
   "outputs": [
    {
     "name": "stdout",
     "output_type": "stream",
     "text": [
      "train.shape:  (2000,)\n",
      "test.shape:  (2000,)\n",
      "histogram of distance:\n"
     ]
    },
    {
     "data": {
      "image/png": "[encoded data removed]",
      "text/plain": [
       "<Figure size 432x288 with 1 Axes>"
      ]
     },
     "metadata": {
      "needs_background": "light",
      "tags": []
     },
     "output_type": "display_data"
    },
    {
     "data": {
      "text/plain": [
       "(0.8925, 0.897)"
      ]
     },
     "execution_count": 52,
     "metadata": {
      "tags": []
     },
     "output_type": "execute_result"
    }
   ],
   "source": [
    "S2ti(elec_features, elec_labels, train_features, train_labels)"
   ]
  },
  {
   "cell_type": "code",
   "execution_count": null,
   "metadata": {
    "colab": {
     "base_uri": "https://localhost:8080/",
     "height": 333
    },
    "id": "pfIg_Z95a7LK",
    "outputId": "01af37a5-e814-4de7-c862-0ad625e6a3ff"
   },
   "outputs": [
    {
     "name": "stdout",
     "output_type": "stream",
     "text": [
      "train.shape:  (2000,)\n",
      "test.shape:  (2000,)\n",
      "histogram of distance:\n"
     ]
    },
    {
     "data": {
      "image/png": "[encoded data removed]",
      "text/plain": [
       "<Figure size 432x288 with 1 Axes>"
      ]
     },
     "metadata": {
      "needs_background": "light",
      "tags": []
     },
     "output_type": "display_data"
    },
    {
     "data": {
      "text/plain": [
       "(0.9045, 0.906)"
      ]
     },
     "execution_count": 53,
     "metadata": {
      "tags": []
     },
     "output_type": "execute_result"
    }
   ],
   "source": [
    "S2ti(elec_features, elec_labels,test_features, test_labels)"
   ]
  },
  {
   "cell_type": "code",
   "execution_count": null,
   "metadata": {
    "colab": {
     "base_uri": "https://localhost:8080/",
     "height": 333
    },
    "id": "Mo3dL-_sbUXq",
    "outputId": "f10d9e5b-7e3c-40c3-ce0f-ddf6990542d3"
   },
   "outputs": [
    {
     "name": "stdout",
     "output_type": "stream",
     "text": [
      "train.shape:  (2000,)\n",
      "test.shape:  (2000,)\n",
      "histogram of distance:\n"
     ]
    },
    {
     "data": {
      "image/png": "[encoded data removed]",
      "text/plain": [
       "<Figure size 432x288 with 1 Axes>"
      ]
     },
     "metadata": {
      "needs_background": "light",
      "tags": []
     },
     "output_type": "display_data"
    },
    {
     "data": {
      "text/plain": [
       "(0.893, 0.8975)"
      ]
     },
     "execution_count": 54,
     "metadata": {
      "tags": []
     },
     "output_type": "execute_result"
    }
   ],
   "source": [
    "S2ti(test_features, test_labels,elec_features, elec_labels)"
   ]
  },
  {
   "cell_type": "code",
   "execution_count": null,
   "metadata": {
    "colab": {
     "base_uri": "https://localhost:8080/",
     "height": 336
    },
    "id": "8qdTjLPTbcxc",
    "outputId": "615dec9b-c67b-4b44-cc37-f1ad5406b5cb"
   },
   "outputs": [
    {
     "name": "stdout",
     "output_type": "stream",
     "text": [
      "train.shape:  (2000,)\n",
      "test.shape:  (2000,)\n",
      "histogram of distance:\n"
     ]
    },
    {
     "data": {
      "image/png": "[encoded data removed]",
      "text/plain": [
       "<Figure size 432x288 with 1 Axes>"
      ]
     },
     "metadata": {
      "needs_background": "light",
      "tags": []
     },
     "output_type": "display_data"
    },
    {
     "data": {
      "text/plain": [
       "(0.8625, 0.8725)"
      ]
     },
     "execution_count": 55,
     "metadata": {
      "tags": []
     },
     "output_type": "execute_result"
    }
   ],
   "source": [
    "S2ti(elec_features, elec_labels,book_features, book_labels)"
   ]
  },
  {
   "cell_type": "code",
   "execution_count": null,
   "metadata": {
    "colab": {
     "base_uri": "https://localhost:8080/",
     "height": 333
    },
    "id": "sZMRgb6TSEgZ",
    "outputId": "5293b0b2-c011-474f-98be-e144db6ba132"
   },
   "outputs": [
    {
     "name": "stdout",
     "output_type": "stream",
     "text": [
      "train.shape:  (2000,)\n",
      "test.shape:  (2000,)\n",
      "histogram of distance:\n"
     ]
    },
    {
     "data": {
      "image/png": "[encoded data removed]",
      "text/plain": [
       "<Figure size 432x288 with 1 Axes>"
      ]
     },
     "metadata": {
      "needs_background": "light",
      "tags": []
     },
     "output_type": "display_data"
    },
    {
     "data": {
      "text/plain": [
       "(0.8835, 0.8815)"
      ]
     },
     "execution_count": 43,
     "metadata": {
      "tags": []
     },
     "output_type": "execute_result"
    }
   ],
   "source": [
    "S2ti(test_features, test_labels, train_features, train_labels)"
   ]
  },
  {
   "cell_type": "code",
   "execution_count": null,
   "metadata": {
    "colab": {
     "base_uri": "https://localhost:8080/",
     "height": 333
    },
    "id": "7ywnLJ67bkRb",
    "outputId": "78eb4794-86b5-4067-bd24-9a364c8a1e4d"
   },
   "outputs": [
    {
     "name": "stdout",
     "output_type": "stream",
     "text": [
      "train.shape:  (2000,)\n",
      "test.shape:  (2000,)\n",
      "histogram of distance:\n"
     ]
    },
    {
     "data": {
      "image/png": "[encoded data removed]",
      "text/plain": [
       "<Figure size 432x288 with 1 Axes>"
      ]
     },
     "metadata": {
      "needs_background": "light",
      "tags": []
     },
     "output_type": "display_data"
    },
    {
     "data": {
      "text/plain": [
       "(0.8215, 0.819)"
      ]
     },
     "execution_count": 56,
     "metadata": {
      "tags": []
     },
     "output_type": "execute_result"
    }
   ],
   "source": [
    "S2ti(book_features, book_labels, elec_features, elec_labels)"
   ]
  },
  {
   "cell_type": "markdown",
   "metadata": {
    "id": "75mVdLaVDm5y"
   },
   "source": [
    "# iterative calculation"
   ]
  },
  {
   "cell_type": "code",
   "execution_count": 9,
   "metadata": {
    "id": "AP-5FYl0DlGK"
   },
   "outputs": [],
   "source": [
    "_, _, filenames = next(walk('./data/amazon_review/train/'))\n",
    "filenames = [x for x in filenames if x[-6:] == \".train\"]"
   ]
  },
  {
   "cell_type": "code",
   "execution_count": 11,
   "metadata": {
    "id": "bKiCpCT5EOHr"
   },
   "outputs": [],
   "source": [
    "all_data = [df2embd(data2df('./data/amazon_review/train/' + x))+(x,) for x in filenames]"
   ]
  },
  {
   "cell_type": "code",
   "execution_count": 24,
   "metadata": {},
   "outputs": [],
   "source": [
    "## Save pickle\n",
    "with open(\"./data/amazon_review/data.pickle\",\"wb\") as fw:\n",
    "    pickle.dump(all_data, fw)\n",
    "\n",
    "# Load pickle\n",
    "# with open(\"data.pickle\",\"rb\") as fr:\n",
    "#     data = pickle.load(fr)\n",
    "\n"
   ]
  },
  {
   "cell_type": "code",
   "execution_count": 41,
   "metadata": {
    "scrolled": true
   },
   "outputs": [],
   "source": [
    "iterative_scores_5,S2T_scores_5,S2ti_scores_5 = all_combination_test(5)"
   ]
  },
  {
   "cell_type": "code",
   "execution_count": 44,
   "metadata": {},
   "outputs": [
    {
     "data": {
      "application/javascript": [
       "$(document).ready(\n",
       "    function() {\n",
       "        function appendUniqueDiv(){\n",
       "            // append a div with our uuid so we can check that it's already\n",
       "            // been sent and avoid duplicates on page reload\n",
       "            var notifiedDiv = document.createElement(\"div\")\n",
       "            notifiedDiv.id = \"d68851b7-e9b2-4e58-92f1-84134f4ea81f\"\n",
       "            element.append(notifiedDiv)\n",
       "        }\n",
       "\n",
       "        // only send notifications if the pageload is complete; this will\n",
       "        // help stop extra notifications when a saved notebook is loaded,\n",
       "        // which during testing gives us state \"interactive\", not \"complete\"\n",
       "        if (document.readyState === 'complete') {\n",
       "            // check for the div that signifies that the notification\n",
       "            // was already sent\n",
       "            if (document.getElementById(\"d68851b7-e9b2-4e58-92f1-84134f4ea81f\") === null) {\n",
       "                var notificationPayload = {\"requireInteraction\": false, \"icon\": \"/static/base/images/favicon.ico\", \"body\": \"Cell execution has finished!\"};\n",
       "                if (Notification.permission !== 'denied') {\n",
       "                    if (Notification.permission !== 'granted') { \n",
       "                        Notification.requestPermission(function (permission) {\n",
       "                            if(!('permission' in Notification)) {\n",
       "                                Notification.permission = permission\n",
       "                            }\n",
       "                        })\n",
       "                    }\n",
       "                    if (Notification.permission === 'granted') {\n",
       "                    var notification = new Notification(\"Jupyter Notebook\", notificationPayload)\n",
       "                    appendUniqueDiv()\n",
       "                    notification.onclick = function () {\n",
       "                        window.focus();\n",
       "                        this.close();\n",
       "                        };\n",
       "                    } \n",
       "                }     \n",
       "            }\n",
       "        }\n",
       "    }\n",
       ")\n"
      ],
      "text/plain": [
       "<IPython.core.display.Javascript object>"
      ]
     },
     "metadata": {},
     "output_type": "display_data"
    }
   ],
   "source": [
    "%%notify\n",
    "iterative_scores_5 = iterative_scores\n",
    "S2T_scores_5 = S2T_scores\n",
    "S2ti_scores_5 = S2ti_scores"
   ]
  },
  {
   "cell_type": "code",
   "execution_count": 45,
   "metadata": {},
   "outputs": [
    {
     "data": {
      "text/plain": [
       "0.0025179296775831475"
      ]
     },
     "execution_count": 45,
     "metadata": {},
     "output_type": "execute_result"
    }
   ],
   "source": [
    "np.mean(iterative_scores_5)"
   ]
  },
  {
   "cell_type": "code",
   "execution_count": 46,
   "metadata": {},
   "outputs": [
    {
     "data": {
      "image/png": "[encoded data removed]",
      "text/plain": [
       "<Figure size 432x288 with 1 Axes>"
      ]
     },
     "metadata": {},
     "output_type": "display_data"
    }
   ],
   "source": [
    "plt.boxplot(iterative_scores_5,vert=False)\n",
    "plt.show()"
   ]
  },
  {
   "cell_type": "code",
   "execution_count": 47,
   "metadata": {},
   "outputs": [
    {
     "data": {
      "image/png": "[encoded data removed]",
      "text/plain": [
       "<Figure size 432x288 with 1 Axes>"
      ]
     },
     "metadata": {},
     "output_type": "display_data"
    }
   ],
   "source": [
    "bins = 50\n",
    "plt.hist(S2T_scores_5, bins, alpha=0.5, label='S2T')\n",
    "plt.hist(S2ti_scores_5, bins, alpha=0.5, label='S2ti')\n",
    "plt.legend(loc='upper right')\n",
    "plt.show()"
   ]
  },
  {
   "cell_type": "code",
   "execution_count": 36,
   "metadata": {},
   "outputs": [],
   "source": [
    "iterative_scores_10,S2T_scores_10,S2ti_scores_10 = all_combination_test(10)"
   ]
  },
  {
   "cell_type": "code",
   "execution_count": 38,
   "metadata": {},
   "outputs": [
    {
     "data": {
      "text/plain": [
       "0.0024944888719641224"
      ]
     },
     "execution_count": 38,
     "metadata": {},
     "output_type": "execute_result"
    }
   ],
   "source": [
    "np.mean(iterative_scores_10)"
   ]
  },
  {
   "cell_type": "code",
   "execution_count": 39,
   "metadata": {
    "scrolled": true
   },
   "outputs": [
    {
     "data": {
      "image/png": "[encoded data removed]",
      "text/plain": [
       "<Figure size 432x288 with 1 Axes>"
      ]
     },
     "metadata": {},
     "output_type": "display_data"
    }
   ],
   "source": [
    "plt.boxplot(iterative_scores_10,vert=False)\n",
    "plt.show()"
   ]
  },
  {
   "cell_type": "code",
   "execution_count": 40,
   "metadata": {},
   "outputs": [
    {
     "data": {
      "image/png": "[encoded data removed]",
      "text/plain": [
       "<Figure size 432x288 with 1 Axes>"
      ]
     },
     "metadata": {},
     "output_type": "display_data"
    }
   ],
   "source": [
    "bins = 50\n",
    "plt.hist(S2T_scores_10, bins, alpha=0.5, label='S2T')\n",
    "plt.hist(S2ti_scores_10, bins, alpha=0.5, label='S2ti')\n",
    "plt.legend(loc='upper right')\n",
    "plt.show()"
   ]
  },
  {
   "cell_type": "code",
   "execution_count": 58,
   "metadata": {},
   "outputs": [
    {
     "data": {
      "application/javascript": [
       "$(document).ready(\n",
       "    function() {\n",
       "        function appendUniqueDiv(){\n",
       "            // append a div with our uuid so we can check that it's already\n",
       "            // been sent and avoid duplicates on page reload\n",
       "            var notifiedDiv = document.createElement(\"div\")\n",
       "            notifiedDiv.id = \"e79ed77c-17ba-4d07-9799-71324b9e39a3\"\n",
       "            element.append(notifiedDiv)\n",
       "        }\n",
       "\n",
       "        // only send notifications if the pageload is complete; this will\n",
       "        // help stop extra notifications when a saved notebook is loaded,\n",
       "        // which during testing gives us state \"interactive\", not \"complete\"\n",
       "        if (document.readyState === 'complete') {\n",
       "            // check for the div that signifies that the notification\n",
       "            // was already sent\n",
       "            if (document.getElementById(\"e79ed77c-17ba-4d07-9799-71324b9e39a3\") === null) {\n",
       "                var notificationPayload = {\"requireInteraction\": false, \"icon\": \"/static/base/images/favicon.ico\", \"body\": \"Cell execution has finished!\"};\n",
       "                if (Notification.permission !== 'denied') {\n",
       "                    if (Notification.permission !== 'granted') { \n",
       "                        Notification.requestPermission(function (permission) {\n",
       "                            if(!('permission' in Notification)) {\n",
       "                                Notification.permission = permission\n",
       "                            }\n",
       "                        })\n",
       "                    }\n",
       "                    if (Notification.permission === 'granted') {\n",
       "                    var notification = new Notification(\"Jupyter Notebook\", notificationPayload)\n",
       "                    appendUniqueDiv()\n",
       "                    notification.onclick = function () {\n",
       "                        window.focus();\n",
       "                        this.close();\n",
       "                        };\n",
       "                    } \n",
       "                }     \n",
       "            }\n",
       "        }\n",
       "    }\n",
       ")\n"
      ],
      "text/plain": [
       "<IPython.core.display.Javascript object>"
      ]
     },
     "metadata": {},
     "output_type": "display_data"
    }
   ],
   "source": [
    "%%notify\n",
    "iterative_scores_20,S2T_scores_20,S2ti_scores_20 = all_combination_test(20)"
   ]
  },
  {
   "cell_type": "code",
   "execution_count": 59,
   "metadata": {},
   "outputs": [
    {
     "data": {
      "text/plain": [
       "0.0027050753152238296"
      ]
     },
     "execution_count": 59,
     "metadata": {},
     "output_type": "execute_result"
    }
   ],
   "source": [
    "np.mean(iterative_scores_20)"
   ]
  },
  {
   "cell_type": "code",
   "execution_count": 60,
   "metadata": {},
   "outputs": [
    {
     "data": {
      "image/png": "[encoded data removed]",
      "text/plain": [
       "<Figure size 432x288 with 1 Axes>"
      ]
     },
     "metadata": {},
     "output_type": "display_data"
    }
   ],
   "source": [
    "plt.boxplot(iterative_scores_20,vert=False)\n",
    "plt.show()"
   ]
  },
  {
   "cell_type": "code",
   "execution_count": 61,
   "metadata": {
    "scrolled": true
   },
   "outputs": [
    {
     "data": {
      "image/png": "[encoded data removed]",
      "text/plain": [
       "<Figure size 432x288 with 1 Axes>"
      ]
     },
     "metadata": {},
     "output_type": "display_data"
    }
   ],
   "source": [
    "bins = 50\n",
    "plt.hist(S2T_scores_20, bins, alpha=0.5, label='S2T')\n",
    "plt.hist(S2ti_scores_20, bins, alpha=0.5, label='S2ti')\n",
    "plt.legend(loc='upper right')\n",
    "plt.show()"
   ]
  },
  {
   "cell_type": "markdown",
   "metadata": {},
   "source": [
    "## why some data is less than 0.8?"
   ]
  },
  {
   "cell_type": "code",
   "execution_count": 64,
   "metadata": {},
   "outputs": [
    {
     "data": {
      "text/plain": [
       "[68, 70, 128, 129]"
      ]
     },
     "execution_count": 64,
     "metadata": {},
     "output_type": "execute_result"
    }
   ],
   "source": [
    "[i for i,x in enumerate(S2ti_scores_10) if x<0.8]"
   ]
  },
  {
   "cell_type": "code",
   "execution_count": 63,
   "metadata": {},
   "outputs": [
    {
     "data": {
      "text/plain": [
       "[68, 70]"
      ]
     },
     "execution_count": 63,
     "metadata": {},
     "output_type": "execute_result"
    }
   ],
   "source": [
    "[i for i,x in enumerate(S2ti_scores_20) if x<0.8]"
   ]
  },
  {
   "cell_type": "code",
   "execution_count": 66,
   "metadata": {},
   "outputs": [
    {
     "data": {
      "text/plain": [
       "0.0035951202263083443"
      ]
     },
     "execution_count": 66,
     "metadata": {},
     "output_type": "execute_result"
    }
   ],
   "source": [
    "np.mean([x for i,x in enumerate(iterative_scores_20) if i not in [68,70]])"
   ]
  },
  {
   "cell_type": "code",
   "execution_count": 73,
   "metadata": {},
   "outputs": [
    {
     "name": "stdout",
     "output_type": "stream",
     "text": [
      "('Movies_and_TV.train', 'Office_Products.train')\n",
      "5 9\n",
      "('Movies_and_TV.train', 'Health_and_Personal_Care.train')\n",
      "5 11\n"
     ]
    }
   ],
   "source": [
    "data_names = [all_data[x][2] for x in range(len(all_data))]\n",
    "names_permu = list(permutations(data_names,2))\n",
    "print(names_permu[68])\n",
    "print(data_names.index(names_permu[68][0]),data_names.index(names_permu[68][1]))\n",
    "print(names_permu[70])\n",
    "print(data_names.index(names_permu[70][0]),data_names.index(names_permu[70][1]))"
   ]
  },
  {
   "cell_type": "code",
   "execution_count": 75,
   "metadata": {
    "scrolled": true
   },
   "outputs": [
    {
     "name": "stdout",
     "output_type": "stream",
     "text": [
      "train.shape:  (2000,)\n",
      "test.shape:  (606,)\n",
      "histogram of distance:\n"
     ]
    },
    {
     "data": {
      "image/png": "[encoded data removed]",
      "text/plain": [
       "<Figure size 432x288 with 1 Axes>"
      ]
     },
     "metadata": {},
     "output_type": "display_data"
    },
    {
     "data": {
      "text/plain": [
       "(0.8151815181518152, 0.7475247524752475)"
      ]
     },
     "execution_count": 75,
     "metadata": {},
     "output_type": "execute_result"
    }
   ],
   "source": [
    "S2ti(all_data[5][0], all_data[5][1],all_data[9][0], all_data[9][1], 20, eval_bool = True)"
   ]
  },
  {
   "cell_type": "code",
   "execution_count": 79,
   "metadata": {
    "scrolled": true
   },
   "outputs": [
    {
     "name": "stdout",
     "output_type": "stream",
     "text": [
      "train.shape:  (2000,)\n",
      "test.shape:  (2000,)\n",
      "histogram of distance:\n"
     ]
    },
    {
     "data": {
      "image/png": "[encoded data removed]",
      "text/plain": [
       "<Figure size 432x288 with 1 Axes>"
      ]
     },
     "metadata": {},
     "output_type": "display_data"
    },
    {
     "data": {
      "text/plain": [
       "(0.8035, 0.7395)"
      ]
     },
     "execution_count": 79,
     "metadata": {},
     "output_type": "execute_result"
    }
   ],
   "source": [
    "S2ti(all_data[5][0], all_data[5][1],all_data[11][0], all_data[11][1], 20, eval_bool = True, dist_eval = True)"
   ]
  },
  {
   "cell_type": "markdown",
   "metadata": {},
   "source": [
    "# check distribution"
   ]
  },
  {
   "cell_type": "code",
   "execution_count": 82,
   "metadata": {
    "scrolled": true
   },
   "outputs": [
    {
     "name": "stdout",
     "output_type": "stream",
     "text": [
      "train.shape:  (2000,)\n",
      "test.shape:  (2000,)\n",
      "histogram of distance:\n"
     ]
    },
    {
     "data": {
      "image/png": "[encoded data removed]",
      "text/plain": [
       "<Figure size 432x288 with 1 Axes>"
      ]
     },
     "metadata": {},
     "output_type": "display_data"
    },
    {
     "data": {
      "text/plain": [
       "(0.8035,\n",
       " 0.7395,\n",
       " [0.013696432113647461,\n",
       "  0.0009578466415405273,\n",
       "  0.0006793737411499023,\n",
       "  0.0006948113441467285,\n",
       "  0.0010005831718444824,\n",
       "  0.0006186962127685547,\n",
       "  0.0007531642913818359,\n",
       "  0.0007292628288269043,\n",
       "  0.0007554292678833008,\n",
       "  0.0008234381675720215,\n",
       "  0.0008658170700073242,\n",
       "  0.0007753968238830566,\n",
       "  0.0007711648941040039,\n",
       "  0.0012677907943725586,\n",
       "  0.0006026625633239746,\n",
       "  0.001967310905456543,\n",
       "  0.0011180639266967773,\n",
       "  0.0012710094451904297,\n",
       "  0.0020378828048706055,\n",
       "  0.007617056369781494])"
      ]
     },
     "execution_count": 82,
     "metadata": {},
     "output_type": "execute_result"
    }
   ],
   "source": [
    "S2ti(all_data[5][0], all_data[5][1],all_data[11][0], all_data[11][1], 20, eval_bool = True, dist_eval = True)"
   ]
  },
  {
   "cell_type": "code",
   "execution_count": 83,
   "metadata": {},
   "outputs": [
    {
     "name": "stdout",
     "output_type": "stream",
     "text": [
      "train.shape:  (2000,)\n",
      "test.shape:  (2000,)\n",
      "histogram of distance:\n"
     ]
    },
    {
     "data": {
      "image/png": "[encoded data removed]",
      "text/plain": [
       "<Figure size 432x288 with 1 Axes>"
      ]
     },
     "metadata": {},
     "output_type": "display_data"
    },
    {
     "data": {
      "text/plain": [
       "(0.8035,\n",
       " 0.798,\n",
       " [0.01449650526046753,\n",
       "  0.0006438493728637695,\n",
       "  0.0005871057510375977,\n",
       "  0.002245306968688965,\n",
       "  0.005762040615081787])"
      ]
     },
     "execution_count": 83,
     "metadata": {},
     "output_type": "execute_result"
    }
   ],
   "source": [
    "S2ti(all_data[5][0], all_data[5][1],all_data[11][0], all_data[11][1], 5, eval_bool = True, dist_eval = True)"
   ]
  },
  {
   "cell_type": "code",
   "execution_count": 89,
   "metadata": {},
   "outputs": [
    {
     "data": {
      "application/javascript": [
       "$(document).ready(\n",
       "    function() {\n",
       "        function appendUniqueDiv(){\n",
       "            // append a div with our uuid so we can check that it's already\n",
       "            // been sent and avoid duplicates on page reload\n",
       "            var notifiedDiv = document.createElement(\"div\")\n",
       "            notifiedDiv.id = \"1c14cbb9-41d7-4829-b4ba-b41ea1542e84\"\n",
       "            element.append(notifiedDiv)\n",
       "        }\n",
       "\n",
       "        // only send notifications if the pageload is complete; this will\n",
       "        // help stop extra notifications when a saved notebook is loaded,\n",
       "        // which during testing gives us state \"interactive\", not \"complete\"\n",
       "        if (document.readyState === 'complete') {\n",
       "            // check for the div that signifies that the notification\n",
       "            // was already sent\n",
       "            if (document.getElementById(\"1c14cbb9-41d7-4829-b4ba-b41ea1542e84\") === null) {\n",
       "                var notificationPayload = {\"requireInteraction\": false, \"icon\": \"/static/base/images/favicon.ico\", \"body\": \"Cell execution has finished!\"};\n",
       "                if (Notification.permission !== 'denied') {\n",
       "                    if (Notification.permission !== 'granted') { \n",
       "                        Notification.requestPermission(function (permission) {\n",
       "                            if(!('permission' in Notification)) {\n",
       "                                Notification.permission = permission\n",
       "                            }\n",
       "                        })\n",
       "                    }\n",
       "                    if (Notification.permission === 'granted') {\n",
       "                    var notification = new Notification(\"Jupyter Notebook\", notificationPayload)\n",
       "                    appendUniqueDiv()\n",
       "                    notification.onclick = function () {\n",
       "                        window.focus();\n",
       "                        this.close();\n",
       "                        };\n",
       "                    } \n",
       "                }     \n",
       "            }\n",
       "        }\n",
       "    }\n",
       ")\n"
      ],
      "text/plain": [
       "<IPython.core.display.Javascript object>"
      ]
     },
     "metadata": {},
     "output_type": "display_data"
    }
   ],
   "source": [
    "%%notify\n",
    "iterative_scores_5,S2T_scores_5,S2ti_scores_5,dist_list_5 = all_combination_test(5, dist_eval = True)"
   ]
  },
  {
   "cell_type": "code",
   "execution_count": 91,
   "metadata": {},
   "outputs": [],
   "source": [
    "dist_S2t1 = [x[0] for x in dist_list_5]\n",
    "dist_t1t2 = [x[1] for x in dist_list_5]\n",
    "dist_t2t3 = [x[2] for x in dist_list_5]\n",
    "dist_t3t4 = [x[3] for x in dist_list_5]\n",
    "dist_t4t5 = [x[4] for x in dist_list_5]"
   ]
  },
  {
   "cell_type": "code",
   "execution_count": 94,
   "metadata": {},
   "outputs": [
    {
     "data": {
      "text/plain": [
       "[<matplotlib.lines.Line2D at 0x7f7fe3de96d8>]"
      ]
     },
     "execution_count": 94,
     "metadata": {},
     "output_type": "execute_result"
    },
    {
     "data": {
      "image/png": "[encoded data removed]",
      "text/plain": [
       "<Figure size 432x288 with 1 Axes>"
      ]
     },
     "metadata": {},
     "output_type": "display_data"
    }
   ],
   "source": [
    "# S2t1\n",
    "x = np.array(dist_S2t1)\n",
    "y = np.array(iterative_scores_5)\n",
    "plt.plot(x,y,'o')\n",
    "m, b = np.polyfit(x, y, 1)\n",
    "plt.plot(x, m*x + b)"
   ]
  },
  {
   "cell_type": "code",
   "execution_count": 95,
   "metadata": {},
   "outputs": [
    {
     "data": {
      "text/plain": [
       "[<matplotlib.lines.Line2D at 0x7f95a0b2e668>]"
      ]
     },
     "execution_count": 95,
     "metadata": {},
     "output_type": "execute_result"
    },
    {
     "data": {
      "image/png": "[encoded data removed]",
      "text/plain": [
       "<Figure size 432x288 with 1 Axes>"
      ]
     },
     "metadata": {},
     "output_type": "display_data"
    }
   ],
   "source": [
    "# t1t2\n",
    "x = np.array(dist_t1t2)\n",
    "y = np.array(iterative_scores_5)\n",
    "plt.plot(x,y,'o')\n",
    "m, b = np.polyfit(x, y, 1)\n",
    "plt.plot(x, m*x + b)"
   ]
  },
  {
   "cell_type": "code",
   "execution_count": 96,
   "metadata": {},
   "outputs": [
    {
     "data": {
      "text/plain": [
       "[<matplotlib.lines.Line2D at 0x7f7fe3df0978>]"
      ]
     },
     "execution_count": 96,
     "metadata": {},
     "output_type": "execute_result"
    },
    {
     "data": {
      "image/png": "[encoded data removed]",
      "text/plain": [
       "<Figure size 432x288 with 1 Axes>"
      ]
     },
     "metadata": {},
     "output_type": "display_data"
    }
   ],
   "source": [
    "# t2t3\n",
    "x = np.array(dist_t2t3)\n",
    "y = np.array(iterative_scores_5)\n",
    "plt.plot(x,y,'o')\n",
    "m, b = np.polyfit(x, y, 1)\n",
    "plt.plot(x, m*x + b)"
   ]
  },
  {
   "cell_type": "code",
   "execution_count": 97,
   "metadata": {},
   "outputs": [
    {
     "data": {
      "text/plain": [
       "[<matplotlib.lines.Line2D at 0x7f7fdfafbf60>]"
      ]
     },
     "execution_count": 97,
     "metadata": {},
     "output_type": "execute_result"
    },
    {
     "data": {
      "image/png": "[encoded data removed]",
      "text/plain": [
       "<Figure size 432x288 with 1 Axes>"
      ]
     },
     "metadata": {},
     "output_type": "display_data"
    }
   ],
   "source": [
    "# t3t4\n",
    "x = np.array(dist_t3t4)\n",
    "y = np.array(iterative_scores_5)\n",
    "plt.plot(x,y,'o')\n",
    "m, b = np.polyfit(x, y, 1)\n",
    "plt.plot(x, m*x + b)"
   ]
  },
  {
   "cell_type": "code",
   "execution_count": 98,
   "metadata": {
    "scrolled": true
   },
   "outputs": [
    {
     "data": {
      "text/plain": [
       "[<matplotlib.lines.Line2D at 0x7f9570836860>]"
      ]
     },
     "execution_count": 98,
     "metadata": {},
     "output_type": "execute_result"
    },
    {
     "data": {
      "image/png": "[encoded data removed]",
      "text/plain": [
       "<Figure size 432x288 with 1 Axes>"
      ]
     },
     "metadata": {},
     "output_type": "display_data"
    }
   ],
   "source": [
    "# t4t5\n",
    "x = np.array(dist_t4t5)\n",
    "y = np.array(iterative_scores_5)\n",
    "plt.plot(x,y,'o')\n",
    "m, b = np.polyfit(x, y, 1)\n",
    "plt.plot(x, m*x + b)"
   ]
  },
  {
   "cell_type": "code",
   "execution_count": null,
   "metadata": {},
   "outputs": [],
   "source": []
  },
  {
   "cell_type": "markdown",
   "metadata": {},
   "source": [
    "# iter from 2 to 30"
   ]
  },
  {
   "cell_type": "code",
   "execution_count": 105,
   "metadata": {},
   "outputs": [
    {
     "data": {
      "application/javascript": [
       "$(document).ready(\n",
       "    function() {\n",
       "        function appendUniqueDiv(){\n",
       "            // append a div with our uuid so we can check that it's already\n",
       "            // been sent and avoid duplicates on page reload\n",
       "            var notifiedDiv = document.createElement(\"div\")\n",
       "            notifiedDiv.id = \"450daead-3640-4c5e-a059-2d7d1fcd8e79\"\n",
       "            element.append(notifiedDiv)\n",
       "        }\n",
       "\n",
       "        // only send notifications if the pageload is complete; this will\n",
       "        // help stop extra notifications when a saved notebook is loaded,\n",
       "        // which during testing gives us state \"interactive\", not \"complete\"\n",
       "        if (document.readyState === 'complete') {\n",
       "            // check for the div that signifies that the notification\n",
       "            // was already sent\n",
       "            if (document.getElementById(\"450daead-3640-4c5e-a059-2d7d1fcd8e79\") === null) {\n",
       "                var notificationPayload = {\"requireInteraction\": false, \"icon\": \"/static/base/images/favicon.ico\", \"body\": \"Cell execution has finished!\"};\n",
       "                if (Notification.permission !== 'denied') {\n",
       "                    if (Notification.permission !== 'granted') { \n",
       "                        Notification.requestPermission(function (permission) {\n",
       "                            if(!('permission' in Notification)) {\n",
       "                                Notification.permission = permission\n",
       "                            }\n",
       "                        })\n",
       "                    }\n",
       "                    if (Notification.permission === 'granted') {\n",
       "                    var notification = new Notification(\"Jupyter Notebook\", notificationPayload)\n",
       "                    appendUniqueDiv()\n",
       "                    notification.onclick = function () {\n",
       "                        window.focus();\n",
       "                        this.close();\n",
       "                        };\n",
       "                    } \n",
       "                }     \n",
       "            }\n",
       "        }\n",
       "    }\n",
       ")\n"
      ],
      "text/plain": [
       "<IPython.core.display.Javascript object>"
      ]
     },
     "metadata": {},
     "output_type": "display_data"
    }
   ],
   "source": [
    "%%notify\n",
    "iter_from_2_to_30 = [all_combination_test(i, dist_eval = True) for i in range(2,31)]\n"
   ]
  },
  {
   "cell_type": "code",
   "execution_count": 117,
   "metadata": {
    "scrolled": true
   },
   "outputs": [
    {
     "data": {
      "text/plain": [
       "[Text(0,0,'2'),\n",
       " Text(0,0,'3'),\n",
       " Text(0,0,'4'),\n",
       " Text(0,0,'5'),\n",
       " Text(0,0,'6'),\n",
       " Text(0,0,'7'),\n",
       " Text(0,0,'8'),\n",
       " Text(0,0,'9'),\n",
       " Text(0,0,'10'),\n",
       " Text(0,0,'11'),\n",
       " Text(0,0,'12'),\n",
       " Text(0,0,'13'),\n",
       " Text(0,0,'14'),\n",
       " Text(0,0,'15'),\n",
       " Text(0,0,'16'),\n",
       " Text(0,0,'17'),\n",
       " Text(0,0,'18'),\n",
       " Text(0,0,'19'),\n",
       " Text(0,0,'20')]"
      ]
     },
     "execution_count": 117,
     "metadata": {},
     "output_type": "execute_result"
    },
    {
     "data": {
      "image/png": "[encoded data removed]",
      "text/plain": [
       "<Figure size 432x288 with 1 Axes>"
      ]
     },
     "metadata": {},
     "output_type": "display_data"
    }
   ],
   "source": [
    "fig, ax = plt.subplots()\n",
    "ax.boxplot([x[0] for x in iter_from_2_to_30])\n",
    "ax.set_xticklabels([i for i in range(2,21)])"
   ]
  },
  {
   "cell_type": "code",
   "execution_count": 137,
   "metadata": {
    "scrolled": true
   },
   "outputs": [
    {
     "data": {
      "text/plain": [
       "[<matplotlib.lines.Line2D at 0x7f7fdf14ac50>]"
      ]
     },
     "execution_count": 137,
     "metadata": {},
     "output_type": "execute_result"
    },
    {
     "data": {
      "image/png": "[encoded data removed]",
      "text/plain": [
       "<Figure size 432x288 with 1 Axes>"
      ]
     },
     "metadata": {},
     "output_type": "display_data"
    }
   ],
   "source": [
    "x = np.array([i for i in range(2,31)])\n",
    "y = np.array([np.mean(x[0]) for x in iter_from_2_to_30])\n",
    "plt.plot(x,y)\n",
    "plt.plot(x,y,'o')\n",
    "m, b = np.polyfit(x, y, 1)\n",
    "plt.plot(x, m*x + b)"
   ]
  },
  {
   "cell_type": "code",
   "execution_count": 121,
   "metadata": {},
   "outputs": [
    {
     "data": {
      "text/plain": [
       "array([0.01245972, 0.00712266])"
      ]
     },
     "execution_count": 121,
     "metadata": {},
     "output_type": "execute_result"
    }
   ],
   "source": [
    "np.mean(iter_from_2_to_30[0][3],axis = 0)"
   ]
  },
  {
   "cell_type": "code",
   "execution_count": 125,
   "metadata": {},
   "outputs": [
    {
     "data": {
      "text/html": [
       "<div>\n",
       "<style scoped>\n",
       "    .dataframe tbody tr th:only-of-type {\n",
       "        vertical-align: middle;\n",
       "    }\n",
       "\n",
       "    .dataframe tbody tr th {\n",
       "        vertical-align: top;\n",
       "    }\n",
       "\n",
       "    .dataframe thead th {\n",
       "        text-align: right;\n",
       "    }\n",
       "</style>\n",
       "<table border=\"1\" class=\"dataframe\">\n",
       "  <thead>\n",
       "    <tr style=\"text-align: right;\">\n",
       "      <th></th>\n",
       "      <th>0</th>\n",
       "      <th>1</th>\n",
       "      <th>2</th>\n",
       "      <th>3</th>\n",
       "      <th>4</th>\n",
       "      <th>5</th>\n",
       "      <th>6</th>\n",
       "      <th>7</th>\n",
       "      <th>8</th>\n",
       "      <th>9</th>\n",
       "      <th>...</th>\n",
       "      <th>20</th>\n",
       "      <th>21</th>\n",
       "      <th>22</th>\n",
       "      <th>23</th>\n",
       "      <th>24</th>\n",
       "      <th>25</th>\n",
       "      <th>26</th>\n",
       "      <th>27</th>\n",
       "      <th>28</th>\n",
       "      <th>29</th>\n",
       "    </tr>\n",
       "  </thead>\n",
       "  <tbody>\n",
       "    <tr>\n",
       "      <th>2</th>\n",
       "      <td>0.012460</td>\n",
       "      <td>0.007123</td>\n",
       "      <td>NaN</td>\n",
       "      <td>NaN</td>\n",
       "      <td>NaN</td>\n",
       "      <td>NaN</td>\n",
       "      <td>NaN</td>\n",
       "      <td>NaN</td>\n",
       "      <td>NaN</td>\n",
       "      <td>NaN</td>\n",
       "      <td>...</td>\n",
       "      <td>NaN</td>\n",
       "      <td>NaN</td>\n",
       "      <td>NaN</td>\n",
       "      <td>NaN</td>\n",
       "      <td>NaN</td>\n",
       "      <td>NaN</td>\n",
       "      <td>NaN</td>\n",
       "      <td>NaN</td>\n",
       "      <td>NaN</td>\n",
       "      <td>NaN</td>\n",
       "    </tr>\n",
       "    <tr>\n",
       "      <th>3</th>\n",
       "      <td>0.011973</td>\n",
       "      <td>0.001683</td>\n",
       "      <td>0.006493</td>\n",
       "      <td>NaN</td>\n",
       "      <td>NaN</td>\n",
       "      <td>NaN</td>\n",
       "      <td>NaN</td>\n",
       "      <td>NaN</td>\n",
       "      <td>NaN</td>\n",
       "      <td>NaN</td>\n",
       "      <td>...</td>\n",
       "      <td>NaN</td>\n",
       "      <td>NaN</td>\n",
       "      <td>NaN</td>\n",
       "      <td>NaN</td>\n",
       "      <td>NaN</td>\n",
       "      <td>NaN</td>\n",
       "      <td>NaN</td>\n",
       "      <td>NaN</td>\n",
       "      <td>NaN</td>\n",
       "      <td>NaN</td>\n",
       "    </tr>\n",
       "    <tr>\n",
       "      <th>4</th>\n",
       "      <td>0.011640</td>\n",
       "      <td>0.000943</td>\n",
       "      <td>0.001698</td>\n",
       "      <td>0.005665</td>\n",
       "      <td>NaN</td>\n",
       "      <td>NaN</td>\n",
       "      <td>NaN</td>\n",
       "      <td>NaN</td>\n",
       "      <td>NaN</td>\n",
       "      <td>NaN</td>\n",
       "      <td>...</td>\n",
       "      <td>NaN</td>\n",
       "      <td>NaN</td>\n",
       "      <td>NaN</td>\n",
       "      <td>NaN</td>\n",
       "      <td>NaN</td>\n",
       "      <td>NaN</td>\n",
       "      <td>NaN</td>\n",
       "      <td>NaN</td>\n",
       "      <td>NaN</td>\n",
       "      <td>NaN</td>\n",
       "    </tr>\n",
       "    <tr>\n",
       "      <th>5</th>\n",
       "      <td>0.011368</td>\n",
       "      <td>0.000734</td>\n",
       "      <td>0.000835</td>\n",
       "      <td>0.001764</td>\n",
       "      <td>0.005072</td>\n",
       "      <td>NaN</td>\n",
       "      <td>NaN</td>\n",
       "      <td>NaN</td>\n",
       "      <td>NaN</td>\n",
       "      <td>NaN</td>\n",
       "      <td>...</td>\n",
       "      <td>NaN</td>\n",
       "      <td>NaN</td>\n",
       "      <td>NaN</td>\n",
       "      <td>NaN</td>\n",
       "      <td>NaN</td>\n",
       "      <td>NaN</td>\n",
       "      <td>NaN</td>\n",
       "      <td>NaN</td>\n",
       "      <td>NaN</td>\n",
       "      <td>NaN</td>\n",
       "    </tr>\n",
       "    <tr>\n",
       "      <th>6</th>\n",
       "      <td>0.011150</td>\n",
       "      <td>0.000651</td>\n",
       "      <td>0.000573</td>\n",
       "      <td>0.000946</td>\n",
       "      <td>0.001697</td>\n",
       "      <td>0.004782</td>\n",
       "      <td>NaN</td>\n",
       "      <td>NaN</td>\n",
       "      <td>NaN</td>\n",
       "      <td>NaN</td>\n",
       "      <td>...</td>\n",
       "      <td>NaN</td>\n",
       "      <td>NaN</td>\n",
       "      <td>NaN</td>\n",
       "      <td>NaN</td>\n",
       "      <td>NaN</td>\n",
       "      <td>NaN</td>\n",
       "      <td>NaN</td>\n",
       "      <td>NaN</td>\n",
       "      <td>NaN</td>\n",
       "      <td>NaN</td>\n",
       "    </tr>\n",
       "    <tr>\n",
       "      <th>7</th>\n",
       "      <td>0.010939</td>\n",
       "      <td>0.000621</td>\n",
       "      <td>0.000503</td>\n",
       "      <td>0.000650</td>\n",
       "      <td>0.001032</td>\n",
       "      <td>0.001595</td>\n",
       "      <td>0.004642</td>\n",
       "      <td>NaN</td>\n",
       "      <td>NaN</td>\n",
       "      <td>NaN</td>\n",
       "      <td>...</td>\n",
       "      <td>NaN</td>\n",
       "      <td>NaN</td>\n",
       "      <td>NaN</td>\n",
       "      <td>NaN</td>\n",
       "      <td>NaN</td>\n",
       "      <td>NaN</td>\n",
       "      <td>NaN</td>\n",
       "      <td>NaN</td>\n",
       "      <td>NaN</td>\n",
       "      <td>NaN</td>\n",
       "    </tr>\n",
       "    <tr>\n",
       "      <th>8</th>\n",
       "      <td>0.010773</td>\n",
       "      <td>0.000616</td>\n",
       "      <td>0.000471</td>\n",
       "      <td>0.000534</td>\n",
       "      <td>0.000745</td>\n",
       "      <td>0.001046</td>\n",
       "      <td>0.001536</td>\n",
       "      <td>0.004608</td>\n",
       "      <td>NaN</td>\n",
       "      <td>NaN</td>\n",
       "      <td>...</td>\n",
       "      <td>NaN</td>\n",
       "      <td>NaN</td>\n",
       "      <td>NaN</td>\n",
       "      <td>NaN</td>\n",
       "      <td>NaN</td>\n",
       "      <td>NaN</td>\n",
       "      <td>NaN</td>\n",
       "      <td>NaN</td>\n",
       "      <td>NaN</td>\n",
       "      <td>NaN</td>\n",
       "    </tr>\n",
       "    <tr>\n",
       "      <th>9</th>\n",
       "      <td>0.010651</td>\n",
       "      <td>0.000612</td>\n",
       "      <td>0.000463</td>\n",
       "      <td>0.000496</td>\n",
       "      <td>0.000633</td>\n",
       "      <td>0.000846</td>\n",
       "      <td>0.001119</td>\n",
       "      <td>0.001471</td>\n",
       "      <td>0.004604</td>\n",
       "      <td>NaN</td>\n",
       "      <td>...</td>\n",
       "      <td>NaN</td>\n",
       "      <td>NaN</td>\n",
       "      <td>NaN</td>\n",
       "      <td>NaN</td>\n",
       "      <td>NaN</td>\n",
       "      <td>NaN</td>\n",
       "      <td>NaN</td>\n",
       "      <td>NaN</td>\n",
       "      <td>NaN</td>\n",
       "      <td>NaN</td>\n",
       "    </tr>\n",
       "    <tr>\n",
       "      <th>10</th>\n",
       "      <td>0.010523</td>\n",
       "      <td>0.000618</td>\n",
       "      <td>0.000465</td>\n",
       "      <td>0.000503</td>\n",
       "      <td>0.000578</td>\n",
       "      <td>0.000711</td>\n",
       "      <td>0.000863</td>\n",
       "      <td>0.001133</td>\n",
       "      <td>0.001448</td>\n",
       "      <td>0.004639</td>\n",
       "      <td>...</td>\n",
       "      <td>NaN</td>\n",
       "      <td>NaN</td>\n",
       "      <td>NaN</td>\n",
       "      <td>NaN</td>\n",
       "      <td>NaN</td>\n",
       "      <td>NaN</td>\n",
       "      <td>NaN</td>\n",
       "      <td>NaN</td>\n",
       "      <td>NaN</td>\n",
       "      <td>NaN</td>\n",
       "    </tr>\n",
       "    <tr>\n",
       "      <th>11</th>\n",
       "      <td>0.010430</td>\n",
       "      <td>0.000618</td>\n",
       "      <td>0.000471</td>\n",
       "      <td>0.000513</td>\n",
       "      <td>0.000565</td>\n",
       "      <td>0.000662</td>\n",
       "      <td>0.000791</td>\n",
       "      <td>0.000876</td>\n",
       "      <td>0.001169</td>\n",
       "      <td>0.001457</td>\n",
       "      <td>...</td>\n",
       "      <td>NaN</td>\n",
       "      <td>NaN</td>\n",
       "      <td>NaN</td>\n",
       "      <td>NaN</td>\n",
       "      <td>NaN</td>\n",
       "      <td>NaN</td>\n",
       "      <td>NaN</td>\n",
       "      <td>NaN</td>\n",
       "      <td>NaN</td>\n",
       "      <td>NaN</td>\n",
       "    </tr>\n",
       "    <tr>\n",
       "      <th>12</th>\n",
       "      <td>0.010326</td>\n",
       "      <td>0.000643</td>\n",
       "      <td>0.000486</td>\n",
       "      <td>0.000527</td>\n",
       "      <td>0.000560</td>\n",
       "      <td>0.000628</td>\n",
       "      <td>0.000725</td>\n",
       "      <td>0.000847</td>\n",
       "      <td>0.001005</td>\n",
       "      <td>0.001166</td>\n",
       "      <td>...</td>\n",
       "      <td>NaN</td>\n",
       "      <td>NaN</td>\n",
       "      <td>NaN</td>\n",
       "      <td>NaN</td>\n",
       "      <td>NaN</td>\n",
       "      <td>NaN</td>\n",
       "      <td>NaN</td>\n",
       "      <td>NaN</td>\n",
       "      <td>NaN</td>\n",
       "      <td>NaN</td>\n",
       "    </tr>\n",
       "    <tr>\n",
       "      <th>13</th>\n",
       "      <td>0.010248</td>\n",
       "      <td>0.000655</td>\n",
       "      <td>0.000490</td>\n",
       "      <td>0.000528</td>\n",
       "      <td>0.000577</td>\n",
       "      <td>0.000614</td>\n",
       "      <td>0.000716</td>\n",
       "      <td>0.000800</td>\n",
       "      <td>0.000856</td>\n",
       "      <td>0.001078</td>\n",
       "      <td>...</td>\n",
       "      <td>NaN</td>\n",
       "      <td>NaN</td>\n",
       "      <td>NaN</td>\n",
       "      <td>NaN</td>\n",
       "      <td>NaN</td>\n",
       "      <td>NaN</td>\n",
       "      <td>NaN</td>\n",
       "      <td>NaN</td>\n",
       "      <td>NaN</td>\n",
       "      <td>NaN</td>\n",
       "    </tr>\n",
       "    <tr>\n",
       "      <th>14</th>\n",
       "      <td>0.010158</td>\n",
       "      <td>0.000664</td>\n",
       "      <td>0.000523</td>\n",
       "      <td>0.000539</td>\n",
       "      <td>0.000603</td>\n",
       "      <td>0.000647</td>\n",
       "      <td>0.000708</td>\n",
       "      <td>0.000766</td>\n",
       "      <td>0.000848</td>\n",
       "      <td>0.000901</td>\n",
       "      <td>...</td>\n",
       "      <td>NaN</td>\n",
       "      <td>NaN</td>\n",
       "      <td>NaN</td>\n",
       "      <td>NaN</td>\n",
       "      <td>NaN</td>\n",
       "      <td>NaN</td>\n",
       "      <td>NaN</td>\n",
       "      <td>NaN</td>\n",
       "      <td>NaN</td>\n",
       "      <td>NaN</td>\n",
       "    </tr>\n",
       "    <tr>\n",
       "      <th>15</th>\n",
       "      <td>0.010097</td>\n",
       "      <td>0.000691</td>\n",
       "      <td>0.000561</td>\n",
       "      <td>0.000559</td>\n",
       "      <td>0.000613</td>\n",
       "      <td>0.000653</td>\n",
       "      <td>0.000684</td>\n",
       "      <td>0.000786</td>\n",
       "      <td>0.000856</td>\n",
       "      <td>0.000898</td>\n",
       "      <td>...</td>\n",
       "      <td>NaN</td>\n",
       "      <td>NaN</td>\n",
       "      <td>NaN</td>\n",
       "      <td>NaN</td>\n",
       "      <td>NaN</td>\n",
       "      <td>NaN</td>\n",
       "      <td>NaN</td>\n",
       "      <td>NaN</td>\n",
       "      <td>NaN</td>\n",
       "      <td>NaN</td>\n",
       "    </tr>\n",
       "    <tr>\n",
       "      <th>16</th>\n",
       "      <td>0.010044</td>\n",
       "      <td>0.000703</td>\n",
       "      <td>0.000588</td>\n",
       "      <td>0.000576</td>\n",
       "      <td>0.000641</td>\n",
       "      <td>0.000697</td>\n",
       "      <td>0.000725</td>\n",
       "      <td>0.000776</td>\n",
       "      <td>0.000846</td>\n",
       "      <td>0.000922</td>\n",
       "      <td>...</td>\n",
       "      <td>NaN</td>\n",
       "      <td>NaN</td>\n",
       "      <td>NaN</td>\n",
       "      <td>NaN</td>\n",
       "      <td>NaN</td>\n",
       "      <td>NaN</td>\n",
       "      <td>NaN</td>\n",
       "      <td>NaN</td>\n",
       "      <td>NaN</td>\n",
       "      <td>NaN</td>\n",
       "    </tr>\n",
       "    <tr>\n",
       "      <th>17</th>\n",
       "      <td>0.009997</td>\n",
       "      <td>0.000720</td>\n",
       "      <td>0.000615</td>\n",
       "      <td>0.000611</td>\n",
       "      <td>0.000645</td>\n",
       "      <td>0.000721</td>\n",
       "      <td>0.000752</td>\n",
       "      <td>0.000780</td>\n",
       "      <td>0.000867</td>\n",
       "      <td>0.000928</td>\n",
       "      <td>...</td>\n",
       "      <td>NaN</td>\n",
       "      <td>NaN</td>\n",
       "      <td>NaN</td>\n",
       "      <td>NaN</td>\n",
       "      <td>NaN</td>\n",
       "      <td>NaN</td>\n",
       "      <td>NaN</td>\n",
       "      <td>NaN</td>\n",
       "      <td>NaN</td>\n",
       "      <td>NaN</td>\n",
       "    </tr>\n",
       "    <tr>\n",
       "      <th>18</th>\n",
       "      <td>0.009938</td>\n",
       "      <td>0.000746</td>\n",
       "      <td>0.000644</td>\n",
       "      <td>0.000640</td>\n",
       "      <td>0.000678</td>\n",
       "      <td>0.000737</td>\n",
       "      <td>0.000758</td>\n",
       "      <td>0.000786</td>\n",
       "      <td>0.000870</td>\n",
       "      <td>0.000904</td>\n",
       "      <td>...</td>\n",
       "      <td>NaN</td>\n",
       "      <td>NaN</td>\n",
       "      <td>NaN</td>\n",
       "      <td>NaN</td>\n",
       "      <td>NaN</td>\n",
       "      <td>NaN</td>\n",
       "      <td>NaN</td>\n",
       "      <td>NaN</td>\n",
       "      <td>NaN</td>\n",
       "      <td>NaN</td>\n",
       "    </tr>\n",
       "    <tr>\n",
       "      <th>19</th>\n",
       "      <td>0.009880</td>\n",
       "      <td>0.000764</td>\n",
       "      <td>0.000658</td>\n",
       "      <td>0.000654</td>\n",
       "      <td>0.000698</td>\n",
       "      <td>0.000740</td>\n",
       "      <td>0.000797</td>\n",
       "      <td>0.000866</td>\n",
       "      <td>0.000876</td>\n",
       "      <td>0.000946</td>\n",
       "      <td>...</td>\n",
       "      <td>NaN</td>\n",
       "      <td>NaN</td>\n",
       "      <td>NaN</td>\n",
       "      <td>NaN</td>\n",
       "      <td>NaN</td>\n",
       "      <td>NaN</td>\n",
       "      <td>NaN</td>\n",
       "      <td>NaN</td>\n",
       "      <td>NaN</td>\n",
       "      <td>NaN</td>\n",
       "    </tr>\n",
       "    <tr>\n",
       "      <th>20</th>\n",
       "      <td>0.009848</td>\n",
       "      <td>0.000783</td>\n",
       "      <td>0.000673</td>\n",
       "      <td>0.000670</td>\n",
       "      <td>0.000728</td>\n",
       "      <td>0.000756</td>\n",
       "      <td>0.000815</td>\n",
       "      <td>0.000847</td>\n",
       "      <td>0.000874</td>\n",
       "      <td>0.000942</td>\n",
       "      <td>...</td>\n",
       "      <td>NaN</td>\n",
       "      <td>NaN</td>\n",
       "      <td>NaN</td>\n",
       "      <td>NaN</td>\n",
       "      <td>NaN</td>\n",
       "      <td>NaN</td>\n",
       "      <td>NaN</td>\n",
       "      <td>NaN</td>\n",
       "      <td>NaN</td>\n",
       "      <td>NaN</td>\n",
       "    </tr>\n",
       "    <tr>\n",
       "      <th>21</th>\n",
       "      <td>0.009803</td>\n",
       "      <td>0.000827</td>\n",
       "      <td>0.000710</td>\n",
       "      <td>0.000725</td>\n",
       "      <td>0.000723</td>\n",
       "      <td>0.000749</td>\n",
       "      <td>0.000825</td>\n",
       "      <td>0.000867</td>\n",
       "      <td>0.000894</td>\n",
       "      <td>0.000915</td>\n",
       "      <td>...</td>\n",
       "      <td>0.005518</td>\n",
       "      <td>NaN</td>\n",
       "      <td>NaN</td>\n",
       "      <td>NaN</td>\n",
       "      <td>NaN</td>\n",
       "      <td>NaN</td>\n",
       "      <td>NaN</td>\n",
       "      <td>NaN</td>\n",
       "      <td>NaN</td>\n",
       "      <td>NaN</td>\n",
       "    </tr>\n",
       "    <tr>\n",
       "      <th>22</th>\n",
       "      <td>0.009752</td>\n",
       "      <td>0.000867</td>\n",
       "      <td>0.000737</td>\n",
       "      <td>0.000757</td>\n",
       "      <td>0.000767</td>\n",
       "      <td>0.000813</td>\n",
       "      <td>0.000849</td>\n",
       "      <td>0.000905</td>\n",
       "      <td>0.000972</td>\n",
       "      <td>0.000972</td>\n",
       "      <td>...</td>\n",
       "      <td>0.002005</td>\n",
       "      <td>0.005282</td>\n",
       "      <td>NaN</td>\n",
       "      <td>NaN</td>\n",
       "      <td>NaN</td>\n",
       "      <td>NaN</td>\n",
       "      <td>NaN</td>\n",
       "      <td>NaN</td>\n",
       "      <td>NaN</td>\n",
       "      <td>NaN</td>\n",
       "    </tr>\n",
       "    <tr>\n",
       "      <th>23</th>\n",
       "      <td>0.009711</td>\n",
       "      <td>0.000903</td>\n",
       "      <td>0.000765</td>\n",
       "      <td>0.000770</td>\n",
       "      <td>0.000798</td>\n",
       "      <td>0.000863</td>\n",
       "      <td>0.000884</td>\n",
       "      <td>0.000941</td>\n",
       "      <td>0.000953</td>\n",
       "      <td>0.000975</td>\n",
       "      <td>...</td>\n",
       "      <td>0.001882</td>\n",
       "      <td>0.002120</td>\n",
       "      <td>0.005352</td>\n",
       "      <td>NaN</td>\n",
       "      <td>NaN</td>\n",
       "      <td>NaN</td>\n",
       "      <td>NaN</td>\n",
       "      <td>NaN</td>\n",
       "      <td>NaN</td>\n",
       "      <td>NaN</td>\n",
       "    </tr>\n",
       "    <tr>\n",
       "      <th>24</th>\n",
       "      <td>0.009685</td>\n",
       "      <td>0.000918</td>\n",
       "      <td>0.000782</td>\n",
       "      <td>0.000804</td>\n",
       "      <td>0.000815</td>\n",
       "      <td>0.000876</td>\n",
       "      <td>0.000894</td>\n",
       "      <td>0.000941</td>\n",
       "      <td>0.000980</td>\n",
       "      <td>0.001026</td>\n",
       "      <td>...</td>\n",
       "      <td>0.001746</td>\n",
       "      <td>0.001951</td>\n",
       "      <td>0.002308</td>\n",
       "      <td>0.005651</td>\n",
       "      <td>NaN</td>\n",
       "      <td>NaN</td>\n",
       "      <td>NaN</td>\n",
       "      <td>NaN</td>\n",
       "      <td>NaN</td>\n",
       "      <td>NaN</td>\n",
       "    </tr>\n",
       "    <tr>\n",
       "      <th>25</th>\n",
       "      <td>0.009648</td>\n",
       "      <td>0.000934</td>\n",
       "      <td>0.000800</td>\n",
       "      <td>0.000839</td>\n",
       "      <td>0.000842</td>\n",
       "      <td>0.000873</td>\n",
       "      <td>0.000898</td>\n",
       "      <td>0.000970</td>\n",
       "      <td>0.001019</td>\n",
       "      <td>0.001085</td>\n",
       "      <td>...</td>\n",
       "      <td>0.001651</td>\n",
       "      <td>0.001836</td>\n",
       "      <td>0.001992</td>\n",
       "      <td>0.002436</td>\n",
       "      <td>0.005830</td>\n",
       "      <td>NaN</td>\n",
       "      <td>NaN</td>\n",
       "      <td>NaN</td>\n",
       "      <td>NaN</td>\n",
       "      <td>NaN</td>\n",
       "    </tr>\n",
       "    <tr>\n",
       "      <th>26</th>\n",
       "      <td>0.009616</td>\n",
       "      <td>0.000943</td>\n",
       "      <td>0.000827</td>\n",
       "      <td>0.000865</td>\n",
       "      <td>0.000873</td>\n",
       "      <td>0.000897</td>\n",
       "      <td>0.000935</td>\n",
       "      <td>0.000986</td>\n",
       "      <td>0.001057</td>\n",
       "      <td>0.001071</td>\n",
       "      <td>...</td>\n",
       "      <td>0.001700</td>\n",
       "      <td>0.001735</td>\n",
       "      <td>0.001924</td>\n",
       "      <td>0.002073</td>\n",
       "      <td>0.002328</td>\n",
       "      <td>0.005412</td>\n",
       "      <td>NaN</td>\n",
       "      <td>NaN</td>\n",
       "      <td>NaN</td>\n",
       "      <td>NaN</td>\n",
       "    </tr>\n",
       "    <tr>\n",
       "      <th>27</th>\n",
       "      <td>0.009595</td>\n",
       "      <td>0.000965</td>\n",
       "      <td>0.000852</td>\n",
       "      <td>0.000888</td>\n",
       "      <td>0.000887</td>\n",
       "      <td>0.000948</td>\n",
       "      <td>0.000993</td>\n",
       "      <td>0.001008</td>\n",
       "      <td>0.001053</td>\n",
       "      <td>0.001077</td>\n",
       "      <td>...</td>\n",
       "      <td>0.001666</td>\n",
       "      <td>0.001724</td>\n",
       "      <td>0.001825</td>\n",
       "      <td>0.002037</td>\n",
       "      <td>0.002154</td>\n",
       "      <td>0.002568</td>\n",
       "      <td>0.005953</td>\n",
       "      <td>NaN</td>\n",
       "      <td>NaN</td>\n",
       "      <td>NaN</td>\n",
       "    </tr>\n",
       "    <tr>\n",
       "      <th>28</th>\n",
       "      <td>0.009563</td>\n",
       "      <td>0.000977</td>\n",
       "      <td>0.000859</td>\n",
       "      <td>0.000905</td>\n",
       "      <td>0.000935</td>\n",
       "      <td>0.000999</td>\n",
       "      <td>0.001037</td>\n",
       "      <td>0.001036</td>\n",
       "      <td>0.001071</td>\n",
       "      <td>0.001157</td>\n",
       "      <td>...</td>\n",
       "      <td>0.001659</td>\n",
       "      <td>0.001758</td>\n",
       "      <td>0.001856</td>\n",
       "      <td>0.001909</td>\n",
       "      <td>0.002062</td>\n",
       "      <td>0.002192</td>\n",
       "      <td>0.002583</td>\n",
       "      <td>0.005664</td>\n",
       "      <td>NaN</td>\n",
       "      <td>NaN</td>\n",
       "    </tr>\n",
       "    <tr>\n",
       "      <th>29</th>\n",
       "      <td>0.009520</td>\n",
       "      <td>0.000999</td>\n",
       "      <td>0.000903</td>\n",
       "      <td>0.000929</td>\n",
       "      <td>0.000972</td>\n",
       "      <td>0.000978</td>\n",
       "      <td>0.001024</td>\n",
       "      <td>0.001046</td>\n",
       "      <td>0.001099</td>\n",
       "      <td>0.001170</td>\n",
       "      <td>...</td>\n",
       "      <td>0.001686</td>\n",
       "      <td>0.001732</td>\n",
       "      <td>0.001815</td>\n",
       "      <td>0.001932</td>\n",
       "      <td>0.001962</td>\n",
       "      <td>0.002152</td>\n",
       "      <td>0.002342</td>\n",
       "      <td>0.002600</td>\n",
       "      <td>0.005377</td>\n",
       "      <td>NaN</td>\n",
       "    </tr>\n",
       "    <tr>\n",
       "      <th>30</th>\n",
       "      <td>0.009490</td>\n",
       "      <td>0.001020</td>\n",
       "      <td>0.000923</td>\n",
       "      <td>0.000932</td>\n",
       "      <td>0.000975</td>\n",
       "      <td>0.000993</td>\n",
       "      <td>0.001033</td>\n",
       "      <td>0.001074</td>\n",
       "      <td>0.001123</td>\n",
       "      <td>0.001184</td>\n",
       "      <td>...</td>\n",
       "      <td>0.001694</td>\n",
       "      <td>0.001645</td>\n",
       "      <td>0.001811</td>\n",
       "      <td>0.001883</td>\n",
       "      <td>0.001933</td>\n",
       "      <td>0.002048</td>\n",
       "      <td>0.002272</td>\n",
       "      <td>0.002356</td>\n",
       "      <td>0.002746</td>\n",
       "      <td>0.005674</td>\n",
       "    </tr>\n",
       "  </tbody>\n",
       "</table>\n",
       "<p>29 rows × 30 columns</p>\n",
       "</div>"
      ],
      "text/plain": [
       "          0         1         2         3         4         5         6   \\\n",
       "2   0.012460  0.007123       NaN       NaN       NaN       NaN       NaN   \n",
       "3   0.011973  0.001683  0.006493       NaN       NaN       NaN       NaN   \n",
       "4   0.011640  0.000943  0.001698  0.005665       NaN       NaN       NaN   \n",
       "5   0.011368  0.000734  0.000835  0.001764  0.005072       NaN       NaN   \n",
       "6   0.011150  0.000651  0.000573  0.000946  0.001697  0.004782       NaN   \n",
       "7   0.010939  0.000621  0.000503  0.000650  0.001032  0.001595  0.004642   \n",
       "8   0.010773  0.000616  0.000471  0.000534  0.000745  0.001046  0.001536   \n",
       "9   0.010651  0.000612  0.000463  0.000496  0.000633  0.000846  0.001119   \n",
       "10  0.010523  0.000618  0.000465  0.000503  0.000578  0.000711  0.000863   \n",
       "11  0.010430  0.000618  0.000471  0.000513  0.000565  0.000662  0.000791   \n",
       "12  0.010326  0.000643  0.000486  0.000527  0.000560  0.000628  0.000725   \n",
       "13  0.010248  0.000655  0.000490  0.000528  0.000577  0.000614  0.000716   \n",
       "14  0.010158  0.000664  0.000523  0.000539  0.000603  0.000647  0.000708   \n",
       "15  0.010097  0.000691  0.000561  0.000559  0.000613  0.000653  0.000684   \n",
       "16  0.010044  0.000703  0.000588  0.000576  0.000641  0.000697  0.000725   \n",
       "17  0.009997  0.000720  0.000615  0.000611  0.000645  0.000721  0.000752   \n",
       "18  0.009938  0.000746  0.000644  0.000640  0.000678  0.000737  0.000758   \n",
       "19  0.009880  0.000764  0.000658  0.000654  0.000698  0.000740  0.000797   \n",
       "20  0.009848  0.000783  0.000673  0.000670  0.000728  0.000756  0.000815   \n",
       "21  0.009803  0.000827  0.000710  0.000725  0.000723  0.000749  0.000825   \n",
       "22  0.009752  0.000867  0.000737  0.000757  0.000767  0.000813  0.000849   \n",
       "23  0.009711  0.000903  0.000765  0.000770  0.000798  0.000863  0.000884   \n",
       "24  0.009685  0.000918  0.000782  0.000804  0.000815  0.000876  0.000894   \n",
       "25  0.009648  0.000934  0.000800  0.000839  0.000842  0.000873  0.000898   \n",
       "26  0.009616  0.000943  0.000827  0.000865  0.000873  0.000897  0.000935   \n",
       "27  0.009595  0.000965  0.000852  0.000888  0.000887  0.000948  0.000993   \n",
       "28  0.009563  0.000977  0.000859  0.000905  0.000935  0.000999  0.001037   \n",
       "29  0.009520  0.000999  0.000903  0.000929  0.000972  0.000978  0.001024   \n",
       "30  0.009490  0.001020  0.000923  0.000932  0.000975  0.000993  0.001033   \n",
       "\n",
       "          7         8         9   ...        20        21        22        23  \\\n",
       "2        NaN       NaN       NaN  ...       NaN       NaN       NaN       NaN   \n",
       "3        NaN       NaN       NaN  ...       NaN       NaN       NaN       NaN   \n",
       "4        NaN       NaN       NaN  ...       NaN       NaN       NaN       NaN   \n",
       "5        NaN       NaN       NaN  ...       NaN       NaN       NaN       NaN   \n",
       "6        NaN       NaN       NaN  ...       NaN       NaN       NaN       NaN   \n",
       "7        NaN       NaN       NaN  ...       NaN       NaN       NaN       NaN   \n",
       "8   0.004608       NaN       NaN  ...       NaN       NaN       NaN       NaN   \n",
       "9   0.001471  0.004604       NaN  ...       NaN       NaN       NaN       NaN   \n",
       "10  0.001133  0.001448  0.004639  ...       NaN       NaN       NaN       NaN   \n",
       "11  0.000876  0.001169  0.001457  ...       NaN       NaN       NaN       NaN   \n",
       "12  0.000847  0.001005  0.001166  ...       NaN       NaN       NaN       NaN   \n",
       "13  0.000800  0.000856  0.001078  ...       NaN       NaN       NaN       NaN   \n",
       "14  0.000766  0.000848  0.000901  ...       NaN       NaN       NaN       NaN   \n",
       "15  0.000786  0.000856  0.000898  ...       NaN       NaN       NaN       NaN   \n",
       "16  0.000776  0.000846  0.000922  ...       NaN       NaN       NaN       NaN   \n",
       "17  0.000780  0.000867  0.000928  ...       NaN       NaN       NaN       NaN   \n",
       "18  0.000786  0.000870  0.000904  ...       NaN       NaN       NaN       NaN   \n",
       "19  0.000866  0.000876  0.000946  ...       NaN       NaN       NaN       NaN   \n",
       "20  0.000847  0.000874  0.000942  ...       NaN       NaN       NaN       NaN   \n",
       "21  0.000867  0.000894  0.000915  ...  0.005518       NaN       NaN       NaN   \n",
       "22  0.000905  0.000972  0.000972  ...  0.002005  0.005282       NaN       NaN   \n",
       "23  0.000941  0.000953  0.000975  ...  0.001882  0.002120  0.005352       NaN   \n",
       "24  0.000941  0.000980  0.001026  ...  0.001746  0.001951  0.002308  0.005651   \n",
       "25  0.000970  0.001019  0.001085  ...  0.001651  0.001836  0.001992  0.002436   \n",
       "26  0.000986  0.001057  0.001071  ...  0.001700  0.001735  0.001924  0.002073   \n",
       "27  0.001008  0.001053  0.001077  ...  0.001666  0.001724  0.001825  0.002037   \n",
       "28  0.001036  0.001071  0.001157  ...  0.001659  0.001758  0.001856  0.001909   \n",
       "29  0.001046  0.001099  0.001170  ...  0.001686  0.001732  0.001815  0.001932   \n",
       "30  0.001074  0.001123  0.001184  ...  0.001694  0.001645  0.001811  0.001883   \n",
       "\n",
       "          24        25        26        27        28        29  \n",
       "2        NaN       NaN       NaN       NaN       NaN       NaN  \n",
       "3        NaN       NaN       NaN       NaN       NaN       NaN  \n",
       "4        NaN       NaN       NaN       NaN       NaN       NaN  \n",
       "5        NaN       NaN       NaN       NaN       NaN       NaN  \n",
       "6        NaN       NaN       NaN       NaN       NaN       NaN  \n",
       "7        NaN       NaN       NaN       NaN       NaN       NaN  \n",
       "8        NaN       NaN       NaN       NaN       NaN       NaN  \n",
       "9        NaN       NaN       NaN       NaN       NaN       NaN  \n",
       "10       NaN       NaN       NaN       NaN       NaN       NaN  \n",
       "11       NaN       NaN       NaN       NaN       NaN       NaN  \n",
       "12       NaN       NaN       NaN       NaN       NaN       NaN  \n",
       "13       NaN       NaN       NaN       NaN       NaN       NaN  \n",
       "14       NaN       NaN       NaN       NaN       NaN       NaN  \n",
       "15       NaN       NaN       NaN       NaN       NaN       NaN  \n",
       "16       NaN       NaN       NaN       NaN       NaN       NaN  \n",
       "17       NaN       NaN       NaN       NaN       NaN       NaN  \n",
       "18       NaN       NaN       NaN       NaN       NaN       NaN  \n",
       "19       NaN       NaN       NaN       NaN       NaN       NaN  \n",
       "20       NaN       NaN       NaN       NaN       NaN       NaN  \n",
       "21       NaN       NaN       NaN       NaN       NaN       NaN  \n",
       "22       NaN       NaN       NaN       NaN       NaN       NaN  \n",
       "23       NaN       NaN       NaN       NaN       NaN       NaN  \n",
       "24       NaN       NaN       NaN       NaN       NaN       NaN  \n",
       "25  0.005830       NaN       NaN       NaN       NaN       NaN  \n",
       "26  0.002328  0.005412       NaN       NaN       NaN       NaN  \n",
       "27  0.002154  0.002568  0.005953       NaN       NaN       NaN  \n",
       "28  0.002062  0.002192  0.002583  0.005664       NaN       NaN  \n",
       "29  0.001962  0.002152  0.002342  0.002600  0.005377       NaN  \n",
       "30  0.001933  0.002048  0.002272  0.002356  0.002746  0.005674  \n",
       "\n",
       "[29 rows x 30 columns]"
      ]
     },
     "execution_count": 125,
     "metadata": {},
     "output_type": "execute_result"
    }
   ],
   "source": [
    "dist_2to30 = pd.DataFrame([np.mean(x[3],axis = 0).tolist() for x in iter_from_2_to_30],\n",
    "                         index = [i for i in range(2,31)])\n",
    "dist_2to30"
   ]
  },
  {
   "cell_type": "code",
   "execution_count": 132,
   "metadata": {},
   "outputs": [
    {
     "data": {
      "image/png": "[encoded data removed]",
      "text/plain": [
       "<Figure size 576x504 with 2 Axes>"
      ]
     },
     "metadata": {},
     "output_type": "display_data"
    }
   ],
   "source": [
    "plt.figure(figsize=(8, 7))\n",
    "plt.pcolor(dist_2to30)\n",
    "plt.xticks(np.arange(0.5, len(dist_2to30.columns), 1), dist_2to30.columns)\n",
    "plt.yticks(np.arange(0.5, len(dist_2to30.index), 1), dist_2to30.index)\n",
    "plt.title('Average distance between distribution', fontsize=20)\n",
    "plt.xlabel('Distribution', fontsize=14)\n",
    "plt.ylabel('Number of i', fontsize=14)\n",
    "plt.colorbar()\n",
    "plt.show()"
   ]
  },
  {
   "cell_type": "code",
   "execution_count": 144,
   "metadata": {
    "scrolled": false
   },
   "outputs": [
    {
     "data": {
      "image/png": "[encoded data removed]",
      "text/plain": [
       "<Figure size 576x504 with 2 Axes>"
      ]
     },
     "metadata": {},
     "output_type": "display_data"
    }
   ],
   "source": [
    "corr_distVSaccu = []\n",
    "for iter in iter_from_2_to_30:\n",
    "    X = iter[3]\n",
    "    y = iter[0]\n",
    "    reg = LinearRegression().fit(X, y)\n",
    "    corr_distVSaccu.append(reg.coef_.tolist())\n",
    "\n",
    "corr_distVSaccu = pd.DataFrame(corr_distVSaccu,\n",
    "                         index = [i for i in range(2,31)])\n",
    "plt.figure(figsize=(8, 7))\n",
    "plt.pcolor(corr_distVSaccu)\n",
    "plt.xticks(np.arange(0.5, len(corr_distVSaccu.columns), 1), corr_distVSaccu.columns)\n",
    "plt.yticks(np.arange(0.5, len(corr_distVSaccu.index), 1), corr_distVSaccu.index)\n",
    "plt.title('Average distance between distribution', fontsize=20)\n",
    "plt.xlabel('Distribution', fontsize=14)\n",
    "plt.ylabel('Number of i', fontsize=14)\n",
    "plt.colorbar()\n",
    "plt.show()"
   ]
  },
  {
   "cell_type": "code",
   "execution_count": 145,
   "metadata": {
    "scrolled": false
   },
   "outputs": [
    {
     "data": {
      "text/html": [
       "<div>\n",
       "<style scoped>\n",
       "    .dataframe tbody tr th:only-of-type {\n",
       "        vertical-align: middle;\n",
       "    }\n",
       "\n",
       "    .dataframe tbody tr th {\n",
       "        vertical-align: top;\n",
       "    }\n",
       "\n",
       "    .dataframe thead th {\n",
       "        text-align: right;\n",
       "    }\n",
       "</style>\n",
       "<table border=\"1\" class=\"dataframe\">\n",
       "  <thead>\n",
       "    <tr style=\"text-align: right;\">\n",
       "      <th></th>\n",
       "      <th>0</th>\n",
       "      <th>1</th>\n",
       "      <th>2</th>\n",
       "      <th>3</th>\n",
       "      <th>4</th>\n",
       "      <th>5</th>\n",
       "      <th>6</th>\n",
       "      <th>7</th>\n",
       "      <th>8</th>\n",
       "      <th>9</th>\n",
       "      <th>...</th>\n",
       "      <th>20</th>\n",
       "      <th>21</th>\n",
       "      <th>22</th>\n",
       "      <th>23</th>\n",
       "      <th>24</th>\n",
       "      <th>25</th>\n",
       "      <th>26</th>\n",
       "      <th>27</th>\n",
       "      <th>28</th>\n",
       "      <th>29</th>\n",
       "    </tr>\n",
       "  </thead>\n",
       "  <tbody>\n",
       "    <tr>\n",
       "      <th>2</th>\n",
       "      <td>0.158451</td>\n",
       "      <td>-0.296512</td>\n",
       "      <td>NaN</td>\n",
       "      <td>NaN</td>\n",
       "      <td>NaN</td>\n",
       "      <td>NaN</td>\n",
       "      <td>NaN</td>\n",
       "      <td>NaN</td>\n",
       "      <td>NaN</td>\n",
       "      <td>NaN</td>\n",
       "      <td>...</td>\n",
       "      <td>NaN</td>\n",
       "      <td>NaN</td>\n",
       "      <td>NaN</td>\n",
       "      <td>NaN</td>\n",
       "      <td>NaN</td>\n",
       "      <td>NaN</td>\n",
       "      <td>NaN</td>\n",
       "      <td>NaN</td>\n",
       "      <td>NaN</td>\n",
       "      <td>NaN</td>\n",
       "    </tr>\n",
       "    <tr>\n",
       "      <th>3</th>\n",
       "      <td>0.341749</td>\n",
       "      <td>-1.873716</td>\n",
       "      <td>0.357793</td>\n",
       "      <td>NaN</td>\n",
       "      <td>NaN</td>\n",
       "      <td>NaN</td>\n",
       "      <td>NaN</td>\n",
       "      <td>NaN</td>\n",
       "      <td>NaN</td>\n",
       "      <td>NaN</td>\n",
       "      <td>...</td>\n",
       "      <td>NaN</td>\n",
       "      <td>NaN</td>\n",
       "      <td>NaN</td>\n",
       "      <td>NaN</td>\n",
       "      <td>NaN</td>\n",
       "      <td>NaN</td>\n",
       "      <td>NaN</td>\n",
       "      <td>NaN</td>\n",
       "      <td>NaN</td>\n",
       "      <td>NaN</td>\n",
       "    </tr>\n",
       "    <tr>\n",
       "      <th>4</th>\n",
       "      <td>0.344650</td>\n",
       "      <td>-2.908736</td>\n",
       "      <td>-0.439588</td>\n",
       "      <td>0.016889</td>\n",
       "      <td>NaN</td>\n",
       "      <td>NaN</td>\n",
       "      <td>NaN</td>\n",
       "      <td>NaN</td>\n",
       "      <td>NaN</td>\n",
       "      <td>NaN</td>\n",
       "      <td>...</td>\n",
       "      <td>NaN</td>\n",
       "      <td>NaN</td>\n",
       "      <td>NaN</td>\n",
       "      <td>NaN</td>\n",
       "      <td>NaN</td>\n",
       "      <td>NaN</td>\n",
       "      <td>NaN</td>\n",
       "      <td>NaN</td>\n",
       "      <td>NaN</td>\n",
       "      <td>NaN</td>\n",
       "    </tr>\n",
       "    <tr>\n",
       "      <th>5</th>\n",
       "      <td>0.425907</td>\n",
       "      <td>-8.105143</td>\n",
       "      <td>-0.266538</td>\n",
       "      <td>-2.808374</td>\n",
       "      <td>-0.809576</td>\n",
       "      <td>NaN</td>\n",
       "      <td>NaN</td>\n",
       "      <td>NaN</td>\n",
       "      <td>NaN</td>\n",
       "      <td>NaN</td>\n",
       "      <td>...</td>\n",
       "      <td>NaN</td>\n",
       "      <td>NaN</td>\n",
       "      <td>NaN</td>\n",
       "      <td>NaN</td>\n",
       "      <td>NaN</td>\n",
       "      <td>NaN</td>\n",
       "      <td>NaN</td>\n",
       "      <td>NaN</td>\n",
       "      <td>NaN</td>\n",
       "      <td>NaN</td>\n",
       "    </tr>\n",
       "    <tr>\n",
       "      <th>6</th>\n",
       "      <td>0.392423</td>\n",
       "      <td>-4.476766</td>\n",
       "      <td>-2.094983</td>\n",
       "      <td>-2.024655</td>\n",
       "      <td>-0.732680</td>\n",
       "      <td>-0.155081</td>\n",
       "      <td>NaN</td>\n",
       "      <td>NaN</td>\n",
       "      <td>NaN</td>\n",
       "      <td>NaN</td>\n",
       "      <td>...</td>\n",
       "      <td>NaN</td>\n",
       "      <td>NaN</td>\n",
       "      <td>NaN</td>\n",
       "      <td>NaN</td>\n",
       "      <td>NaN</td>\n",
       "      <td>NaN</td>\n",
       "      <td>NaN</td>\n",
       "      <td>NaN</td>\n",
       "      <td>NaN</td>\n",
       "      <td>NaN</td>\n",
       "    </tr>\n",
       "    <tr>\n",
       "      <th>7</th>\n",
       "      <td>0.352472</td>\n",
       "      <td>-5.469467</td>\n",
       "      <td>-4.960144</td>\n",
       "      <td>0.658026</td>\n",
       "      <td>-3.975135</td>\n",
       "      <td>-0.982508</td>\n",
       "      <td>-0.025602</td>\n",
       "      <td>NaN</td>\n",
       "      <td>NaN</td>\n",
       "      <td>NaN</td>\n",
       "      <td>...</td>\n",
       "      <td>NaN</td>\n",
       "      <td>NaN</td>\n",
       "      <td>NaN</td>\n",
       "      <td>NaN</td>\n",
       "      <td>NaN</td>\n",
       "      <td>NaN</td>\n",
       "      <td>NaN</td>\n",
       "      <td>NaN</td>\n",
       "      <td>NaN</td>\n",
       "      <td>NaN</td>\n",
       "    </tr>\n",
       "    <tr>\n",
       "      <th>8</th>\n",
       "      <td>0.321109</td>\n",
       "      <td>-0.983619</td>\n",
       "      <td>-4.576225</td>\n",
       "      <td>-1.921465</td>\n",
       "      <td>-3.681338</td>\n",
       "      <td>-3.080728</td>\n",
       "      <td>-0.261686</td>\n",
       "      <td>0.130604</td>\n",
       "      <td>NaN</td>\n",
       "      <td>NaN</td>\n",
       "      <td>...</td>\n",
       "      <td>NaN</td>\n",
       "      <td>NaN</td>\n",
       "      <td>NaN</td>\n",
       "      <td>NaN</td>\n",
       "      <td>NaN</td>\n",
       "      <td>NaN</td>\n",
       "      <td>NaN</td>\n",
       "      <td>NaN</td>\n",
       "      <td>NaN</td>\n",
       "      <td>NaN</td>\n",
       "    </tr>\n",
       "    <tr>\n",
       "      <th>9</th>\n",
       "      <td>0.275699</td>\n",
       "      <td>-2.941672</td>\n",
       "      <td>-4.954375</td>\n",
       "      <td>-5.141560</td>\n",
       "      <td>2.057974</td>\n",
       "      <td>-4.464256</td>\n",
       "      <td>2.096983</td>\n",
       "      <td>1.578423</td>\n",
       "      <td>-0.668397</td>\n",
       "      <td>NaN</td>\n",
       "      <td>...</td>\n",
       "      <td>NaN</td>\n",
       "      <td>NaN</td>\n",
       "      <td>NaN</td>\n",
       "      <td>NaN</td>\n",
       "      <td>NaN</td>\n",
       "      <td>NaN</td>\n",
       "      <td>NaN</td>\n",
       "      <td>NaN</td>\n",
       "      <td>NaN</td>\n",
       "      <td>NaN</td>\n",
       "    </tr>\n",
       "    <tr>\n",
       "      <th>10</th>\n",
       "      <td>0.251840</td>\n",
       "      <td>2.546033</td>\n",
       "      <td>1.067747</td>\n",
       "      <td>-4.934994</td>\n",
       "      <td>2.236876</td>\n",
       "      <td>-9.778430</td>\n",
       "      <td>-4.938239</td>\n",
       "      <td>2.887120</td>\n",
       "      <td>2.018525</td>\n",
       "      <td>-0.965750</td>\n",
       "      <td>...</td>\n",
       "      <td>NaN</td>\n",
       "      <td>NaN</td>\n",
       "      <td>NaN</td>\n",
       "      <td>NaN</td>\n",
       "      <td>NaN</td>\n",
       "      <td>NaN</td>\n",
       "      <td>NaN</td>\n",
       "      <td>NaN</td>\n",
       "      <td>NaN</td>\n",
       "      <td>NaN</td>\n",
       "    </tr>\n",
       "    <tr>\n",
       "      <th>11</th>\n",
       "      <td>0.083634</td>\n",
       "      <td>2.836195</td>\n",
       "      <td>-2.150936</td>\n",
       "      <td>4.560756</td>\n",
       "      <td>-1.514105</td>\n",
       "      <td>2.336112</td>\n",
       "      <td>-4.918558</td>\n",
       "      <td>-5.740535</td>\n",
       "      <td>-0.969781</td>\n",
       "      <td>0.021910</td>\n",
       "      <td>...</td>\n",
       "      <td>NaN</td>\n",
       "      <td>NaN</td>\n",
       "      <td>NaN</td>\n",
       "      <td>NaN</td>\n",
       "      <td>NaN</td>\n",
       "      <td>NaN</td>\n",
       "      <td>NaN</td>\n",
       "      <td>NaN</td>\n",
       "      <td>NaN</td>\n",
       "      <td>NaN</td>\n",
       "    </tr>\n",
       "    <tr>\n",
       "      <th>12</th>\n",
       "      <td>0.229232</td>\n",
       "      <td>3.499409</td>\n",
       "      <td>-0.220567</td>\n",
       "      <td>0.014090</td>\n",
       "      <td>-13.009930</td>\n",
       "      <td>-0.982246</td>\n",
       "      <td>-6.788316</td>\n",
       "      <td>-0.960896</td>\n",
       "      <td>4.099021</td>\n",
       "      <td>3.027182</td>\n",
       "      <td>...</td>\n",
       "      <td>NaN</td>\n",
       "      <td>NaN</td>\n",
       "      <td>NaN</td>\n",
       "      <td>NaN</td>\n",
       "      <td>NaN</td>\n",
       "      <td>NaN</td>\n",
       "      <td>NaN</td>\n",
       "      <td>NaN</td>\n",
       "      <td>NaN</td>\n",
       "      <td>NaN</td>\n",
       "    </tr>\n",
       "    <tr>\n",
       "      <th>13</th>\n",
       "      <td>0.074337</td>\n",
       "      <td>5.122549</td>\n",
       "      <td>-11.025045</td>\n",
       "      <td>-4.231664</td>\n",
       "      <td>0.949995</td>\n",
       "      <td>7.178927</td>\n",
       "      <td>0.823032</td>\n",
       "      <td>-8.919932</td>\n",
       "      <td>-10.906332</td>\n",
       "      <td>4.751944</td>\n",
       "      <td>...</td>\n",
       "      <td>NaN</td>\n",
       "      <td>NaN</td>\n",
       "      <td>NaN</td>\n",
       "      <td>NaN</td>\n",
       "      <td>NaN</td>\n",
       "      <td>NaN</td>\n",
       "      <td>NaN</td>\n",
       "      <td>NaN</td>\n",
       "      <td>NaN</td>\n",
       "      <td>NaN</td>\n",
       "    </tr>\n",
       "    <tr>\n",
       "      <th>14</th>\n",
       "      <td>0.083013</td>\n",
       "      <td>-1.141655</td>\n",
       "      <td>-10.970460</td>\n",
       "      <td>-6.908630</td>\n",
       "      <td>10.826603</td>\n",
       "      <td>3.372648</td>\n",
       "      <td>0.670284</td>\n",
       "      <td>-4.518939</td>\n",
       "      <td>-0.951589</td>\n",
       "      <td>-0.846657</td>\n",
       "      <td>...</td>\n",
       "      <td>NaN</td>\n",
       "      <td>NaN</td>\n",
       "      <td>NaN</td>\n",
       "      <td>NaN</td>\n",
       "      <td>NaN</td>\n",
       "      <td>NaN</td>\n",
       "      <td>NaN</td>\n",
       "      <td>NaN</td>\n",
       "      <td>NaN</td>\n",
       "      <td>NaN</td>\n",
       "    </tr>\n",
       "    <tr>\n",
       "      <th>15</th>\n",
       "      <td>0.209885</td>\n",
       "      <td>1.118131</td>\n",
       "      <td>-19.510355</td>\n",
       "      <td>-1.654488</td>\n",
       "      <td>6.315530</td>\n",
       "      <td>-6.620223</td>\n",
       "      <td>6.919949</td>\n",
       "      <td>3.606108</td>\n",
       "      <td>-6.262312</td>\n",
       "      <td>-0.018743</td>\n",
       "      <td>...</td>\n",
       "      <td>NaN</td>\n",
       "      <td>NaN</td>\n",
       "      <td>NaN</td>\n",
       "      <td>NaN</td>\n",
       "      <td>NaN</td>\n",
       "      <td>NaN</td>\n",
       "      <td>NaN</td>\n",
       "      <td>NaN</td>\n",
       "      <td>NaN</td>\n",
       "      <td>NaN</td>\n",
       "    </tr>\n",
       "    <tr>\n",
       "      <th>16</th>\n",
       "      <td>0.204356</td>\n",
       "      <td>-3.351943</td>\n",
       "      <td>-3.293914</td>\n",
       "      <td>5.847346</td>\n",
       "      <td>2.334821</td>\n",
       "      <td>-10.618081</td>\n",
       "      <td>6.524969</td>\n",
       "      <td>5.286956</td>\n",
       "      <td>-3.504344</td>\n",
       "      <td>-2.811232</td>\n",
       "      <td>...</td>\n",
       "      <td>NaN</td>\n",
       "      <td>NaN</td>\n",
       "      <td>NaN</td>\n",
       "      <td>NaN</td>\n",
       "      <td>NaN</td>\n",
       "      <td>NaN</td>\n",
       "      <td>NaN</td>\n",
       "      <td>NaN</td>\n",
       "      <td>NaN</td>\n",
       "      <td>NaN</td>\n",
       "    </tr>\n",
       "    <tr>\n",
       "      <th>17</th>\n",
       "      <td>0.220393</td>\n",
       "      <td>5.099322</td>\n",
       "      <td>-3.786474</td>\n",
       "      <td>3.679065</td>\n",
       "      <td>-6.594723</td>\n",
       "      <td>-0.787960</td>\n",
       "      <td>-7.114007</td>\n",
       "      <td>-7.267869</td>\n",
       "      <td>4.954488</td>\n",
       "      <td>-10.793398</td>\n",
       "      <td>...</td>\n",
       "      <td>NaN</td>\n",
       "      <td>NaN</td>\n",
       "      <td>NaN</td>\n",
       "      <td>NaN</td>\n",
       "      <td>NaN</td>\n",
       "      <td>NaN</td>\n",
       "      <td>NaN</td>\n",
       "      <td>NaN</td>\n",
       "      <td>NaN</td>\n",
       "      <td>NaN</td>\n",
       "    </tr>\n",
       "    <tr>\n",
       "      <th>18</th>\n",
       "      <td>-0.058866</td>\n",
       "      <td>2.114204</td>\n",
       "      <td>-5.627381</td>\n",
       "      <td>2.542166</td>\n",
       "      <td>-11.028854</td>\n",
       "      <td>8.971970</td>\n",
       "      <td>0.868253</td>\n",
       "      <td>5.045661</td>\n",
       "      <td>4.495721</td>\n",
       "      <td>0.915728</td>\n",
       "      <td>...</td>\n",
       "      <td>NaN</td>\n",
       "      <td>NaN</td>\n",
       "      <td>NaN</td>\n",
       "      <td>NaN</td>\n",
       "      <td>NaN</td>\n",
       "      <td>NaN</td>\n",
       "      <td>NaN</td>\n",
       "      <td>NaN</td>\n",
       "      <td>NaN</td>\n",
       "      <td>NaN</td>\n",
       "    </tr>\n",
       "    <tr>\n",
       "      <th>19</th>\n",
       "      <td>-0.041398</td>\n",
       "      <td>5.104718</td>\n",
       "      <td>8.419893</td>\n",
       "      <td>5.088600</td>\n",
       "      <td>-4.939790</td>\n",
       "      <td>2.365898</td>\n",
       "      <td>-1.283296</td>\n",
       "      <td>3.175689</td>\n",
       "      <td>-16.279186</td>\n",
       "      <td>1.453121</td>\n",
       "      <td>...</td>\n",
       "      <td>NaN</td>\n",
       "      <td>NaN</td>\n",
       "      <td>NaN</td>\n",
       "      <td>NaN</td>\n",
       "      <td>NaN</td>\n",
       "      <td>NaN</td>\n",
       "      <td>NaN</td>\n",
       "      <td>NaN</td>\n",
       "      <td>NaN</td>\n",
       "      <td>NaN</td>\n",
       "    </tr>\n",
       "    <tr>\n",
       "      <th>20</th>\n",
       "      <td>0.140790</td>\n",
       "      <td>0.975145</td>\n",
       "      <td>16.964324</td>\n",
       "      <td>-14.232809</td>\n",
       "      <td>0.475127</td>\n",
       "      <td>-1.190280</td>\n",
       "      <td>-7.906330</td>\n",
       "      <td>-0.191215</td>\n",
       "      <td>-8.111156</td>\n",
       "      <td>0.234032</td>\n",
       "      <td>...</td>\n",
       "      <td>NaN</td>\n",
       "      <td>NaN</td>\n",
       "      <td>NaN</td>\n",
       "      <td>NaN</td>\n",
       "      <td>NaN</td>\n",
       "      <td>NaN</td>\n",
       "      <td>NaN</td>\n",
       "      <td>NaN</td>\n",
       "      <td>NaN</td>\n",
       "      <td>NaN</td>\n",
       "    </tr>\n",
       "    <tr>\n",
       "      <th>21</th>\n",
       "      <td>0.161174</td>\n",
       "      <td>-3.950756</td>\n",
       "      <td>11.335782</td>\n",
       "      <td>-8.079631</td>\n",
       "      <td>8.338495</td>\n",
       "      <td>-7.157500</td>\n",
       "      <td>4.270170</td>\n",
       "      <td>-5.027914</td>\n",
       "      <td>4.097709</td>\n",
       "      <td>-4.577031</td>\n",
       "      <td>...</td>\n",
       "      <td>-0.386599</td>\n",
       "      <td>NaN</td>\n",
       "      <td>NaN</td>\n",
       "      <td>NaN</td>\n",
       "      <td>NaN</td>\n",
       "      <td>NaN</td>\n",
       "      <td>NaN</td>\n",
       "      <td>NaN</td>\n",
       "      <td>NaN</td>\n",
       "      <td>NaN</td>\n",
       "    </tr>\n",
       "    <tr>\n",
       "      <th>22</th>\n",
       "      <td>0.132316</td>\n",
       "      <td>2.518679</td>\n",
       "      <td>7.696813</td>\n",
       "      <td>-12.232294</td>\n",
       "      <td>11.748944</td>\n",
       "      <td>-22.348376</td>\n",
       "      <td>-3.619816</td>\n",
       "      <td>-1.851228</td>\n",
       "      <td>2.565554</td>\n",
       "      <td>-14.628074</td>\n",
       "      <td>...</td>\n",
       "      <td>0.490238</td>\n",
       "      <td>-0.274456</td>\n",
       "      <td>NaN</td>\n",
       "      <td>NaN</td>\n",
       "      <td>NaN</td>\n",
       "      <td>NaN</td>\n",
       "      <td>NaN</td>\n",
       "      <td>NaN</td>\n",
       "      <td>NaN</td>\n",
       "      <td>NaN</td>\n",
       "    </tr>\n",
       "    <tr>\n",
       "      <th>23</th>\n",
       "      <td>0.262090</td>\n",
       "      <td>1.171260</td>\n",
       "      <td>-0.505107</td>\n",
       "      <td>-4.762762</td>\n",
       "      <td>10.989838</td>\n",
       "      <td>-5.119665</td>\n",
       "      <td>-2.493946</td>\n",
       "      <td>-5.855780</td>\n",
       "      <td>2.717128</td>\n",
       "      <td>-2.648557</td>\n",
       "      <td>...</td>\n",
       "      <td>0.481892</td>\n",
       "      <td>-1.621183</td>\n",
       "      <td>0.132997</td>\n",
       "      <td>NaN</td>\n",
       "      <td>NaN</td>\n",
       "      <td>NaN</td>\n",
       "      <td>NaN</td>\n",
       "      <td>NaN</td>\n",
       "      <td>NaN</td>\n",
       "      <td>NaN</td>\n",
       "    </tr>\n",
       "    <tr>\n",
       "      <th>24</th>\n",
       "      <td>0.116107</td>\n",
       "      <td>-6.814844</td>\n",
       "      <td>1.694399</td>\n",
       "      <td>0.735488</td>\n",
       "      <td>8.110510</td>\n",
       "      <td>-6.219450</td>\n",
       "      <td>-2.245353</td>\n",
       "      <td>-2.716278</td>\n",
       "      <td>-2.332838</td>\n",
       "      <td>-1.907402</td>\n",
       "      <td>...</td>\n",
       "      <td>4.340281</td>\n",
       "      <td>1.535716</td>\n",
       "      <td>0.461054</td>\n",
       "      <td>0.001745</td>\n",
       "      <td>NaN</td>\n",
       "      <td>NaN</td>\n",
       "      <td>NaN</td>\n",
       "      <td>NaN</td>\n",
       "      <td>NaN</td>\n",
       "      <td>NaN</td>\n",
       "    </tr>\n",
       "    <tr>\n",
       "      <th>25</th>\n",
       "      <td>0.136312</td>\n",
       "      <td>-5.756044</td>\n",
       "      <td>3.475610</td>\n",
       "      <td>1.689087</td>\n",
       "      <td>-5.400796</td>\n",
       "      <td>3.998559</td>\n",
       "      <td>-6.004182</td>\n",
       "      <td>7.638591</td>\n",
       "      <td>-10.860540</td>\n",
       "      <td>-0.385250</td>\n",
       "      <td>...</td>\n",
       "      <td>-3.085871</td>\n",
       "      <td>2.381367</td>\n",
       "      <td>-1.562134</td>\n",
       "      <td>2.253719</td>\n",
       "      <td>-0.820107</td>\n",
       "      <td>NaN</td>\n",
       "      <td>NaN</td>\n",
       "      <td>NaN</td>\n",
       "      <td>NaN</td>\n",
       "      <td>NaN</td>\n",
       "    </tr>\n",
       "    <tr>\n",
       "      <th>26</th>\n",
       "      <td>-0.127943</td>\n",
       "      <td>-5.797173</td>\n",
       "      <td>7.635267</td>\n",
       "      <td>-0.945757</td>\n",
       "      <td>3.298198</td>\n",
       "      <td>4.182451</td>\n",
       "      <td>-11.847469</td>\n",
       "      <td>-6.639834</td>\n",
       "      <td>1.211535</td>\n",
       "      <td>-2.097609</td>\n",
       "      <td>...</td>\n",
       "      <td>3.580435</td>\n",
       "      <td>-1.030744</td>\n",
       "      <td>0.929907</td>\n",
       "      <td>0.689719</td>\n",
       "      <td>-3.040393</td>\n",
       "      <td>0.102660</td>\n",
       "      <td>NaN</td>\n",
       "      <td>NaN</td>\n",
       "      <td>NaN</td>\n",
       "      <td>NaN</td>\n",
       "    </tr>\n",
       "    <tr>\n",
       "      <th>27</th>\n",
       "      <td>-0.093210</td>\n",
       "      <td>-7.412612</td>\n",
       "      <td>0.901191</td>\n",
       "      <td>10.059997</td>\n",
       "      <td>1.941648</td>\n",
       "      <td>3.289511</td>\n",
       "      <td>0.440067</td>\n",
       "      <td>-9.002264</td>\n",
       "      <td>2.115566</td>\n",
       "      <td>0.351728</td>\n",
       "      <td>...</td>\n",
       "      <td>0.395773</td>\n",
       "      <td>1.553939</td>\n",
       "      <td>-1.479260</td>\n",
       "      <td>3.693124</td>\n",
       "      <td>-0.890035</td>\n",
       "      <td>3.474700</td>\n",
       "      <td>-0.715078</td>\n",
       "      <td>NaN</td>\n",
       "      <td>NaN</td>\n",
       "      <td>NaN</td>\n",
       "    </tr>\n",
       "    <tr>\n",
       "      <th>28</th>\n",
       "      <td>0.163094</td>\n",
       "      <td>-0.746842</td>\n",
       "      <td>-3.385963</td>\n",
       "      <td>6.037190</td>\n",
       "      <td>1.844678</td>\n",
       "      <td>-1.149670</td>\n",
       "      <td>-5.238467</td>\n",
       "      <td>-4.432245</td>\n",
       "      <td>1.334128</td>\n",
       "      <td>-4.050710</td>\n",
       "      <td>...</td>\n",
       "      <td>-1.026539</td>\n",
       "      <td>-0.164928</td>\n",
       "      <td>-2.406484</td>\n",
       "      <td>1.126390</td>\n",
       "      <td>2.967143</td>\n",
       "      <td>-0.222472</td>\n",
       "      <td>2.292258</td>\n",
       "      <td>0.162159</td>\n",
       "      <td>NaN</td>\n",
       "      <td>NaN</td>\n",
       "    </tr>\n",
       "    <tr>\n",
       "      <th>29</th>\n",
       "      <td>-0.015957</td>\n",
       "      <td>0.859512</td>\n",
       "      <td>-10.525654</td>\n",
       "      <td>5.813958</td>\n",
       "      <td>1.596286</td>\n",
       "      <td>9.100122</td>\n",
       "      <td>2.863396</td>\n",
       "      <td>-2.168456</td>\n",
       "      <td>-2.795979</td>\n",
       "      <td>-2.636856</td>\n",
       "      <td>...</td>\n",
       "      <td>4.582188</td>\n",
       "      <td>-5.670110</td>\n",
       "      <td>0.684843</td>\n",
       "      <td>2.017377</td>\n",
       "      <td>-1.897519</td>\n",
       "      <td>1.980070</td>\n",
       "      <td>0.386176</td>\n",
       "      <td>1.044005</td>\n",
       "      <td>-0.954508</td>\n",
       "      <td>NaN</td>\n",
       "    </tr>\n",
       "    <tr>\n",
       "      <th>30</th>\n",
       "      <td>0.056032</td>\n",
       "      <td>-0.135929</td>\n",
       "      <td>-1.997790</td>\n",
       "      <td>6.969896</td>\n",
       "      <td>-3.908428</td>\n",
       "      <td>-5.906909</td>\n",
       "      <td>4.257740</td>\n",
       "      <td>-10.716683</td>\n",
       "      <td>-3.701163</td>\n",
       "      <td>-3.235551</td>\n",
       "      <td>...</td>\n",
       "      <td>4.194225</td>\n",
       "      <td>1.062165</td>\n",
       "      <td>-1.592181</td>\n",
       "      <td>3.817082</td>\n",
       "      <td>-5.049418</td>\n",
       "      <td>1.173584</td>\n",
       "      <td>1.898654</td>\n",
       "      <td>-3.342941</td>\n",
       "      <td>3.486587</td>\n",
       "      <td>-0.409898</td>\n",
       "    </tr>\n",
       "  </tbody>\n",
       "</table>\n",
       "<p>29 rows × 30 columns</p>\n",
       "</div>"
      ],
      "text/plain": [
       "          0         1          2          3          4          5          6   \\\n",
       "2   0.158451 -0.296512        NaN        NaN        NaN        NaN        NaN   \n",
       "3   0.341749 -1.873716   0.357793        NaN        NaN        NaN        NaN   \n",
       "4   0.344650 -2.908736  -0.439588   0.016889        NaN        NaN        NaN   \n",
       "5   0.425907 -8.105143  -0.266538  -2.808374  -0.809576        NaN        NaN   \n",
       "6   0.392423 -4.476766  -2.094983  -2.024655  -0.732680  -0.155081        NaN   \n",
       "7   0.352472 -5.469467  -4.960144   0.658026  -3.975135  -0.982508  -0.025602   \n",
       "8   0.321109 -0.983619  -4.576225  -1.921465  -3.681338  -3.080728  -0.261686   \n",
       "9   0.275699 -2.941672  -4.954375  -5.141560   2.057974  -4.464256   2.096983   \n",
       "10  0.251840  2.546033   1.067747  -4.934994   2.236876  -9.778430  -4.938239   \n",
       "11  0.083634  2.836195  -2.150936   4.560756  -1.514105   2.336112  -4.918558   \n",
       "12  0.229232  3.499409  -0.220567   0.014090 -13.009930  -0.982246  -6.788316   \n",
       "13  0.074337  5.122549 -11.025045  -4.231664   0.949995   7.178927   0.823032   \n",
       "14  0.083013 -1.141655 -10.970460  -6.908630  10.826603   3.372648   0.670284   \n",
       "15  0.209885  1.118131 -19.510355  -1.654488   6.315530  -6.620223   6.919949   \n",
       "16  0.204356 -3.351943  -3.293914   5.847346   2.334821 -10.618081   6.524969   \n",
       "17  0.220393  5.099322  -3.786474   3.679065  -6.594723  -0.787960  -7.114007   \n",
       "18 -0.058866  2.114204  -5.627381   2.542166 -11.028854   8.971970   0.868253   \n",
       "19 -0.041398  5.104718   8.419893   5.088600  -4.939790   2.365898  -1.283296   \n",
       "20  0.140790  0.975145  16.964324 -14.232809   0.475127  -1.190280  -7.906330   \n",
       "21  0.161174 -3.950756  11.335782  -8.079631   8.338495  -7.157500   4.270170   \n",
       "22  0.132316  2.518679   7.696813 -12.232294  11.748944 -22.348376  -3.619816   \n",
       "23  0.262090  1.171260  -0.505107  -4.762762  10.989838  -5.119665  -2.493946   \n",
       "24  0.116107 -6.814844   1.694399   0.735488   8.110510  -6.219450  -2.245353   \n",
       "25  0.136312 -5.756044   3.475610   1.689087  -5.400796   3.998559  -6.004182   \n",
       "26 -0.127943 -5.797173   7.635267  -0.945757   3.298198   4.182451 -11.847469   \n",
       "27 -0.093210 -7.412612   0.901191  10.059997   1.941648   3.289511   0.440067   \n",
       "28  0.163094 -0.746842  -3.385963   6.037190   1.844678  -1.149670  -5.238467   \n",
       "29 -0.015957  0.859512 -10.525654   5.813958   1.596286   9.100122   2.863396   \n",
       "30  0.056032 -0.135929  -1.997790   6.969896  -3.908428  -5.906909   4.257740   \n",
       "\n",
       "           7          8          9   ...        20        21        22  \\\n",
       "2         NaN        NaN        NaN  ...       NaN       NaN       NaN   \n",
       "3         NaN        NaN        NaN  ...       NaN       NaN       NaN   \n",
       "4         NaN        NaN        NaN  ...       NaN       NaN       NaN   \n",
       "5         NaN        NaN        NaN  ...       NaN       NaN       NaN   \n",
       "6         NaN        NaN        NaN  ...       NaN       NaN       NaN   \n",
       "7         NaN        NaN        NaN  ...       NaN       NaN       NaN   \n",
       "8    0.130604        NaN        NaN  ...       NaN       NaN       NaN   \n",
       "9    1.578423  -0.668397        NaN  ...       NaN       NaN       NaN   \n",
       "10   2.887120   2.018525  -0.965750  ...       NaN       NaN       NaN   \n",
       "11  -5.740535  -0.969781   0.021910  ...       NaN       NaN       NaN   \n",
       "12  -0.960896   4.099021   3.027182  ...       NaN       NaN       NaN   \n",
       "13  -8.919932 -10.906332   4.751944  ...       NaN       NaN       NaN   \n",
       "14  -4.518939  -0.951589  -0.846657  ...       NaN       NaN       NaN   \n",
       "15   3.606108  -6.262312  -0.018743  ...       NaN       NaN       NaN   \n",
       "16   5.286956  -3.504344  -2.811232  ...       NaN       NaN       NaN   \n",
       "17  -7.267869   4.954488 -10.793398  ...       NaN       NaN       NaN   \n",
       "18   5.045661   4.495721   0.915728  ...       NaN       NaN       NaN   \n",
       "19   3.175689 -16.279186   1.453121  ...       NaN       NaN       NaN   \n",
       "20  -0.191215  -8.111156   0.234032  ...       NaN       NaN       NaN   \n",
       "21  -5.027914   4.097709  -4.577031  ... -0.386599       NaN       NaN   \n",
       "22  -1.851228   2.565554 -14.628074  ...  0.490238 -0.274456       NaN   \n",
       "23  -5.855780   2.717128  -2.648557  ...  0.481892 -1.621183  0.132997   \n",
       "24  -2.716278  -2.332838  -1.907402  ...  4.340281  1.535716  0.461054   \n",
       "25   7.638591 -10.860540  -0.385250  ... -3.085871  2.381367 -1.562134   \n",
       "26  -6.639834   1.211535  -2.097609  ...  3.580435 -1.030744  0.929907   \n",
       "27  -9.002264   2.115566   0.351728  ...  0.395773  1.553939 -1.479260   \n",
       "28  -4.432245   1.334128  -4.050710  ... -1.026539 -0.164928 -2.406484   \n",
       "29  -2.168456  -2.795979  -2.636856  ...  4.582188 -5.670110  0.684843   \n",
       "30 -10.716683  -3.701163  -3.235551  ...  4.194225  1.062165 -1.592181   \n",
       "\n",
       "          23        24        25        26        27        28        29  \n",
       "2        NaN       NaN       NaN       NaN       NaN       NaN       NaN  \n",
       "3        NaN       NaN       NaN       NaN       NaN       NaN       NaN  \n",
       "4        NaN       NaN       NaN       NaN       NaN       NaN       NaN  \n",
       "5        NaN       NaN       NaN       NaN       NaN       NaN       NaN  \n",
       "6        NaN       NaN       NaN       NaN       NaN       NaN       NaN  \n",
       "7        NaN       NaN       NaN       NaN       NaN       NaN       NaN  \n",
       "8        NaN       NaN       NaN       NaN       NaN       NaN       NaN  \n",
       "9        NaN       NaN       NaN       NaN       NaN       NaN       NaN  \n",
       "10       NaN       NaN       NaN       NaN       NaN       NaN       NaN  \n",
       "11       NaN       NaN       NaN       NaN       NaN       NaN       NaN  \n",
       "12       NaN       NaN       NaN       NaN       NaN       NaN       NaN  \n",
       "13       NaN       NaN       NaN       NaN       NaN       NaN       NaN  \n",
       "14       NaN       NaN       NaN       NaN       NaN       NaN       NaN  \n",
       "15       NaN       NaN       NaN       NaN       NaN       NaN       NaN  \n",
       "16       NaN       NaN       NaN       NaN       NaN       NaN       NaN  \n",
       "17       NaN       NaN       NaN       NaN       NaN       NaN       NaN  \n",
       "18       NaN       NaN       NaN       NaN       NaN       NaN       NaN  \n",
       "19       NaN       NaN       NaN       NaN       NaN       NaN       NaN  \n",
       "20       NaN       NaN       NaN       NaN       NaN       NaN       NaN  \n",
       "21       NaN       NaN       NaN       NaN       NaN       NaN       NaN  \n",
       "22       NaN       NaN       NaN       NaN       NaN       NaN       NaN  \n",
       "23       NaN       NaN       NaN       NaN       NaN       NaN       NaN  \n",
       "24  0.001745       NaN       NaN       NaN       NaN       NaN       NaN  \n",
       "25  2.253719 -0.820107       NaN       NaN       NaN       NaN       NaN  \n",
       "26  0.689719 -3.040393  0.102660       NaN       NaN       NaN       NaN  \n",
       "27  3.693124 -0.890035  3.474700 -0.715078       NaN       NaN       NaN  \n",
       "28  1.126390  2.967143 -0.222472  2.292258  0.162159       NaN       NaN  \n",
       "29  2.017377 -1.897519  1.980070  0.386176  1.044005 -0.954508       NaN  \n",
       "30  3.817082 -5.049418  1.173584  1.898654 -3.342941  3.486587 -0.409898  \n",
       "\n",
       "[29 rows x 30 columns]"
      ]
     },
     "execution_count": 145,
     "metadata": {},
     "output_type": "execute_result"
    }
   ],
   "source": [
    "corr_distVSaccu"
   ]
  },
  {
   "cell_type": "code",
   "execution_count": null,
   "metadata": {},
   "outputs": [],
   "source": []
  },
  {
   "cell_type": "code",
   "execution_count": 147,
   "metadata": {},
   "outputs": [
    {
     "name": "stdout",
     "output_type": "stream",
     "text": [
      "train.shape:  (2000,)\n",
      "test.shape:  (2000,)\n",
      "histogram of distance:\n"
     ]
    },
    {
     "data": {
      "image/png": "[encoded data removed]",
      "text/plain": [
       "<Figure size 432x288 with 1 Axes>"
      ]
     },
     "metadata": {},
     "output_type": "display_data"
    },
    {
     "data": {
      "text/plain": [
       "(0.8035,\n",
       " 0.798,\n",
       " [0.01449650526046753,\n",
       "  0.0006438493728637695,\n",
       "  0.0005871057510375977,\n",
       "  0.002245306968688965,\n",
       "  0.005762040615081787])"
      ]
     },
     "execution_count": 147,
     "metadata": {},
     "output_type": "execute_result"
    }
   ],
   "source": [
    "S2ti(all_data[5][0], all_data[5][1],all_data[11][0], all_data[11][1], 5, eval_bool = True, dist_eval = True)"
   ]
  },
  {
   "cell_type": "code",
   "execution_count": 151,
   "metadata": {},
   "outputs": [
    {
     "data": {
      "text/plain": [
       "0.8045"
      ]
     },
     "execution_count": 151,
     "metadata": {},
     "output_type": "execute_result"
    }
   ],
   "source": [
    "S2t1(all_data[5][0], all_data[5][1],all_data[11][0], all_data[11][1], 5)"
   ]
  },
  {
   "cell_type": "code",
   "execution_count": 161,
   "metadata": {},
   "outputs": [],
   "source": [
    "temp = all_combination_test(S2t1,2, dist_eval = False)"
   ]
  },
  {
   "cell_type": "code",
   "execution_count": 166,
   "metadata": {},
   "outputs": [
    {
     "data": {
      "text/plain": [
       "[0.0040000000000000036,\n",
       " 0.0050000000000000044,\n",
       " 0.00550000000000006,\n",
       " 0.0050000000000000044,\n",
       " 0.0014999999999999458,\n",
       " 0.00550000000000006,\n",
       " 0.007000000000000006,\n",
       " 0.008499999999999952,\n",
       " 0.00990099009900991,\n",
       " 0.0020000000000000018,\n",
       " 0.009500000000000064,\n",
       " 0.011500000000000066,\n",
       " 0.0020000000000000018,\n",
       " 0.000500000000000056,\n",
       " 0.0010000000000000009,\n",
       " -0.0040000000000000036,\n",
       " 0.0020000000000000018,\n",
       " -0.0004999999999999449,\n",
       " 0.0010000000000000009,\n",
       " 0.006000000000000005,\n",
       " 0.0033003300330033403,\n",
       " 0.007000000000000006,\n",
       " 0.0030000000000000027,\n",
       " 0.0020000000000000018,\n",
       " 0.0,\n",
       " 0.0030000000000000027,\n",
       " -0.0014999999999999458,\n",
       " 0.0004999999999999449,\n",
       " 0.0,\n",
       " 0.0035000000000000586,\n",
       " 0.0015000000000000568,\n",
       " 0.0030000000000000027,\n",
       " 0.0066006600660065695,\n",
       " 0.0040000000000000036,\n",
       " 0.0034999999999999476,\n",
       " 0.0024999999999999467,\n",
       " 0.0030000000000000027,\n",
       " 0.005499999999999949,\n",
       " 0.0004999999999999449,\n",
       " 0.0024999999999999467,\n",
       " 0.0015000000000000568,\n",
       " 0.0050000000000000044,\n",
       " -0.0010000000000000009,\n",
       " 0.000500000000000056,\n",
       " -0.004950495049504955,\n",
       " 0.0010000000000000009,\n",
       " -0.0010000000000000009,\n",
       " 0.0004999999999999449,\n",
       " 0.0015000000000000568,\n",
       " 0.0020000000000000018,\n",
       " -0.0015000000000000568,\n",
       " 0.0014999999999999458,\n",
       " 0.0030000000000000027,\n",
       " 0.00550000000000006,\n",
       " 0.0020000000000000018,\n",
       " 0.0020000000000000018,\n",
       " 0.0,\n",
       " -0.0014999999999999458,\n",
       " 0.0025000000000000577,\n",
       " 0.0040000000000000036,\n",
       " -0.0034999999999999476,\n",
       " 0.0040000000000000036,\n",
       " 0.0,\n",
       " 0.006500000000000061,\n",
       " -0.008500000000000063,\n",
       " 0.0010000000000000009,\n",
       " -0.0004999999999999449,\n",
       " 0.0044999999999999485,\n",
       " -0.008250825082508184,\n",
       " 0.0030000000000000027,\n",
       " -0.0014999999999999458,\n",
       " 0.0040000000000000036,\n",
       " -0.0014999999999999458,\n",
       " 0.006000000000000005,\n",
       " 0.0024999999999999467,\n",
       " 0.0020000000000000018,\n",
       " 0.0040000000000000036,\n",
       " 0.0024999999999999467,\n",
       " 0.0045000000000000595,\n",
       " 0.0015000000000000568,\n",
       " 0.0016501650165016146,\n",
       " 0.007000000000000006,\n",
       " 0.000500000000000056,\n",
       " 0.005499999999999949,\n",
       " -0.0024999999999999467,\n",
       " 0.0044999999999999485,\n",
       " 0.0,\n",
       " -0.0014999999999999458,\n",
       " -0.000500000000000056,\n",
       " 0.0025000000000000577,\n",
       " 0.0,\n",
       " 0.0015000000000000568,\n",
       " 0.0,\n",
       " 0.0010000000000000009,\n",
       " -0.0024999999999999467,\n",
       " 0.0014999999999999458,\n",
       " 0.0020000000000000018,\n",
       " 0.0010000000000000009,\n",
       " -0.006000000000000005,\n",
       " -0.000500000000000056,\n",
       " -0.0034999999999999476,\n",
       " 0.009499999999999953,\n",
       " -0.0004999999999999449,\n",
       " -0.0004999999999999449,\n",
       " -0.0033003300330032292,\n",
       " 0.008000000000000007,\n",
       " 0.00550000000000006,\n",
       " 0.0004999999999999449,\n",
       " -0.0045000000000000595,\n",
       " -0.0004999999999999449,\n",
       " 0.00550000000000006,\n",
       " 0.0040000000000000036,\n",
       " 0.0010000000000000009,\n",
       " 0.008000000000000007,\n",
       " 0.00550000000000006,\n",
       " 0.0014999999999999458,\n",
       " 0.0010000000000000009,\n",
       " 0.0010000000000000009,\n",
       " -0.0045000000000000595,\n",
       " 0.0050000000000000044,\n",
       " 0.000500000000000056,\n",
       " -0.0030000000000000027,\n",
       " 0.005499999999999949,\n",
       " 0.0040000000000000036,\n",
       " 0.0010000000000000009,\n",
       " -0.0010000000000000009,\n",
       " 0.00550000000000006,\n",
       " 0.00550000000000006,\n",
       " 0.0045000000000000595,\n",
       " -0.0016501650165016146,\n",
       " 0.0020000000000000018,\n",
       " 0.0010000000000000009,\n",
       " -0.0045000000000000595,\n",
       " 0.0024999999999999467,\n",
       " 0.0045000000000000595,\n",
       " -0.0030000000000000027,\n",
       " 0.0030000000000000027,\n",
       " -0.0014999999999999458,\n",
       " 0.0010000000000000009,\n",
       " 0.0,\n",
       " 0.00550000000000006,\n",
       " 0.0,\n",
       " 0.0045000000000000595,\n",
       " 0.0015000000000000568,\n",
       " 0.0040000000000000036,\n",
       " 0.0034999999999999476,\n",
       " 0.0040000000000000036,\n",
       " 0.0015000000000000568,\n",
       " -0.0010000000000000009,\n",
       " 0.0024999999999999467,\n",
       " -0.0014999999999999458,\n",
       " 0.000500000000000056,\n",
       " 0.0014999999999999458,\n",
       " -0.0016501650165016146,\n",
       " -0.0020000000000000018,\n",
       " -0.005499999999999949]"
      ]
     },
     "execution_count": 166,
     "metadata": {},
     "output_type": "execute_result"
    }
   ],
   "source": [
    "temp[0]"
   ]
  },
  {
   "cell_type": "code",
   "execution_count": 167,
   "metadata": {},
   "outputs": [
    {
     "data": {
      "application/javascript": [
       "$(document).ready(\n",
       "    function() {\n",
       "        function appendUniqueDiv(){\n",
       "            // append a div with our uuid so we can check that it's already\n",
       "            // been sent and avoid duplicates on page reload\n",
       "            var notifiedDiv = document.createElement(\"div\")\n",
       "            notifiedDiv.id = \"97bb6372-fe82-44c5-a0af-1ef7a3284b99\"\n",
       "            element.append(notifiedDiv)\n",
       "        }\n",
       "\n",
       "        // only send notifications if the pageload is complete; this will\n",
       "        // help stop extra notifications when a saved notebook is loaded,\n",
       "        // which during testing gives us state \"interactive\", not \"complete\"\n",
       "        if (document.readyState === 'complete') {\n",
       "            // check for the div that signifies that the notification\n",
       "            // was already sent\n",
       "            if (document.getElementById(\"97bb6372-fe82-44c5-a0af-1ef7a3284b99\") === null) {\n",
       "                var notificationPayload = {\"requireInteraction\": false, \"icon\": \"/static/base/images/favicon.ico\", \"body\": \"Cell execution has finished!\"};\n",
       "                if (Notification.permission !== 'denied') {\n",
       "                    if (Notification.permission !== 'granted') { \n",
       "                        Notification.requestPermission(function (permission) {\n",
       "                            if(!('permission' in Notification)) {\n",
       "                                Notification.permission = permission\n",
       "                            }\n",
       "                        })\n",
       "                    }\n",
       "                    if (Notification.permission === 'granted') {\n",
       "                    var notification = new Notification(\"Jupyter Notebook\", notificationPayload)\n",
       "                    appendUniqueDiv()\n",
       "                    notification.onclick = function () {\n",
       "                        window.focus();\n",
       "                        this.close();\n",
       "                        };\n",
       "                    } \n",
       "                }     \n",
       "            }\n",
       "        }\n",
       "    }\n",
       ")\n"
      ],
      "text/plain": [
       "<IPython.core.display.Javascript object>"
      ]
     },
     "metadata": {},
     "output_type": "display_data"
    }
   ],
   "source": [
    "%%notify\n",
    "St1_from_2_to_30 = [all_combination_test(S2t1,i, dist_eval = False) for i in range(2,31)]"
   ]
  },
  {
   "cell_type": "code",
   "execution_count": 168,
   "metadata": {
    "scrolled": true
   },
   "outputs": [
    {
     "data": {
      "text/plain": [
       "[Text(0,0,'2'),\n",
       " Text(0,0,'3'),\n",
       " Text(0,0,'4'),\n",
       " Text(0,0,'5'),\n",
       " Text(0,0,'6'),\n",
       " Text(0,0,'7'),\n",
       " Text(0,0,'8'),\n",
       " Text(0,0,'9'),\n",
       " Text(0,0,'10'),\n",
       " Text(0,0,'11'),\n",
       " Text(0,0,'12'),\n",
       " Text(0,0,'13'),\n",
       " Text(0,0,'14'),\n",
       " Text(0,0,'15'),\n",
       " Text(0,0,'16'),\n",
       " Text(0,0,'17'),\n",
       " Text(0,0,'18'),\n",
       " Text(0,0,'19'),\n",
       " Text(0,0,'20'),\n",
       " Text(0,0,'21'),\n",
       " Text(0,0,'22'),\n",
       " Text(0,0,'23'),\n",
       " Text(0,0,'24'),\n",
       " Text(0,0,'25'),\n",
       " Text(0,0,'26'),\n",
       " Text(0,0,'27'),\n",
       " Text(0,0,'28'),\n",
       " Text(0,0,'29'),\n",
       " Text(0,0,'30')]"
      ]
     },
     "execution_count": 168,
     "metadata": {},
     "output_type": "execute_result"
    },
    {
     "data": {
      "image/png": "[encoded data removed]",
      "text/plain": [
       "<Figure size 432x288 with 1 Axes>"
      ]
     },
     "metadata": {},
     "output_type": "display_data"
    }
   ],
   "source": [
    "fig, ax = plt.subplots()\n",
    "ax.boxplot([x[0] for x in St1_from_2_to_30])\n",
    "ax.set_xticklabels([i for i in range(2,31)])"
   ]
  },
  {
   "cell_type": "code",
   "execution_count": 169,
   "metadata": {
    "scrolled": true
   },
   "outputs": [
    {
     "data": {
      "text/plain": [
       "[<matplotlib.lines.Line2D at 0x7f7fe1698780>]"
      ]
     },
     "execution_count": 169,
     "metadata": {},
     "output_type": "execute_result"
    },
    {
     "data": {
      "image/png": "[encoded data removed]",
      "text/plain": [
       "<Figure size 432x288 with 1 Axes>"
      ]
     },
     "metadata": {},
     "output_type": "display_data"
    }
   ],
   "source": [
    "x = np.array([i for i in range(2,31)])\n",
    "y = np.array([np.mean(x[0]) for x in St1_from_2_to_30])\n",
    "plt.plot(x,y)\n",
    "plt.plot(x,y,'o')\n",
    "m, b = np.polyfit(x, y, 1)\n",
    "plt.plot(x, m*x + b)"
   ]
  },
  {
   "cell_type": "code",
   "execution_count": 172,
   "metadata": {},
   "outputs": [],
   "source": [
    "self_train_results = all_combination_test(self_train, 1, dist_eval = True)"
   ]
  },
  {
   "cell_type": "code",
   "execution_count": 183,
   "metadata": {},
   "outputs": [
    {
     "data": {
      "text/plain": [
       "0.0007048108657019597"
      ]
     },
     "execution_count": 183,
     "metadata": {},
     "output_type": "execute_result"
    }
   ],
   "source": [
    "np.mean(self_train_results[0])"
   ]
  },
  {
   "cell_type": "code",
   "execution_count": 182,
   "metadata": {},
   "outputs": [
    {
     "data": {
      "image/png": "[encoded data removed]",
      "text/plain": [
       "<Figure size 432x288 with 1 Axes>"
      ]
     },
     "metadata": {},
     "output_type": "display_data"
    }
   ],
   "source": [
    "plt.boxplot(self_train_results[0],vert=False)\n",
    "plt.show()"
   ]
  },
  {
   "cell_type": "code",
   "execution_count": 185,
   "metadata": {},
   "outputs": [
    {
     "data": {
      "image/png": "[encoded data removed]",
      "text/plain": [
       "<Figure size 432x288 with 1 Axes>"
      ]
     },
     "metadata": {},
     "output_type": "display_data"
    }
   ],
   "source": [
    "bins = 50\n",
    "plt.hist(self_train_results[1], bins, alpha=0.5, label='S2T')\n",
    "plt.hist(self_train_results[2], bins, alpha=0.5, label='self')\n",
    "plt.legend(loc='upper right')\n",
    "plt.show()"
   ]
  },
  {
   "cell_type": "code",
   "execution_count": 187,
   "metadata": {},
   "outputs": [
    {
     "data": {
      "text/plain": [
       "[<matplotlib.lines.Line2D at 0x7f7fe15a4828>]"
      ]
     },
     "execution_count": 187,
     "metadata": {},
     "output_type": "execute_result"
    },
    {
     "data": {
      "image/png": "[encoded data removed]",
      "text/plain": [
       "<Figure size 432x288 with 1 Axes>"
      ]
     },
     "metadata": {},
     "output_type": "display_data"
    }
   ],
   "source": [
    "x = np.array(self_train_results[3])\n",
    "y = np.array(self_train_results[0])\n",
    "plt.plot(x,y,'o')\n",
    "m, b = np.polyfit(x, y, 1)\n",
    "plt.plot(x, m*x + b)"
   ]
  }
 ],
 "metadata": {
  "colab": {
   "collapsed_sections": [],
   "machine_shape": "hm",
   "name": "CIS620_project2_amazon.ipynb",
   "provenance": []
  },
  "kernelspec": {
   "display_name": "Python 3",
   "language": "python",
   "name": "python3"
  },
  "language_info": {
   "codemirror_mode": {
    "name": "ipython",
    "version": 3
   },
   "file_extension": ".py",
   "mimetype": "text/x-python",
   "name": "python",
   "nbconvert_exporter": "python",
   "pygments_lexer": "ipython3",
   "version": "3.6.7"
  },
  "widgets": {
   "application/vnd.jupyter.widget-state+json": {
    "10d22ab733144da682f7ab0303298003": {
     "model_module": "@jupyter-widgets/base",
     "model_name": "LayoutModel",
     "state": {
      "_model_module": "@jupyter-widgets/base",
      "_model_module_version": "1.2.0",
      "_model_name": "LayoutModel",
      "_view_count": null,
      "_view_module": "@jupyter-widgets/base",
      "_view_module_version": "1.2.0",
      "_view_name": "LayoutView",
      "align_content": null,
      "align_items": null,
      "align_self": null,
      "border": null,
      "bottom": null,
      "display": null,
      "flex": null,
      "flex_flow": null,
      "grid_area": null,
      "grid_auto_columns": null,
      "grid_auto_flow": null,
      "grid_auto_rows": null,
      "grid_column": null,
      "grid_gap": null,
      "grid_row": null,
      "grid_template_areas": null,
      "grid_template_columns": null,
      "grid_template_rows": null,
      "height": null,
      "justify_content": null,
      "justify_items": null,
      "left": null,
      "margin": null,
      "max_height": null,
      "max_width": null,
      "min_height": null,
      "min_width": null,
      "object_fit": null,
      "object_position": null,
      "order": null,
      "overflow": null,
      "overflow_x": null,
      "overflow_y": null,
      "padding": null,
      "right": null,
      "top": null,
      "visibility": null,
      "width": null
     }
    },
    "15c11ffc0bbf4feeba80a58aed0baa6f": {
     "model_module": "@jupyter-widgets/controls",
     "model_name": "ProgressStyleModel",
     "state": {
      "_model_module": "@jupyter-widgets/controls",
      "_model_module_version": "1.5.0",
      "_model_name": "ProgressStyleModel",
      "_view_count": null,
      "_view_module": "@jupyter-widgets/base",
      "_view_module_version": "1.2.0",
      "_view_name": "StyleView",
      "bar_color": null,
      "description_width": "initial"
     }
    },
    "160dbb7885e04b1986563586f8600473": {
     "model_module": "@jupyter-widgets/base",
     "model_name": "LayoutModel",
     "state": {
      "_model_module": "@jupyter-widgets/base",
      "_model_module_version": "1.2.0",
      "_model_name": "LayoutModel",
      "_view_count": null,
      "_view_module": "@jupyter-widgets/base",
      "_view_module_version": "1.2.0",
      "_view_name": "LayoutView",
      "align_content": null,
      "align_items": null,
      "align_self": null,
      "border": null,
      "bottom": null,
      "display": null,
      "flex": null,
      "flex_flow": null,
      "grid_area": null,
      "grid_auto_columns": null,
      "grid_auto_flow": null,
      "grid_auto_rows": null,
      "grid_column": null,
      "grid_gap": null,
      "grid_row": null,
      "grid_template_areas": null,
      "grid_template_columns": null,
      "grid_template_rows": null,
      "height": null,
      "justify_content": null,
      "justify_items": null,
      "left": null,
      "margin": null,
      "max_height": null,
      "max_width": null,
      "min_height": null,
      "min_width": null,
      "object_fit": null,
      "object_position": null,
      "order": null,
      "overflow": null,
      "overflow_x": null,
      "overflow_y": null,
      "padding": null,
      "right": null,
      "top": null,
      "visibility": null,
      "width": null
     }
    },
    "1635d7855dab4bbf9ac116a71a7a59d8": {
     "model_module": "@jupyter-widgets/base",
     "model_name": "LayoutModel",
     "state": {
      "_model_module": "@jupyter-widgets/base",
      "_model_module_version": "1.2.0",
      "_model_name": "LayoutModel",
      "_view_count": null,
      "_view_module": "@jupyter-widgets/base",
      "_view_module_version": "1.2.0",
      "_view_name": "LayoutView",
      "align_content": null,
      "align_items": null,
      "align_self": null,
      "border": null,
      "bottom": null,
      "display": null,
      "flex": null,
      "flex_flow": null,
      "grid_area": null,
      "grid_auto_columns": null,
      "grid_auto_flow": null,
      "grid_auto_rows": null,
      "grid_column": null,
      "grid_gap": null,
      "grid_row": null,
      "grid_template_areas": null,
      "grid_template_columns": null,
      "grid_template_rows": null,
      "height": null,
      "justify_content": null,
      "justify_items": null,
      "left": null,
      "margin": null,
      "max_height": null,
      "max_width": null,
      "min_height": null,
      "min_width": null,
      "object_fit": null,
      "object_position": null,
      "order": null,
      "overflow": null,
      "overflow_x": null,
      "overflow_y": null,
      "padding": null,
      "right": null,
      "top": null,
      "visibility": null,
      "width": null
     }
    },
    "1af911180bfe47679c0fafd0b7612d5c": {
     "model_module": "@jupyter-widgets/controls",
     "model_name": "ProgressStyleModel",
     "state": {
      "_model_module": "@jupyter-widgets/controls",
      "_model_module_version": "1.5.0",
      "_model_name": "ProgressStyleModel",
      "_view_count": null,
      "_view_module": "@jupyter-widgets/base",
      "_view_module_version": "1.2.0",
      "_view_name": "StyleView",
      "bar_color": null,
      "description_width": "initial"
     }
    },
    "241b3242f8d143269e083c1b08ab9cfc": {
     "model_module": "@jupyter-widgets/base",
     "model_name": "LayoutModel",
     "state": {
      "_model_module": "@jupyter-widgets/base",
      "_model_module_version": "1.2.0",
      "_model_name": "LayoutModel",
      "_view_count": null,
      "_view_module": "@jupyter-widgets/base",
      "_view_module_version": "1.2.0",
      "_view_name": "LayoutView",
      "align_content": null,
      "align_items": null,
      "align_self": null,
      "border": null,
      "bottom": null,
      "display": null,
      "flex": null,
      "flex_flow": null,
      "grid_area": null,
      "grid_auto_columns": null,
      "grid_auto_flow": null,
      "grid_auto_rows": null,
      "grid_column": null,
      "grid_gap": null,
      "grid_row": null,
      "grid_template_areas": null,
      "grid_template_columns": null,
      "grid_template_rows": null,
      "height": null,
      "justify_content": null,
      "justify_items": null,
      "left": null,
      "margin": null,
      "max_height": null,
      "max_width": null,
      "min_height": null,
      "min_width": null,
      "object_fit": null,
      "object_position": null,
      "order": null,
      "overflow": null,
      "overflow_x": null,
      "overflow_y": null,
      "padding": null,
      "right": null,
      "top": null,
      "visibility": null,
      "width": null
     }
    },
    "2a490fcf337a42a888f3df041a5d54dc": {
     "model_module": "@jupyter-widgets/base",
     "model_name": "LayoutModel",
     "state": {
      "_model_module": "@jupyter-widgets/base",
      "_model_module_version": "1.2.0",
      "_model_name": "LayoutModel",
      "_view_count": null,
      "_view_module": "@jupyter-widgets/base",
      "_view_module_version": "1.2.0",
      "_view_name": "LayoutView",
      "align_content": null,
      "align_items": null,
      "align_self": null,
      "border": null,
      "bottom": null,
      "display": null,
      "flex": null,
      "flex_flow": null,
      "grid_area": null,
      "grid_auto_columns": null,
      "grid_auto_flow": null,
      "grid_auto_rows": null,
      "grid_column": null,
      "grid_gap": null,
      "grid_row": null,
      "grid_template_areas": null,
      "grid_template_columns": null,
      "grid_template_rows": null,
      "height": null,
      "justify_content": null,
      "justify_items": null,
      "left": null,
      "margin": null,
      "max_height": null,
      "max_width": null,
      "min_height": null,
      "min_width": null,
      "object_fit": null,
      "object_position": null,
      "order": null,
      "overflow": null,
      "overflow_x": null,
      "overflow_y": null,
      "padding": null,
      "right": null,
      "top": null,
      "visibility": null,
      "width": null
     }
    },
    "3d42c1991a1242f49df5caf04474fe35": {
     "model_module": "@jupyter-widgets/controls",
     "model_name": "HTMLModel",
     "state": {
      "_dom_classes": [],
      "_model_module": "@jupyter-widgets/controls",
      "_model_module_version": "1.5.0",
      "_model_name": "HTMLModel",
      "_view_count": null,
      "_view_module": "@jupyter-widgets/controls",
      "_view_module_version": "1.5.0",
      "_view_name": "HTMLView",
      "description": "",
      "description_tooltip": null,
      "layout": "IPY_MODEL_2a490fcf337a42a888f3df041a5d54dc",
      "placeholder": "​",
      "style": "IPY_MODEL_68481ce699f5403cb5333561908059eb",
      "value": " 232k/232k [00:00&lt;00:00, 951kB/s]"
     }
    },
    "3decc831134d41909a78c35c2609654d": {
     "model_module": "@jupyter-widgets/base",
     "model_name": "LayoutModel",
     "state": {
      "_model_module": "@jupyter-widgets/base",
      "_model_module_version": "1.2.0",
      "_model_name": "LayoutModel",
      "_view_count": null,
      "_view_module": "@jupyter-widgets/base",
      "_view_module_version": "1.2.0",
      "_view_name": "LayoutView",
      "align_content": null,
      "align_items": null,
      "align_self": null,
      "border": null,
      "bottom": null,
      "display": null,
      "flex": null,
      "flex_flow": null,
      "grid_area": null,
      "grid_auto_columns": null,
      "grid_auto_flow": null,
      "grid_auto_rows": null,
      "grid_column": null,
      "grid_gap": null,
      "grid_row": null,
      "grid_template_areas": null,
      "grid_template_columns": null,
      "grid_template_rows": null,
      "height": null,
      "justify_content": null,
      "justify_items": null,
      "left": null,
      "margin": null,
      "max_height": null,
      "max_width": null,
      "min_height": null,
      "min_width": null,
      "object_fit": null,
      "object_position": null,
      "order": null,
      "overflow": null,
      "overflow_x": null,
      "overflow_y": null,
      "padding": null,
      "right": null,
      "top": null,
      "visibility": null,
      "width": null
     }
    },
    "407c0b5ea9c048d883c8299701e24177": {
     "model_module": "@jupyter-widgets/controls",
     "model_name": "FloatProgressModel",
     "state": {
      "_dom_classes": [],
      "_model_module": "@jupyter-widgets/controls",
      "_model_module_version": "1.5.0",
      "_model_name": "FloatProgressModel",
      "_view_count": null,
      "_view_module": "@jupyter-widgets/controls",
      "_view_module_version": "1.5.0",
      "_view_name": "ProgressView",
      "bar_style": "success",
      "description": "Downloading: 100%",
      "description_tooltip": null,
      "layout": "IPY_MODEL_9a788a61d55e43bcbfeb73e41a024932",
      "max": 442,
      "min": 0,
      "orientation": "horizontal",
      "style": "IPY_MODEL_85f1547f69864fffa628bd7820b876c2",
      "value": 442
     }
    },
    "45a55516cdc445a7a51aea15337b74b4": {
     "model_module": "@jupyter-widgets/controls",
     "model_name": "HTMLModel",
     "state": {
      "_dom_classes": [],
      "_model_module": "@jupyter-widgets/controls",
      "_model_module_version": "1.5.0",
      "_model_name": "HTMLModel",
      "_view_count": null,
      "_view_module": "@jupyter-widgets/controls",
      "_view_module_version": "1.5.0",
      "_view_name": "HTMLView",
      "description": "",
      "description_tooltip": null,
      "layout": "IPY_MODEL_46096a1caa044c6cb43cf40524d1ee10",
      "placeholder": "​",
      "style": "IPY_MODEL_5cbf4f24fb034cfebe819656d3679730",
      "value": " 466k/466k [00:00&lt;00:00, 4.01MB/s]"
     }
    },
    "46096a1caa044c6cb43cf40524d1ee10": {
     "model_module": "@jupyter-widgets/base",
     "model_name": "LayoutModel",
     "state": {
      "_model_module": "@jupyter-widgets/base",
      "_model_module_version": "1.2.0",
      "_model_name": "LayoutModel",
      "_view_count": null,
      "_view_module": "@jupyter-widgets/base",
      "_view_module_version": "1.2.0",
      "_view_name": "LayoutView",
      "align_content": null,
      "align_items": null,
      "align_self": null,
      "border": null,
      "bottom": null,
      "display": null,
      "flex": null,
      "flex_flow": null,
      "grid_area": null,
      "grid_auto_columns": null,
      "grid_auto_flow": null,
      "grid_auto_rows": null,
      "grid_column": null,
      "grid_gap": null,
      "grid_row": null,
      "grid_template_areas": null,
      "grid_template_columns": null,
      "grid_template_rows": null,
      "height": null,
      "justify_content": null,
      "justify_items": null,
      "left": null,
      "margin": null,
      "max_height": null,
      "max_width": null,
      "min_height": null,
      "min_width": null,
      "object_fit": null,
      "object_position": null,
      "order": null,
      "overflow": null,
      "overflow_x": null,
      "overflow_y": null,
      "padding": null,
      "right": null,
      "top": null,
      "visibility": null,
      "width": null
     }
    },
    "4af0c1c67b8e459aa195d21e70669158": {
     "model_module": "@jupyter-widgets/controls",
     "model_name": "FloatProgressModel",
     "state": {
      "_dom_classes": [],
      "_model_module": "@jupyter-widgets/controls",
      "_model_module_version": "1.5.0",
      "_model_name": "FloatProgressModel",
      "_view_count": null,
      "_view_module": "@jupyter-widgets/controls",
      "_view_module_version": "1.5.0",
      "_view_name": "ProgressView",
      "bar_style": "success",
      "description": "Downloading: 100%",
      "description_tooltip": null,
      "layout": "IPY_MODEL_b70b7dfbcd0c4a50bfe45ff970a80558",
      "max": 231508,
      "min": 0,
      "orientation": "horizontal",
      "style": "IPY_MODEL_1af911180bfe47679c0fafd0b7612d5c",
      "value": 231508
     }
    },
    "5cbf4f24fb034cfebe819656d3679730": {
     "model_module": "@jupyter-widgets/controls",
     "model_name": "DescriptionStyleModel",
     "state": {
      "_model_module": "@jupyter-widgets/controls",
      "_model_module_version": "1.5.0",
      "_model_name": "DescriptionStyleModel",
      "_view_count": null,
      "_view_module": "@jupyter-widgets/base",
      "_view_module_version": "1.2.0",
      "_view_name": "StyleView",
      "description_width": ""
     }
    },
    "5d7f8ed9692d4e1692ce96e6c488367c": {
     "model_module": "@jupyter-widgets/base",
     "model_name": "LayoutModel",
     "state": {
      "_model_module": "@jupyter-widgets/base",
      "_model_module_version": "1.2.0",
      "_model_name": "LayoutModel",
      "_view_count": null,
      "_view_module": "@jupyter-widgets/base",
      "_view_module_version": "1.2.0",
      "_view_name": "LayoutView",
      "align_content": null,
      "align_items": null,
      "align_self": null,
      "border": null,
      "bottom": null,
      "display": null,
      "flex": null,
      "flex_flow": null,
      "grid_area": null,
      "grid_auto_columns": null,
      "grid_auto_flow": null,
      "grid_auto_rows": null,
      "grid_column": null,
      "grid_gap": null,
      "grid_row": null,
      "grid_template_areas": null,
      "grid_template_columns": null,
      "grid_template_rows": null,
      "height": null,
      "justify_content": null,
      "justify_items": null,
      "left": null,
      "margin": null,
      "max_height": null,
      "max_width": null,
      "min_height": null,
      "min_width": null,
      "object_fit": null,
      "object_position": null,
      "order": null,
      "overflow": null,
      "overflow_x": null,
      "overflow_y": null,
      "padding": null,
      "right": null,
      "top": null,
      "visibility": null,
      "width": null
     }
    },
    "68481ce699f5403cb5333561908059eb": {
     "model_module": "@jupyter-widgets/controls",
     "model_name": "DescriptionStyleModel",
     "state": {
      "_model_module": "@jupyter-widgets/controls",
      "_model_module_version": "1.5.0",
      "_model_name": "DescriptionStyleModel",
      "_view_count": null,
      "_view_module": "@jupyter-widgets/base",
      "_view_module_version": "1.2.0",
      "_view_name": "StyleView",
      "description_width": ""
     }
    },
    "71f8a363773f4853b8e10f86c2a97c3d": {
     "model_module": "@jupyter-widgets/controls",
     "model_name": "DescriptionStyleModel",
     "state": {
      "_model_module": "@jupyter-widgets/controls",
      "_model_module_version": "1.5.0",
      "_model_name": "DescriptionStyleModel",
      "_view_count": null,
      "_view_module": "@jupyter-widgets/base",
      "_view_module_version": "1.2.0",
      "_view_name": "StyleView",
      "description_width": ""
     }
    },
    "7f18d9bd96f940aa857e1121cefa0eef": {
     "model_module": "@jupyter-widgets/controls",
     "model_name": "FloatProgressModel",
     "state": {
      "_dom_classes": [],
      "_model_module": "@jupyter-widgets/controls",
      "_model_module_version": "1.5.0",
      "_model_name": "FloatProgressModel",
      "_view_count": null,
      "_view_module": "@jupyter-widgets/controls",
      "_view_module_version": "1.5.0",
      "_view_name": "ProgressView",
      "bar_style": "success",
      "description": "Downloading: 100%",
      "description_tooltip": null,
      "layout": "IPY_MODEL_1635d7855dab4bbf9ac116a71a7a59d8",
      "max": 466062,
      "min": 0,
      "orientation": "horizontal",
      "style": "IPY_MODEL_d576b6a9f59f40d39b8edc3e7d1fe52a",
      "value": 466062
     }
    },
    "835d7ce53f724ccf8427f6a0e2cc7245": {
     "model_module": "@jupyter-widgets/controls",
     "model_name": "HTMLModel",
     "state": {
      "_dom_classes": [],
      "_model_module": "@jupyter-widgets/controls",
      "_model_module_version": "1.5.0",
      "_model_name": "HTMLModel",
      "_view_count": null,
      "_view_module": "@jupyter-widgets/controls",
      "_view_module_version": "1.5.0",
      "_view_name": "HTMLView",
      "description": "",
      "description_tooltip": null,
      "layout": "IPY_MODEL_3decc831134d41909a78c35c2609654d",
      "placeholder": "​",
      "style": "IPY_MODEL_9d636d43d50e498ca3b39931ed1dc04b",
      "value": " 442/442 [00:00&lt;00:00, 1.22kB/s]"
     }
    },
    "85f1547f69864fffa628bd7820b876c2": {
     "model_module": "@jupyter-widgets/controls",
     "model_name": "ProgressStyleModel",
     "state": {
      "_model_module": "@jupyter-widgets/controls",
      "_model_module_version": "1.5.0",
      "_model_name": "ProgressStyleModel",
      "_view_count": null,
      "_view_module": "@jupyter-widgets/base",
      "_view_module_version": "1.2.0",
      "_view_name": "StyleView",
      "bar_color": null,
      "description_width": "initial"
     }
    },
    "8af3f58a8f46486b9302fa0a67506039": {
     "model_module": "@jupyter-widgets/controls",
     "model_name": "HBoxModel",
     "state": {
      "_dom_classes": [],
      "_model_module": "@jupyter-widgets/controls",
      "_model_module_version": "1.5.0",
      "_model_name": "HBoxModel",
      "_view_count": null,
      "_view_module": "@jupyter-widgets/controls",
      "_view_module_version": "1.5.0",
      "_view_name": "HBoxView",
      "box_style": "",
      "children": [
       "IPY_MODEL_4af0c1c67b8e459aa195d21e70669158",
       "IPY_MODEL_3d42c1991a1242f49df5caf04474fe35"
      ],
      "layout": "IPY_MODEL_f4513739b77849f3bad55a4b2af53ec2"
     }
    },
    "8ed3df64821e46e3a7210ddab2d981f8": {
     "model_module": "@jupyter-widgets/controls",
     "model_name": "HBoxModel",
     "state": {
      "_dom_classes": [],
      "_model_module": "@jupyter-widgets/controls",
      "_model_module_version": "1.5.0",
      "_model_name": "HBoxModel",
      "_view_count": null,
      "_view_module": "@jupyter-widgets/controls",
      "_view_module_version": "1.5.0",
      "_view_name": "HBoxView",
      "box_style": "",
      "children": [
       "IPY_MODEL_7f18d9bd96f940aa857e1121cefa0eef",
       "IPY_MODEL_45a55516cdc445a7a51aea15337b74b4"
      ],
      "layout": "IPY_MODEL_ba213abdd4cf45369dec851ca650e1df"
     }
    },
    "960637a5ab3541609ed93e8728ab50a4": {
     "model_module": "@jupyter-widgets/controls",
     "model_name": "DescriptionStyleModel",
     "state": {
      "_model_module": "@jupyter-widgets/controls",
      "_model_module_version": "1.5.0",
      "_model_name": "DescriptionStyleModel",
      "_view_count": null,
      "_view_module": "@jupyter-widgets/base",
      "_view_module_version": "1.2.0",
      "_view_name": "StyleView",
      "description_width": ""
     }
    },
    "9a788a61d55e43bcbfeb73e41a024932": {
     "model_module": "@jupyter-widgets/base",
     "model_name": "LayoutModel",
     "state": {
      "_model_module": "@jupyter-widgets/base",
      "_model_module_version": "1.2.0",
      "_model_name": "LayoutModel",
      "_view_count": null,
      "_view_module": "@jupyter-widgets/base",
      "_view_module_version": "1.2.0",
      "_view_name": "LayoutView",
      "align_content": null,
      "align_items": null,
      "align_self": null,
      "border": null,
      "bottom": null,
      "display": null,
      "flex": null,
      "flex_flow": null,
      "grid_area": null,
      "grid_auto_columns": null,
      "grid_auto_flow": null,
      "grid_auto_rows": null,
      "grid_column": null,
      "grid_gap": null,
      "grid_row": null,
      "grid_template_areas": null,
      "grid_template_columns": null,
      "grid_template_rows": null,
      "height": null,
      "justify_content": null,
      "justify_items": null,
      "left": null,
      "margin": null,
      "max_height": null,
      "max_width": null,
      "min_height": null,
      "min_width": null,
      "object_fit": null,
      "object_position": null,
      "order": null,
      "overflow": null,
      "overflow_x": null,
      "overflow_y": null,
      "padding": null,
      "right": null,
      "top": null,
      "visibility": null,
      "width": null
     }
    },
    "9d636d43d50e498ca3b39931ed1dc04b": {
     "model_module": "@jupyter-widgets/controls",
     "model_name": "DescriptionStyleModel",
     "state": {
      "_model_module": "@jupyter-widgets/controls",
      "_model_module_version": "1.5.0",
      "_model_name": "DescriptionStyleModel",
      "_view_count": null,
      "_view_module": "@jupyter-widgets/base",
      "_view_module_version": "1.2.0",
      "_view_name": "StyleView",
      "description_width": ""
     }
    },
    "a8156c60f9d645b6ab4c1908d185ab7a": {
     "model_module": "@jupyter-widgets/controls",
     "model_name": "HBoxModel",
     "state": {
      "_dom_classes": [],
      "_model_module": "@jupyter-widgets/controls",
      "_model_module_version": "1.5.0",
      "_model_name": "HBoxModel",
      "_view_count": null,
      "_view_module": "@jupyter-widgets/controls",
      "_view_module_version": "1.5.0",
      "_view_name": "HBoxView",
      "box_style": "",
      "children": [
       "IPY_MODEL_ba06b649d93c4ea5b89f772e5f6d8e9b",
       "IPY_MODEL_c349299da95c4409860962bfcdcc628f"
      ],
      "layout": "IPY_MODEL_b0383d18280f48a69c312905f153f4f7"
     }
    },
    "ade4b6813ebc401e81af65b81c532c42": {
     "model_module": "@jupyter-widgets/base",
     "model_name": "LayoutModel",
     "state": {
      "_model_module": "@jupyter-widgets/base",
      "_model_module_version": "1.2.0",
      "_model_name": "LayoutModel",
      "_view_count": null,
      "_view_module": "@jupyter-widgets/base",
      "_view_module_version": "1.2.0",
      "_view_name": "LayoutView",
      "align_content": null,
      "align_items": null,
      "align_self": null,
      "border": null,
      "bottom": null,
      "display": null,
      "flex": null,
      "flex_flow": null,
      "grid_area": null,
      "grid_auto_columns": null,
      "grid_auto_flow": null,
      "grid_auto_rows": null,
      "grid_column": null,
      "grid_gap": null,
      "grid_row": null,
      "grid_template_areas": null,
      "grid_template_columns": null,
      "grid_template_rows": null,
      "height": null,
      "justify_content": null,
      "justify_items": null,
      "left": null,
      "margin": null,
      "max_height": null,
      "max_width": null,
      "min_height": null,
      "min_width": null,
      "object_fit": null,
      "object_position": null,
      "order": null,
      "overflow": null,
      "overflow_x": null,
      "overflow_y": null,
      "padding": null,
      "right": null,
      "top": null,
      "visibility": null,
      "width": null
     }
    },
    "b0383d18280f48a69c312905f153f4f7": {
     "model_module": "@jupyter-widgets/base",
     "model_name": "LayoutModel",
     "state": {
      "_model_module": "@jupyter-widgets/base",
      "_model_module_version": "1.2.0",
      "_model_name": "LayoutModel",
      "_view_count": null,
      "_view_module": "@jupyter-widgets/base",
      "_view_module_version": "1.2.0",
      "_view_name": "LayoutView",
      "align_content": null,
      "align_items": null,
      "align_self": null,
      "border": null,
      "bottom": null,
      "display": null,
      "flex": null,
      "flex_flow": null,
      "grid_area": null,
      "grid_auto_columns": null,
      "grid_auto_flow": null,
      "grid_auto_rows": null,
      "grid_column": null,
      "grid_gap": null,
      "grid_row": null,
      "grid_template_areas": null,
      "grid_template_columns": null,
      "grid_template_rows": null,
      "height": null,
      "justify_content": null,
      "justify_items": null,
      "left": null,
      "margin": null,
      "max_height": null,
      "max_width": null,
      "min_height": null,
      "min_width": null,
      "object_fit": null,
      "object_position": null,
      "order": null,
      "overflow": null,
      "overflow_x": null,
      "overflow_y": null,
      "padding": null,
      "right": null,
      "top": null,
      "visibility": null,
      "width": null
     }
    },
    "b70b7dfbcd0c4a50bfe45ff970a80558": {
     "model_module": "@jupyter-widgets/base",
     "model_name": "LayoutModel",
     "state": {
      "_model_module": "@jupyter-widgets/base",
      "_model_module_version": "1.2.0",
      "_model_name": "LayoutModel",
      "_view_count": null,
      "_view_module": "@jupyter-widgets/base",
      "_view_module_version": "1.2.0",
      "_view_name": "LayoutView",
      "align_content": null,
      "align_items": null,
      "align_self": null,
      "border": null,
      "bottom": null,
      "display": null,
      "flex": null,
      "flex_flow": null,
      "grid_area": null,
      "grid_auto_columns": null,
      "grid_auto_flow": null,
      "grid_auto_rows": null,
      "grid_column": null,
      "grid_gap": null,
      "grid_row": null,
      "grid_template_areas": null,
      "grid_template_columns": null,
      "grid_template_rows": null,
      "height": null,
      "justify_content": null,
      "justify_items": null,
      "left": null,
      "margin": null,
      "max_height": null,
      "max_width": null,
      "min_height": null,
      "min_width": null,
      "object_fit": null,
      "object_position": null,
      "order": null,
      "overflow": null,
      "overflow_x": null,
      "overflow_y": null,
      "padding": null,
      "right": null,
      "top": null,
      "visibility": null,
      "width": null
     }
    },
    "b9769cbab9c74a6285d35011c24d64b6": {
     "model_module": "@jupyter-widgets/controls",
     "model_name": "HBoxModel",
     "state": {
      "_dom_classes": [],
      "_model_module": "@jupyter-widgets/controls",
      "_model_module_version": "1.5.0",
      "_model_name": "HBoxModel",
      "_view_count": null,
      "_view_module": "@jupyter-widgets/controls",
      "_view_module_version": "1.5.0",
      "_view_name": "HBoxView",
      "box_style": "",
      "children": [
       "IPY_MODEL_407c0b5ea9c048d883c8299701e24177",
       "IPY_MODEL_835d7ce53f724ccf8427f6a0e2cc7245"
      ],
      "layout": "IPY_MODEL_160dbb7885e04b1986563586f8600473"
     }
    },
    "ba06b649d93c4ea5b89f772e5f6d8e9b": {
     "model_module": "@jupyter-widgets/controls",
     "model_name": "FloatProgressModel",
     "state": {
      "_dom_classes": [],
      "_model_module": "@jupyter-widgets/controls",
      "_model_module_version": "1.5.0",
      "_model_name": "FloatProgressModel",
      "_view_count": null,
      "_view_module": "@jupyter-widgets/controls",
      "_view_module_version": "1.5.0",
      "_view_name": "ProgressView",
      "bar_style": "success",
      "description": "Downloading: 100%",
      "description_tooltip": null,
      "layout": "IPY_MODEL_ade4b6813ebc401e81af65b81c532c42",
      "max": 267967963,
      "min": 0,
      "orientation": "horizontal",
      "style": "IPY_MODEL_dcf15b160e064381ba9bda1841cd2e7c",
      "value": 267967963
     }
    },
    "ba213abdd4cf45369dec851ca650e1df": {
     "model_module": "@jupyter-widgets/base",
     "model_name": "LayoutModel",
     "state": {
      "_model_module": "@jupyter-widgets/base",
      "_model_module_version": "1.2.0",
      "_model_name": "LayoutModel",
      "_view_count": null,
      "_view_module": "@jupyter-widgets/base",
      "_view_module_version": "1.2.0",
      "_view_name": "LayoutView",
      "align_content": null,
      "align_items": null,
      "align_self": null,
      "border": null,
      "bottom": null,
      "display": null,
      "flex": null,
      "flex_flow": null,
      "grid_area": null,
      "grid_auto_columns": null,
      "grid_auto_flow": null,
      "grid_auto_rows": null,
      "grid_column": null,
      "grid_gap": null,
      "grid_row": null,
      "grid_template_areas": null,
      "grid_template_columns": null,
      "grid_template_rows": null,
      "height": null,
      "justify_content": null,
      "justify_items": null,
      "left": null,
      "margin": null,
      "max_height": null,
      "max_width": null,
      "min_height": null,
      "min_width": null,
      "object_fit": null,
      "object_position": null,
      "order": null,
      "overflow": null,
      "overflow_x": null,
      "overflow_y": null,
      "padding": null,
      "right": null,
      "top": null,
      "visibility": null,
      "width": null
     }
    },
    "c349299da95c4409860962bfcdcc628f": {
     "model_module": "@jupyter-widgets/controls",
     "model_name": "HTMLModel",
     "state": {
      "_dom_classes": [],
      "_model_module": "@jupyter-widgets/controls",
      "_model_module_version": "1.5.0",
      "_model_name": "HTMLModel",
      "_view_count": null,
      "_view_module": "@jupyter-widgets/controls",
      "_view_module_version": "1.5.0",
      "_view_name": "HTMLView",
      "description": "",
      "description_tooltip": null,
      "layout": "IPY_MODEL_10d22ab733144da682f7ab0303298003",
      "placeholder": "​",
      "style": "IPY_MODEL_71f8a363773f4853b8e10f86c2a97c3d",
      "value": " 268M/268M [00:10&lt;00:00, 25.3MB/s]"
     }
    },
    "d576b6a9f59f40d39b8edc3e7d1fe52a": {
     "model_module": "@jupyter-widgets/controls",
     "model_name": "ProgressStyleModel",
     "state": {
      "_model_module": "@jupyter-widgets/controls",
      "_model_module_version": "1.5.0",
      "_model_name": "ProgressStyleModel",
      "_view_count": null,
      "_view_module": "@jupyter-widgets/base",
      "_view_module_version": "1.2.0",
      "_view_name": "StyleView",
      "bar_color": null,
      "description_width": "initial"
     }
    },
    "d61a4c3389ed47ddbc358ea09c4814e7": {
     "model_module": "@jupyter-widgets/controls",
     "model_name": "HTMLModel",
     "state": {
      "_dom_classes": [],
      "_model_module": "@jupyter-widgets/controls",
      "_model_module_version": "1.5.0",
      "_model_name": "HTMLModel",
      "_view_count": null,
      "_view_module": "@jupyter-widgets/controls",
      "_view_module_version": "1.5.0",
      "_view_name": "HTMLView",
      "description": "",
      "description_tooltip": null,
      "layout": "IPY_MODEL_d9dae45523b445c2829132895f603451",
      "placeholder": "​",
      "style": "IPY_MODEL_960637a5ab3541609ed93e8728ab50a4",
      "value": " 28.0/28.0 [00:00&lt;00:00, 102B/s]"
     }
    },
    "d9dae45523b445c2829132895f603451": {
     "model_module": "@jupyter-widgets/base",
     "model_name": "LayoutModel",
     "state": {
      "_model_module": "@jupyter-widgets/base",
      "_model_module_version": "1.2.0",
      "_model_name": "LayoutModel",
      "_view_count": null,
      "_view_module": "@jupyter-widgets/base",
      "_view_module_version": "1.2.0",
      "_view_name": "LayoutView",
      "align_content": null,
      "align_items": null,
      "align_self": null,
      "border": null,
      "bottom": null,
      "display": null,
      "flex": null,
      "flex_flow": null,
      "grid_area": null,
      "grid_auto_columns": null,
      "grid_auto_flow": null,
      "grid_auto_rows": null,
      "grid_column": null,
      "grid_gap": null,
      "grid_row": null,
      "grid_template_areas": null,
      "grid_template_columns": null,
      "grid_template_rows": null,
      "height": null,
      "justify_content": null,
      "justify_items": null,
      "left": null,
      "margin": null,
      "max_height": null,
      "max_width": null,
      "min_height": null,
      "min_width": null,
      "object_fit": null,
      "object_position": null,
      "order": null,
      "overflow": null,
      "overflow_x": null,
      "overflow_y": null,
      "padding": null,
      "right": null,
      "top": null,
      "visibility": null,
      "width": null
     }
    },
    "dcf15b160e064381ba9bda1841cd2e7c": {
     "model_module": "@jupyter-widgets/controls",
     "model_name": "ProgressStyleModel",
     "state": {
      "_model_module": "@jupyter-widgets/controls",
      "_model_module_version": "1.5.0",
      "_model_name": "ProgressStyleModel",
      "_view_count": null,
      "_view_module": "@jupyter-widgets/base",
      "_view_module_version": "1.2.0",
      "_view_name": "StyleView",
      "bar_color": null,
      "description_width": "initial"
     }
    },
    "ed6b74b0d7614d77912fe5fd05d9d3ae": {
     "model_module": "@jupyter-widgets/controls",
     "model_name": "HBoxModel",
     "state": {
      "_dom_classes": [],
      "_model_module": "@jupyter-widgets/controls",
      "_model_module_version": "1.5.0",
      "_model_name": "HBoxModel",
      "_view_count": null,
      "_view_module": "@jupyter-widgets/controls",
      "_view_module_version": "1.5.0",
      "_view_name": "HBoxView",
      "box_style": "",
      "children": [
       "IPY_MODEL_f8784237e22f4f5ca077a38c26ddb921",
       "IPY_MODEL_d61a4c3389ed47ddbc358ea09c4814e7"
      ],
      "layout": "IPY_MODEL_241b3242f8d143269e083c1b08ab9cfc"
     }
    },
    "f4513739b77849f3bad55a4b2af53ec2": {
     "model_module": "@jupyter-widgets/base",
     "model_name": "LayoutModel",
     "state": {
      "_model_module": "@jupyter-widgets/base",
      "_model_module_version": "1.2.0",
      "_model_name": "LayoutModel",
      "_view_count": null,
      "_view_module": "@jupyter-widgets/base",
      "_view_module_version": "1.2.0",
      "_view_name": "LayoutView",
      "align_content": null,
      "align_items": null,
      "align_self": null,
      "border": null,
      "bottom": null,
      "display": null,
      "flex": null,
      "flex_flow": null,
      "grid_area": null,
      "grid_auto_columns": null,
      "grid_auto_flow": null,
      "grid_auto_rows": null,
      "grid_column": null,
      "grid_gap": null,
      "grid_row": null,
      "grid_template_areas": null,
      "grid_template_columns": null,
      "grid_template_rows": null,
      "height": null,
      "justify_content": null,
      "justify_items": null,
      "left": null,
      "margin": null,
      "max_height": null,
      "max_width": null,
      "min_height": null,
      "min_width": null,
      "object_fit": null,
      "object_position": null,
      "order": null,
      "overflow": null,
      "overflow_x": null,
      "overflow_y": null,
      "padding": null,
      "right": null,
      "top": null,
      "visibility": null,
      "width": null
     }
    },
    "f8784237e22f4f5ca077a38c26ddb921": {
     "model_module": "@jupyter-widgets/controls",
     "model_name": "FloatProgressModel",
     "state": {
      "_dom_classes": [],
      "_model_module": "@jupyter-widgets/controls",
      "_model_module_version": "1.5.0",
      "_model_name": "FloatProgressModel",
      "_view_count": null,
      "_view_module": "@jupyter-widgets/controls",
      "_view_module_version": "1.5.0",
      "_view_name": "ProgressView",
      "bar_style": "success",
      "description": "Downloading: 100%",
      "description_tooltip": null,
      "layout": "IPY_MODEL_5d7f8ed9692d4e1692ce96e6c488367c",
      "max": 28,
      "min": 0,
      "orientation": "horizontal",
      "style": "IPY_MODEL_15c11ffc0bbf4feeba80a58aed0baa6f",
      "value": 28
     }
    }
   }
  }
 },
 "nbformat": 4,
 "nbformat_minor": 1
}
